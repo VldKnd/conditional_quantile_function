{
 "cells": [
  {
   "cell_type": "markdown",
   "id": "138531b2",
   "metadata": {},
   "source": [
    "Best attempts at reproducing minimal version of an algorithm proposed at https://arxiv.org/abs/2205.14977. Original code can be found [here](https://github.com/vistalab-technion/vqr)"
   ]
  },
  {
   "cell_type": "code",
   "execution_count": 2,
   "id": "3cc35d99",
   "metadata": {},
   "outputs": [],
   "source": [
    "from sklearn.preprocessing import StandardScaler\n",
    "from data_utils import create_joint_x_y\n",
    "import numpy as np\n",
    "\n",
    "def create_multidimensional_0_1_grid(T: int, d: int):\n",
    "    \"\"\"\n",
    "    Create a evenly spaced multidimensional grid of size T^d.\n",
    "    \"\"\"\n",
    "    U_grids = np.meshgrid(*([(np.arange(T) + 1) * (1 / T)] * d))\n",
    "    U = np.stack([U_grid.reshape(-1) for U_grid in U_grids], axis=1)\n",
    "    return U\n",
    "\n",
    "num_points_to_generate = 750\n",
    "\n",
    "X, Y = create_joint_x_y(num_points_to_generate)\n",
    "\n",
    "n, q = Y.shape\n",
    "scaler = StandardScaler()\n",
    "X_scaled = scaler.fit_transform(X)\n",
    "X_scaled = X_scaled[:, None] if len(X_scaled.shape) == 1 else X_scaled\n",
    "U = create_multidimensional_0_1_grid(27, q)\n",
    "\n",
    "m = U.shape[0]\n",
    "\n",
    "nu = np.ones((n, 1)) / n\n",
    "mu = np.ones((m, 1)) / m"
   ]
  },
  {
   "cell_type": "code",
   "execution_count": 3,
   "id": "d5ff9a34",
   "metadata": {},
   "outputs": [
    {
     "name": "stderr",
     "output_type": "stream",
     "text": [
      "/var/folders/df/4t1l5hys3y7f1qn1w20x2cjw0000gn/T/ipykernel_4532/64105485.py:29: UserWarning: The use of `x.T` on tensors of dimension other than 2 to reverse their shape is deprecated and it will throw an error in a future release. Consider `x.mT` to transpose batches of matrices or `x.permute(*torch.arange(x.ndim - 1, -1, -1))` to reverse the dimensions of a tensor. (Triggered internally at /Users/runner/work/pytorch/pytorch/pytorch/aten/src/ATen/native/TensorShape.cpp:4416.)\n",
      "  objective = psi_tensor.T @ nu_tensor + phi_tensor.T @ mu_tensor # (N, 1).T @ (N, 1) + (m, 1).T @ (m, 1)\n"
     ]
    }
   ],
   "source": [
    "import torch\n",
    "torch.manual_seed(0)\n",
    "\n",
    "device_and_dtype_specifications = dict(dtype=torch.float64, device=torch.device(\"cpu\"))\n",
    "epsilon = 0.1\n",
    "num_epochs = 5000\n",
    "\n",
    "U_tensor = torch.tensor(U, **device_and_dtype_specifications)\n",
    "Y_tensor = torch.tensor(Y, **device_and_dtype_specifications)\n",
    "X_tensor = torch.tensor(X_scaled, **device_and_dtype_specifications)\n",
    "nu_tensor = torch.tensor(nu, **device_and_dtype_specifications)\n",
    "mu_tensor = torch.tensor(mu, **device_and_dtype_specifications)\n",
    "\n",
    "psi_tensor = torch.full(size=(Y_tensor.shape[0], 1), fill_value=0.1, requires_grad=True, **device_and_dtype_specifications)\n",
    "b_tensor = torch.zeros(*(m, 1), requires_grad=True, **device_and_dtype_specifications)\n",
    "\n",
    "optimizer = torch.optim.AdamW([dict(params=[b_tensor, psi_tensor])], lr=0.1)\n",
    "\n",
    "for epoch_idx in range(num_epochs):\n",
    "        optimizer.zero_grad()\n",
    "\n",
    "        phi_tensor = epsilon * torch.logsumexp(\n",
    "                U_tensor @ Y_tensor.T  - # (m, q) @ (q, N)\n",
    "                b_tensor @ X_tensor.T - # (m, 1) @ (1, N)\n",
    "                psi_tensor.reshape(1, -1) # (N, 1).reshape(1, N)\n",
    "                , dim = 1\n",
    "        ) # (m, 1)\n",
    "\n",
    "        objective = psi_tensor.T @ nu_tensor + phi_tensor.T @ mu_tensor # (N, 1).T @ (N, 1) + (m, 1).T @ (m, 1)\n",
    "\n",
    "        objective.backward()\n",
    "        optimizer.step()\n",
    "\n",
    "with torch.no_grad():\n",
    "        phi_tensor = epsilon * torch.logsumexp(\n",
    "                U_tensor @ Y_tensor.T  - # (m, q) @ (q, N)\n",
    "                b_tensor @ X_tensor.T - # (m, 1) @ (1, N)\n",
    "                psi_tensor.reshape(1, -1) # (N, 1).reshape(1, N)\n",
    "                , dim = 1\n",
    "        ) # (m, 1)\n",
    "\n",
    "A = phi_tensor.detach().cpu().numpy() # (m, 1)\n",
    "B = b_tensor.detach().cpu().numpy() # (m, 1)"
   ]
  },
  {
   "cell_type": "code",
   "execution_count": 4,
   "id": "8c2978d4",
   "metadata": {},
   "outputs": [],
   "source": [
    "x = X_scaled[0:1, :]\n",
    "phi_u = B @ x + A[:, None]  # result is (T**d, 1)"
   ]
  },
  {
   "cell_type": "code",
   "execution_count": 6,
   "id": "3d97702f",
   "metadata": {},
   "outputs": [],
   "source": [
    "import matplotlib.pyplot as plt\n",
    "\n",
    "%matplotlib qt\n",
    "\n",
    "fig = plt.figure(figsize=(12, 10))\n",
    "ax = fig.add_subplot(111, projection='3d')\n",
    "\n",
    "scatter = ax.scatter(U[:, 0], U[:, 1], phi_u[:, 0], color='red', marker='o', s=30, alpha=0.6)\n",
    "ax.grid(True)\n",
    "\n",
    "ax.view_init(elev=20, azim=120)\n",
    "ax.set_xlabel('u1')\n",
    "ax.set_ylabel('u2')\n",
    "ax.set_zlabel('phi_u')\n",
    "\n",
    "plt.show()"
   ]
  },
  {
   "cell_type": "code",
   "execution_count": 18,
   "id": "7dc27bfc",
   "metadata": {},
   "outputs": [],
   "source": [
    "phi_on_the_grid = phi_u.reshape((27,) * q)\n",
    "\n",
    "dQ_du = (1 / 27) * np.diff(phi_on_the_grid, axis=0)"
   ]
  },
  {
   "cell_type": "code",
   "execution_count": 19,
   "id": "c785cc49",
   "metadata": {},
   "outputs": [
    {
     "data": {
      "text/plain": [
       "(26, 27)"
      ]
     },
     "execution_count": 19,
     "metadata": {},
     "output_type": "execute_result"
    }
   ],
   "source": [
    "dQ_du.shape"
   ]
  },
  {
   "cell_type": "code",
   "execution_count": 11,
   "id": "29ea02ee",
   "metadata": {},
   "outputs": [
    {
     "data": {
      "image/png": "[encoded data removed]",
      "text/plain": [
       "<Figure size 640x480 with 1 Axes>"
      ]
     },
     "metadata": {},
     "output_type": "display_data"
    }
   ],
   "source": [
    "%matplotlib inline\n",
    "\n",
    "plt.scatter(U[:, 0], U[:, 1], color='red', marker='o', s=30, alpha=0.6)\n",
    "plt.scatter(U[:20, 0], U[:20, 1], color='blue', marker='o', s=30, alpha=0.6)\n",
    "plt.show()"
   ]
  },
  {
   "cell_type": "code",
   "execution_count": null,
   "id": "3b56c3e2",
   "metadata": {},
   "outputs": [],
   "source": [
    "\n",
    "Q = np.reshape(Y_hat, newshape=(T,) * d)\n",
    "\n",
    "Q_functions: List[Array] = [np.array([np.nan])] * d\n",
    "for axis in reversed(range(d)):\n",
    "    # Calculate derivative along this axis\n",
    "    dQ_du = (1 / T) * np.diff(Q, axis=axis)\n",
    "\n",
    "    # Duplicate first \"row\" along axis and insert it first\n",
    "    pad_with = [\n",
    "        (0, 0),\n",
    "    ] * d\n",
    "    pad_with[axis] = (1, 0)\n",
    "    dQ_du = np.pad(dQ_du, pad_width=pad_with, mode=\"edge\")\n",
    "\n",
    "    Q_functions[d - 1 - axis] = dQ_du * T**2\n",
    "\n",
    "return tuple(Q_functions)\n"
   ]
  }
 ],
 "metadata": {
  "kernelspec": {
   "display_name": "vector_quantile_regression",
   "language": "python",
   "name": "vector_quantile_regression"
  },
  "language_info": {
   "codemirror_mode": {
    "name": "ipython",
    "version": 3
   },
   "file_extension": ".py",
   "mimetype": "text/x-python",
   "name": "python",
   "nbconvert_exporter": "python",
   "pygments_lexer": "ipython3",
   "version": "3.13.2"
  }
 },
 "nbformat": 4,
 "nbformat_minor": 5
}
