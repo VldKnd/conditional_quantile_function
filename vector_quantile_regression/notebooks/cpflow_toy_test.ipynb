{
 "cells": [
  {
   "cell_type": "markdown",
   "id": "a192ade8",
   "metadata": {},
   "source": [
    "## Data"
   ]
  },
  {
   "cell_type": "code",
   "execution_count": 1,
   "id": "27309f3f",
   "metadata": {},
   "outputs": [],
   "source": [
    "from data_utils import create_joint_x_y\n",
    "from sklearn.preprocessing import StandardScaler\n",
    "import numpy as np\n",
    "\n",
    "from tqdm.auto import tqdm\n",
    "\n",
    "\n",
    "num_points_to_generate = 1000\n",
    "num_latent_points_to_generate = 1000\n",
    "\n",
    "\n",
    "scaler = StandardScaler()\n",
    "X, Y = create_joint_x_y(num_points_to_generate)\n",
    "X_test, Y_test = create_joint_x_y(num_points_to_generate)\n",
    "X_scaled = scaler.fit_transform(X)\n",
    "X_test_scaled = scaler.transform(X_test)\n",
    "\n",
    "n, d = Y.shape\n",
    "U = np.random.normal(size=(num_latent_points_to_generate, d))\n",
    "m = U.shape[0]\n",
    "\n",
    "nu = np.ones((n, 1)) / n\n",
    "mu = np.ones((m, 1)) / m"
   ]
  },
  {
   "cell_type": "code",
   "execution_count": null,
   "id": "efa0f2c2",
   "metadata": {},
   "outputs": [],
   "source": []
  },
  {
   "cell_type": "code",
   "execution_count": null,
   "id": "fc186943",
   "metadata": {},
   "outputs": [],
   "source": []
  },
  {
   "cell_type": "code",
   "execution_count": null,
   "id": "b298b6c7",
   "metadata": {},
   "outputs": [],
   "source": []
  },
  {
   "cell_type": "markdown",
   "id": "fa4b54bd",
   "metadata": {},
   "source": [
    "## ICNN "
   ]
  },
  {
   "cell_type": "code",
   "execution_count": 2,
   "id": "f9e87516",
   "metadata": {},
   "outputs": [],
   "source": [
    "import gc\n",
    "from scipy import linalg\n",
    "import numpy as np\n",
    "import matplotlib\n",
    "import matplotlib.pyplot as plt\n",
    "import torch"
   ]
  },
  {
   "cell_type": "code",
   "execution_count": 3,
   "id": "ef1b2d98",
   "metadata": {},
   "outputs": [],
   "source": [
    "import sys\n",
    "sys.path.insert(0, '../third_party/cp-flow')\n",
    "from lib.flows import SequentialFlow, DeepConvexFlow, LinearIAF\n",
    "from lib.icnn import ICNN3, PICNN\n",
    "from lib import distributions\n",
    "from data.toy_data import Gaussian as ToyData\n",
    "from lib.utils import makedirs"
   ]
  },
  {
   "cell_type": "code",
   "execution_count": 4,
   "id": "3433a908",
   "metadata": {},
   "outputs": [],
   "source": [
    "depth = 5\n",
    "k = 64\n",
    "lr = 0.05\n",
    "factor = 0.5\n",
    "patience = 2000\n",
    "num_epochs = 100\n",
    "print_every = 10\n",
    "\n",
    "batch_size_train = 128\n",
    "batch_size_test = 64\n",
    "\n",
    "dimx = d\n",
    "dimc = X_scaled.shape[1]\n",
    "\n",
    "if dimx == 2:\n",
    "    m = np.array([1.5, 1.0])\n",
    "    C = np.array([[0.9, -0.75], [-0.75, 0.9]])  # fixed for visualization\n",
    "else:\n",
    "    m = None\n",
    "    C = None\n"
   ]
  },
  {
   "cell_type": "code",
   "execution_count": 5,
   "id": "15700c37",
   "metadata": {},
   "outputs": [
    {
     "data": {
      "text/plain": [
       "2"
      ]
     },
     "execution_count": 5,
     "metadata": {},
     "output_type": "execute_result"
    }
   ],
   "source": [
    "dimx"
   ]
  },
  {
   "cell_type": "code",
   "execution_count": 6,
   "id": "a9133a9a",
   "metadata": {},
   "outputs": [],
   "source": [
    "device = torch.device(\"cuda\" if torch.cuda.is_available() else \"cpu\")"
   ]
  },
  {
   "cell_type": "code",
   "execution_count": 7,
   "id": "a1414767",
   "metadata": {},
   "outputs": [],
   "source": [
    "X_scaled_tensor = torch.tensor(X_scaled, dtype=torch.float32, device=device)\n",
    "Y_tensor = torch.tensor(Y, dtype=torch.float32, device=device)\n",
    "\n",
    "X_test_scaled_tensor = torch.tensor(X_test_scaled, dtype=torch.float32, device=device)\n",
    "Y_test_tensor = torch.tensor(Y_test, dtype=torch.float32, device=device)\n",
    "\n",
    "train_loader = torch.utils.data.DataLoader(\n",
    "    torch.utils.data.TensorDataset(X_scaled_tensor, Y_tensor),\n",
    "    batch_size=batch_size_train,\n",
    "    shuffle=True,\n",
    ")\n",
    "\n",
    "test_loader = torch.utils.data.DataLoader(\n",
    "    torch.utils.data.TensorDataset(X_test_scaled_tensor, Y_test_tensor),\n",
    "    batch_size=batch_size_test,\n",
    "    shuffle=True,\n",
    ")"
   ]
  },
  {
   "cell_type": "code",
   "execution_count": null,
   "id": "ec0b9ce9",
   "metadata": {},
   "outputs": [],
   "source": []
  },
  {
   "cell_type": "code",
   "execution_count": 8,
   "id": "31309618",
   "metadata": {},
   "outputs": [],
   "source": [
    "results = list()"
   ]
  },
  {
   "cell_type": "code",
   "execution_count": 9,
   "id": "c335f8c7",
   "metadata": {},
   "outputs": [],
   "source": [
    "# icnn = ICNN3(dimx, k, depth, symm_act_first=False, softplus_type='gaussian_softplus', zero_softplus=True)\n",
    "icnn = PICNN(dim=dimx, dimh=k, dimc=dimc, num_hidden_layers=depth, symm_act_first=False, softplus_type='gaussian_softplus', zero_softplus=True)\n",
    "\n",
    "flow = SequentialFlow(\n",
    "    [DeepConvexFlow(icnn, dimx, unbiased=False, bias_w1=-0.0)]\n",
    ")"
   ]
  },
  {
   "cell_type": "code",
   "execution_count": 10,
   "id": "e73d3db0",
   "metadata": {},
   "outputs": [],
   "source": [
    "optim = torch.optim.Adam(flow.parameters(), lr=lr)\n",
    "sch = torch.optim.lr_scheduler.CosineAnnealingLR(optim, num_epochs * len(train_loader), eta_min=0)\n",
    "\n",
    "cuda = torch.cuda.is_available()\n",
    "if cuda:\n",
    "    flow = flow.cuda()"
   ]
  },
  {
   "cell_type": "code",
   "execution_count": 11,
   "id": "83aeeb37",
   "metadata": {},
   "outputs": [
    {
     "name": "stdout",
     "output_type": "stream",
     "text": [
      "cond.shape: torch.Size([128, 1])\n",
      "y.shape: torch.Size([128, 2])\n",
      "flow.logp(y, context=cond).shape: torch.Size([128])\n",
      "flow.logp(y, context=cond).mean().shape: torch.Size([])\n"
     ]
    }
   ],
   "source": [
    "# init\n",
    "for cond, y in train_loader:\n",
    "    if cuda:\n",
    "        cond = cond.cuda()\n",
    "        y = y.cuda()\n",
    "    flow.logp(y, context=cond).mean()\n",
    "    print(f\"cond.shape: {cond.shape}\")\n",
    "    print(f\"y.shape: {y.shape}\")\n",
    "    print(f\"flow.logp(y, context=cond).shape: {flow.logp(y, context=cond).shape}\")\n",
    "    print(f\"flow.logp(y, context=cond).mean().shape: {flow.logp(y, context=cond).mean().shape}\")\n",
    "    break"
   ]
  },
  {
   "cell_type": "code",
   "execution_count": null,
   "id": "49807edb",
   "metadata": {},
   "outputs": [],
   "source": []
  },
  {
   "cell_type": "code",
   "execution_count": null,
   "id": "643d2bf0",
   "metadata": {},
   "outputs": [],
   "source": [
    "def estimate_l2():\n",
    "    l2 = 0\n",
    "    count = 0\n",
    "    for cond, x_test in test_loader:\n",
    "        x_test = x_test.view(-1, dimx)\n",
    "        if cuda:\n",
    "            x_test = x_test.cuda()\n",
    "            cond = cond.cuda()\n",
    "        z = flow.flows[0](x_test, context=cond)\n",
    "        l2 += torch.sum((x_test - z)**2).item()\n",
    "        count += x_test.size(0)\n",
    "    return l2 / count"
   ]
  },
  {
   "cell_type": "code",
   "execution_count": null,
   "id": "8af5522a",
   "metadata": {},
   "outputs": [
    {
     "data": {
      "application/vnd.jupyter.widget-view+json": {
       "model_id": "d85acc2788ae4129948cacdf161e962e",
       "version_major": 2,
       "version_minor": 0
      },
      "text/plain": [
       "  0%|          | 0/100 [00:00<?, ?it/s]"
      ]
     },
     "metadata": {},
     "output_type": "display_data"
    },
    {
     "name": "stderr",
     "output_type": "stream",
     "text": [
      "/home/nkotelevskii/github/conditional_quantile_function/vector_quantile_regression/notebooks/../third_party/cp-flow/lib/flows/cpflows.py:164: UserWarning: brute force\n",
      "  warnings.warn('brute force')\n"
     ]
    },
    {
     "name": "stdout",
     "output_type": "stream",
     "text": [
      "init loss: 36.559303283691406 42.519020080566406\n",
      "10 17.991418647766114 61.86686325073242\n",
      "\t estimate: 132.00241455078125\n",
      "20 6.375929307937622 7.9076008796691895\n",
      "\t estimate: 49.76013354492188\n",
      "30 4.115670704841614 5.6236090660095215\n",
      "\t estimate: 48.58214245605469\n",
      "40 3.9552444219589233 0.9748560190200806\n",
      "\t estimate: 54.42140014648437\n",
      "50 3.8262938976287844 1.4126554727554321\n",
      "\t estimate: 59.88951342773437\n",
      "60 3.775093126296997 1.0834177732467651\n",
      "\t estimate: 61.215904541015625\n",
      "70 3.611579489707947 1.1742970943450928\n",
      "\t estimate: 59.90471044921875\n",
      "80 3.6876333713531495 4.253847122192383\n",
      "\t estimate: 64.76930786132813\n",
      "90 3.5978790760040282 2.1300153732299805\n",
      "\t estimate: 61.41185009765625\n",
      "100 3.568642497062683 2.998741626739502\n",
      "\t estimate: 60.2034638671875\n",
      "110 3.5267119884490965 1.6243079900741577\n",
      "\t estimate: 60.03083056640625\n",
      "120 3.4959401369094847 0.5565237402915955\n",
      "\t estimate: 58.60438269042969\n",
      "130 3.5234009981155396 2.016510486602783\n",
      "\t estimate: 60.1336083984375\n",
      "140 3.503839373588562 2.2100508213043213\n",
      "\t estimate: 58.27596215820312\n",
      "150 3.49239182472229 1.252325177192688\n",
      "\t estimate: 58.02014477539063\n",
      "160 3.456525373458862 0.7100374102592468\n",
      "\t estimate: 61.89789184570313\n",
      "170 3.427758073806763 1.3057538270950317\n",
      "\t estimate: 66.80971215820313\n",
      "180 3.3958062171936034 2.925156354904175\n",
      "\t estimate: 53.9989951171875\n",
      "190 3.4364622592926026 0.9880894422531128\n",
      "\t estimate: 63.34277783203125\n",
      "200 3.328025555610657 1.879465937614441\n",
      "\t estimate: 62.86640161132812\n",
      "210 3.423344373703003 0.8469638824462891\n",
      "\t estimate: 62.330189697265624\n",
      "220 3.445550632476807 2.2417237758636475\n",
      "\t estimate: 60.01078247070313\n",
      "230 3.2947606086730956 3.2478818893432617\n",
      "\t estimate: 57.72312109375\n",
      "240 3.2051664352416993 2.959160327911377\n",
      "\t estimate: 74.4952802734375\n",
      "250 3.3589683055877684 2.4167263507843018\n",
      "\t estimate: 57.2368095703125\n",
      "260 3.308995580673218 1.554456114768982\n",
      "\t estimate: 68.9058388671875\n",
      "270 3.282925081253052 3.7275571823120117\n",
      "\t estimate: 59.99585693359375\n",
      "280 3.1677077054977416 2.1382431983947754\n",
      "\t estimate: 60.32112280273437\n",
      "290 3.063319754600525 2.4245591163635254\n",
      "\t estimate: 61.25421166992187\n",
      "300 3.189719009399414 3.8659238815307617\n",
      "\t estimate: 59.69739184570312\n",
      "310 3.1087769985198976 3.7904751300811768\n",
      "\t estimate: 52.99472265625\n",
      "320 3.1505290508270263 1.35818612575531\n",
      "\t estimate: 60.378489013671874\n",
      "330 3.04621217250824 2.2210447788238525\n",
      "\t estimate: 59.42865014648437\n",
      "340 3.055210089683533 3.061692953109741\n",
      "\t estimate: 64.11678344726562\n",
      "350 3.0825965642929076 6.315731048583984\n",
      "\t estimate: 66.55518579101563\n",
      "360 3.051050400733948 2.661952257156372\n",
      "\t estimate: 54.502560791015625\n",
      "370 3.070196342468262 3.1567347049713135\n",
      "\t estimate: 57.82193505859375\n",
      "380 3.11108660697937 5.722638130187988\n",
      "\t estimate: 61.755634521484374\n",
      "390 2.9641139984130858 4.219689846038818\n",
      "\t estimate: 60.12642626953125\n",
      "400 2.9969799757003783 5.230220794677734\n",
      "\t estimate: 64.29694702148437\n",
      "410 3.010713791847229 1.6609076261520386\n",
      "\t estimate: 59.01684558105469\n",
      "420 2.9866543054580688 6.23165225982666\n",
      "\t estimate: 57.186818603515626\n",
      "430 2.9560646057128905 2.582049608230591\n",
      "\t estimate: 67.77251782226563\n",
      "440 3.002646279335022 1.8324496746063232\n",
      "\t estimate: 62.83016186523437\n",
      "450 2.9657536506652833 3.375967502593994\n",
      "\t estimate: 62.727113037109376\n",
      "460 2.9607177495956423 3.1382105350494385\n",
      "\t estimate: 61.520140380859374\n",
      "470 2.910915493965149 4.410478115081787\n",
      "\t estimate: 59.1621923828125\n",
      "480 2.9871511697769164 3.0395898818969727\n",
      "\t estimate: 65.72338500976562\n",
      "490 3.0097126722335816 2.234764575958252\n",
      "\t estimate: 57.59206518554687\n",
      "500 2.926825475692749 2.963134527206421\n",
      "\t estimate: 63.2245830078125\n",
      "510 2.9509135723114013 1.4151698350906372\n",
      "\t estimate: 59.37768969726562\n",
      "520 2.920264649391174 2.027884006500244\n",
      "\t estimate: 59.15571704101563\n",
      "530 2.9202437877655028 1.7284454107284546\n",
      "\t estimate: 66.04617065429687\n",
      "540 2.9147132396698 1.5852179527282715\n",
      "\t estimate: 62.53485473632813\n",
      "550 2.9104363679885865 2.5590503215789795\n",
      "\t estimate: 58.0661201171875\n",
      "560 2.903472566604614 1.5394853353500366\n",
      "\t estimate: 62.1015087890625\n",
      "570 2.8677335023880004 1.7513796091079712\n",
      "\t estimate: 60.929920043945316\n",
      "580 2.8999773263931274 2.905775547027588\n",
      "\t estimate: 59.792139404296876\n",
      "590 2.8772017478942873 1.1095595359802246\n",
      "\t estimate: 61.3371845703125\n",
      "600 2.8954311847686767 1.348960280418396\n",
      "\t estimate: 61.64694653320313\n",
      "610 2.8830177068710325 2.2014963626861572\n",
      "\t estimate: 61.36612744140625\n",
      "620 2.8735949754714967 1.6094305515289307\n",
      "\t estimate: 60.178491943359376\n",
      "630 2.888834071159363 2.1853644847869873\n",
      "\t estimate: 61.684779296875\n",
      "640 2.881692147254944 2.2228457927703857\n",
      "\t estimate: 60.312378662109374\n",
      "650 2.865421414375305 2.9513778686523438\n",
      "\t estimate: 61.390017578125\n",
      "660 2.872006916999817 0.6841394305229187\n",
      "\t estimate: 60.47094506835938\n",
      "670 2.872609543800354 1.1512336730957031\n",
      "\t estimate: 61.14736108398437\n",
      "680 2.8605672121047974 2.484158754348755\n",
      "\t estimate: 62.06286450195312\n",
      "690 2.8607547283172607 1.3425283432006836\n",
      "\t estimate: 62.23514672851562\n",
      "700 2.894564485549927 1.7056833505630493\n",
      "\t estimate: 61.075375\n",
      "710 2.841174674034119 0.6194530725479126\n",
      "\t estimate: 61.25401586914062\n",
      "720 2.8564199209213257 1.312081217765808\n",
      "\t estimate: 61.32858374023437\n",
      "730 2.855562448501587 1.389115333557129\n",
      "\t estimate: 61.078475830078126\n",
      "740 2.865408945083618 1.230197548866272\n",
      "\t estimate: 61.848387451171874\n",
      "750 2.8611810207366943 1.0998870134353638\n",
      "\t estimate: 60.86468017578125\n",
      "760 2.8455149650573732 1.0439841747283936\n",
      "\t estimate: 61.09524755859375\n",
      "770 2.8409081220626833 0.9322922825813293\n",
      "\t estimate: 61.20359716796875\n",
      "780 2.8658226490020753 1.7718669176101685\n",
      "\t estimate: 61.22350854492188\n",
      "790 2.852474093437195 1.6047594547271729\n",
      "\t estimate: 61.171613037109374\n",
      "800 2.8568851232528685 1.9672746658325195\n",
      "\t estimate: 61.17633984375\n"
     ]
    }
   ],
   "source": [
    "# gt = ot(train_loader.dataset.m, train_loader.dataset.C)\n",
    "\n",
    "loss_acc = 0\n",
    "t = 0\n",
    "grad_norm = 0\n",
    "\n",
    "flow.train()\n",
    "init_l2 = estimate_l2()\n",
    "# entropy = train_loader.dataset.entropy\n",
    "losses = list()\n",
    "estimates = list()\n",
    "for e in tqdm(range(num_epochs) ):\n",
    "    for cond, x in train_loader:\n",
    "        x = x.view(-1, dimx)\n",
    "        if cuda:\n",
    "            x = x.cuda()\n",
    "            cond = cond.cuda()\n",
    "\n",
    "        loss = - flow.logp(x, context=cond).mean()\n",
    "        optim.zero_grad()\n",
    "        loss.backward()\n",
    "\n",
    "        grad_norm = torch.nn.utils.clip_grad.clip_grad_norm_(flow.parameters(), max_norm=10).item()\n",
    "\n",
    "        optim.step()\n",
    "        sch.step()\n",
    "\n",
    "        loss_acc += loss.item() #- entropy\n",
    "        del loss\n",
    "        gc.collect()\n",
    "        torch.clear_autocast_cache()\n",
    "\n",
    "        t += 1\n",
    "        if t == 1:\n",
    "            print('init loss:', loss_acc, grad_norm)\n",
    "            # print('\\t', gt, init_l2)\n",
    "\n",
    "            losses.append(loss_acc)\n",
    "            estimates.append(init_l2)\n",
    "\n",
    "        if t % print_every == 0:\n",
    "            print(t, loss_acc / print_every, grad_norm)\n",
    "            losses.append(loss_acc / print_every)\n",
    "            loss_acc = 0\n",
    "            estimate = estimate_l2()\n",
    "            # print(f'\\t ground truth: {gt}, estimate: {estimate}')\n",
    "            print(f'\\t estimate: {estimate}')\n",
    "            estimates.append(estimate)\n",
    "\n",
    "results.append([losses, estimates])"
   ]
  },
  {
   "cell_type": "code",
   "execution_count": null,
   "id": "f464bf76",
   "metadata": {},
   "outputs": [],
   "source": []
  },
  {
   "cell_type": "code",
   "execution_count": 17,
   "id": "b17b5f59",
   "metadata": {},
   "outputs": [],
   "source": [
    "makedirs('figures/OT')\n",
    "\n",
    "\n",
    "def savefig(fn):\n",
    "    plt.savefig(f'figures/OT/{fn}')"
   ]
  },
  {
   "cell_type": "code",
   "execution_count": 18,
   "id": "5e6ee7eb",
   "metadata": {},
   "outputs": [],
   "source": [
    "flow_type = 'cpflow'"
   ]
  },
  {
   "cell_type": "code",
   "execution_count": 26,
   "id": "b1a1cfd4",
   "metadata": {},
   "outputs": [],
   "source": [
    "device_and_dtype_specifications = dict(dtype=torch.float32, device=device)"
   ]
  },
  {
   "cell_type": "code",
   "execution_count": 33,
   "id": "290a2197",
   "metadata": {},
   "outputs": [
    {
     "name": "stdout",
     "output_type": "stream",
     "text": [
      "qtagg\n"
     ]
    }
   ],
   "source": [
    "print(matplotlib.get_backend())   "
   ]
  },
  {
   "cell_type": "code",
   "execution_count": 35,
   "id": "67473a50",
   "metadata": {},
   "outputs": [],
   "source": [
    "# matplotlib.use(\"QtAgg\")"
   ]
  },
  {
   "cell_type": "code",
   "execution_count": null,
   "id": "4293179a",
   "metadata": {},
   "outputs": [
    {
     "ename": "ImportError",
     "evalue": "Cannot load backend 'qtagg' which requires the 'qt' interactive framework, as 'headless' is currently running",
     "output_type": "error",
     "traceback": [
      "\u001b[31m---------------------------------------------------------------------------\u001b[39m",
      "\u001b[31mImportError\u001b[39m                               Traceback (most recent call last)",
      "\u001b[36mCell\u001b[39m\u001b[36m \u001b[39m\u001b[32mIn[39]\u001b[39m\u001b[32m, line 2\u001b[39m\n\u001b[32m      1\u001b[39m \u001b[38;5;66;03m# Change to %matplotlib qt to have interactive plots\u001b[39;00m\n\u001b[32m----> \u001b[39m\u001b[32m2\u001b[39m \u001b[43mget_ipython\u001b[49m\u001b[43m(\u001b[49m\u001b[43m)\u001b[49m\u001b[43m.\u001b[49m\u001b[43mrun_line_magic\u001b[49m\u001b[43m(\u001b[49m\u001b[33;43m'\u001b[39;49m\u001b[33;43mmatplotlib\u001b[39;49m\u001b[33;43m'\u001b[39;49m\u001b[43m,\u001b[49m\u001b[43m \u001b[49m\u001b[33;43m'\u001b[39;49m\u001b[33;43mqt\u001b[39;49m\u001b[33;43m'\u001b[39;49m\u001b[43m)\u001b[49m\n\u001b[32m      4\u001b[39m \u001b[38;5;28;01mfrom\u001b[39;00m\u001b[38;5;250m \u001b[39m\u001b[34;01mdata_utils\u001b[39;00m\u001b[38;5;250m \u001b[39m\u001b[38;5;28;01mimport\u001b[39;00m create_conditional_x\n\u001b[32m      6\u001b[39m fig, (ax1, ax2) = plt.subplots(\u001b[32m1\u001b[39m, \u001b[32m2\u001b[39m, figsize=(\u001b[32m20\u001b[39m, \u001b[32m10\u001b[39m), subplot_kw={\u001b[33m'\u001b[39m\u001b[33mprojection\u001b[39m\u001b[33m'\u001b[39m: \u001b[33m'\u001b[39m\u001b[33m3d\u001b[39m\u001b[33m'\u001b[39m})\n",
      "\u001b[36mFile \u001b[39m\u001b[32m~/github/conditional_quantile_function/vector_quantile_regression/.venv/lib/python3.13/site-packages/IPython/core/interactiveshell.py:2504\u001b[39m, in \u001b[36mInteractiveShell.run_line_magic\u001b[39m\u001b[34m(self, magic_name, line, _stack_depth)\u001b[39m\n\u001b[32m   2502\u001b[39m     kwargs[\u001b[33m'\u001b[39m\u001b[33mlocal_ns\u001b[39m\u001b[33m'\u001b[39m] = \u001b[38;5;28mself\u001b[39m.get_local_scope(stack_depth)\n\u001b[32m   2503\u001b[39m \u001b[38;5;28;01mwith\u001b[39;00m \u001b[38;5;28mself\u001b[39m.builtin_trap:\n\u001b[32m-> \u001b[39m\u001b[32m2504\u001b[39m     result = \u001b[43mfn\u001b[49m\u001b[43m(\u001b[49m\u001b[43m*\u001b[49m\u001b[43margs\u001b[49m\u001b[43m,\u001b[49m\u001b[43m \u001b[49m\u001b[43m*\u001b[49m\u001b[43m*\u001b[49m\u001b[43mkwargs\u001b[49m\u001b[43m)\u001b[49m\n\u001b[32m   2506\u001b[39m \u001b[38;5;66;03m# The code below prevents the output from being displayed\u001b[39;00m\n\u001b[32m   2507\u001b[39m \u001b[38;5;66;03m# when using magics with decorator @output_can_be_silenced\u001b[39;00m\n\u001b[32m   2508\u001b[39m \u001b[38;5;66;03m# when the last Python token in the expression is a ';'.\u001b[39;00m\n\u001b[32m   2509\u001b[39m \u001b[38;5;28;01mif\u001b[39;00m \u001b[38;5;28mgetattr\u001b[39m(fn, magic.MAGIC_OUTPUT_CAN_BE_SILENCED, \u001b[38;5;28;01mFalse\u001b[39;00m):\n",
      "\u001b[36mFile \u001b[39m\u001b[32m~/github/conditional_quantile_function/vector_quantile_regression/.venv/lib/python3.13/site-packages/IPython/core/magics/pylab.py:103\u001b[39m, in \u001b[36mPylabMagics.matplotlib\u001b[39m\u001b[34m(self, line)\u001b[39m\n\u001b[32m     98\u001b[39m     \u001b[38;5;28mprint\u001b[39m(\n\u001b[32m     99\u001b[39m         \u001b[33m\"\u001b[39m\u001b[33mAvailable matplotlib backends: \u001b[39m\u001b[38;5;132;01m%s\u001b[39;00m\u001b[33m\"\u001b[39m\n\u001b[32m    100\u001b[39m         % _list_matplotlib_backends_and_gui_loops()\n\u001b[32m    101\u001b[39m     )\n\u001b[32m    102\u001b[39m \u001b[38;5;28;01melse\u001b[39;00m:\n\u001b[32m--> \u001b[39m\u001b[32m103\u001b[39m     gui, backend = \u001b[38;5;28;43mself\u001b[39;49m\u001b[43m.\u001b[49m\u001b[43mshell\u001b[49m\u001b[43m.\u001b[49m\u001b[43menable_matplotlib\u001b[49m\u001b[43m(\u001b[49m\u001b[43margs\u001b[49m\u001b[43m.\u001b[49m\u001b[43mgui\u001b[49m\u001b[43m)\u001b[49m\n\u001b[32m    104\u001b[39m     \u001b[38;5;28mself\u001b[39m._show_matplotlib_backend(args.gui, backend)\n",
      "\u001b[36mFile \u001b[39m\u001b[32m~/github/conditional_quantile_function/vector_quantile_regression/.venv/lib/python3.13/site-packages/IPython/core/interactiveshell.py:3799\u001b[39m, in \u001b[36mInteractiveShell.enable_matplotlib\u001b[39m\u001b[34m(self, gui)\u001b[39m\n\u001b[32m   3795\u001b[39m         \u001b[38;5;28mprint\u001b[39m(\u001b[33m'\u001b[39m\u001b[33mWarning: Cannot change to a different GUI toolkit: \u001b[39m\u001b[38;5;132;01m%s\u001b[39;00m\u001b[33m.\u001b[39m\u001b[33m'\u001b[39m\n\u001b[32m   3796\u001b[39m                 \u001b[33m'\u001b[39m\u001b[33m Using \u001b[39m\u001b[38;5;132;01m%s\u001b[39;00m\u001b[33m instead.\u001b[39m\u001b[33m'\u001b[39m % (gui, \u001b[38;5;28mself\u001b[39m.pylab_gui_select))\n\u001b[32m   3797\u001b[39m         gui, backend = pt.find_gui_and_backend(\u001b[38;5;28mself\u001b[39m.pylab_gui_select)\n\u001b[32m-> \u001b[39m\u001b[32m3799\u001b[39m \u001b[43mpt\u001b[49m\u001b[43m.\u001b[49m\u001b[43mactivate_matplotlib\u001b[49m\u001b[43m(\u001b[49m\u001b[43mbackend\u001b[49m\u001b[43m)\u001b[49m\n\u001b[32m   3801\u001b[39m \u001b[38;5;28;01mfrom\u001b[39;00m\u001b[38;5;250m \u001b[39m\u001b[34;01mmatplotlib_inline\u001b[39;00m\u001b[34;01m.\u001b[39;00m\u001b[34;01mbackend_inline\u001b[39;00m\u001b[38;5;250m \u001b[39m\u001b[38;5;28;01mimport\u001b[39;00m configure_inline_support\n\u001b[32m   3803\u001b[39m configure_inline_support(\u001b[38;5;28mself\u001b[39m, backend)\n",
      "\u001b[36mFile \u001b[39m\u001b[32m~/github/conditional_quantile_function/vector_quantile_regression/.venv/lib/python3.13/site-packages/IPython/core/pylabtools.py:410\u001b[39m, in \u001b[36mactivate_matplotlib\u001b[39m\u001b[34m(backend)\u001b[39m\n\u001b[32m    405\u001b[39m \u001b[38;5;66;03m# Due to circular imports, pyplot may be only partially initialised\u001b[39;00m\n\u001b[32m    406\u001b[39m \u001b[38;5;66;03m# when this function runs.\u001b[39;00m\n\u001b[32m    407\u001b[39m \u001b[38;5;66;03m# So avoid needing matplotlib attribute-lookup to access pyplot.\u001b[39;00m\n\u001b[32m    408\u001b[39m \u001b[38;5;28;01mfrom\u001b[39;00m\u001b[38;5;250m \u001b[39m\u001b[34;01mmatplotlib\u001b[39;00m\u001b[38;5;250m \u001b[39m\u001b[38;5;28;01mimport\u001b[39;00m pyplot \u001b[38;5;28;01mas\u001b[39;00m plt\n\u001b[32m--> \u001b[39m\u001b[32m410\u001b[39m \u001b[43mplt\u001b[49m\u001b[43m.\u001b[49m\u001b[43mswitch_backend\u001b[49m\u001b[43m(\u001b[49m\u001b[43mbackend\u001b[49m\u001b[43m)\u001b[49m\n\u001b[32m    412\u001b[39m plt.show._needmain = \u001b[38;5;28;01mFalse\u001b[39;00m\n\u001b[32m    413\u001b[39m \u001b[38;5;66;03m# We need to detect at runtime whether show() is called by the user.\u001b[39;00m\n\u001b[32m    414\u001b[39m \u001b[38;5;66;03m# For this, we wrap it into a decorator which adds a 'called' flag.\u001b[39;00m\n",
      "\u001b[36mFile \u001b[39m\u001b[32m~/github/conditional_quantile_function/vector_quantile_regression/.venv/lib/python3.13/site-packages/matplotlib/pyplot.py:433\u001b[39m, in \u001b[36mswitch_backend\u001b[39m\u001b[34m(newbackend)\u001b[39m\n\u001b[32m    430\u001b[39m     current_framework = cbook._get_running_interactive_framework()\n\u001b[32m    431\u001b[39m     \u001b[38;5;28;01mif\u001b[39;00m (current_framework \u001b[38;5;129;01mand\u001b[39;00m required_framework\n\u001b[32m    432\u001b[39m             \u001b[38;5;129;01mand\u001b[39;00m current_framework != required_framework):\n\u001b[32m--> \u001b[39m\u001b[32m433\u001b[39m         \u001b[38;5;28;01mraise\u001b[39;00m \u001b[38;5;167;01mImportError\u001b[39;00m(\n\u001b[32m    434\u001b[39m             \u001b[33m\"\u001b[39m\u001b[33mCannot load backend \u001b[39m\u001b[38;5;132;01m{!r}\u001b[39;00m\u001b[33m which requires the \u001b[39m\u001b[38;5;132;01m{!r}\u001b[39;00m\u001b[33m interactive \u001b[39m\u001b[33m\"\u001b[39m\n\u001b[32m    435\u001b[39m             \u001b[33m\"\u001b[39m\u001b[33mframework, as \u001b[39m\u001b[38;5;132;01m{!r}\u001b[39;00m\u001b[33m is currently running\u001b[39m\u001b[33m\"\u001b[39m.format(\n\u001b[32m    436\u001b[39m                 newbackend, required_framework, current_framework))\n\u001b[32m    438\u001b[39m \u001b[38;5;66;03m# Load the new_figure_manager() and show() functions from the backend.\u001b[39;00m\n\u001b[32m    439\u001b[39m \n\u001b[32m    440\u001b[39m \u001b[38;5;66;03m# Classically, backends can directly export these functions.  This should\u001b[39;00m\n\u001b[32m    441\u001b[39m \u001b[38;5;66;03m# keep working for backcompat.\u001b[39;00m\n\u001b[32m    442\u001b[39m new_figure_manager = \u001b[38;5;28mgetattr\u001b[39m(module, \u001b[33m\"\u001b[39m\u001b[33mnew_figure_manager\u001b[39m\u001b[33m\"\u001b[39m, \u001b[38;5;28;01mNone\u001b[39;00m)\n",
      "\u001b[31mImportError\u001b[39m: Cannot load backend 'qtagg' which requires the 'qt' interactive framework, as 'headless' is currently running"
     ]
    }
   ],
   "source": [
    "# Change to %matplotlib qt to have interactive plots\n",
    "%matplotlib inline\n",
    "\n",
    "from data_utils import create_conditional_x\n",
    "\n",
    "fig, (ax1, ax2) = plt.subplots(1, 2, figsize=(20, 10), subplot_kw={'projection': '3d'})\n",
    "fig.suptitle('Separated 3D Plots', fontsize=16)\n",
    "\n",
    "ax1.set_title('Conditional Scatter Data (y_x_gt)')\n",
    "ax1.set_xlabel('Axis 0')\n",
    "ax1.set_ylabel('Axis 1')\n",
    "ax1.set_zlabel('x_ value')\n",
    "\n",
    "for x_ in range(50, 250, 10):\n",
    "    x = np.array([x_ / 100])[:, None]\n",
    "\n",
    "    # This section is now active for the first plot\n",
    "    _, y_x_gt = create_conditional_x(n_points=100, x_value=x_/100)\n",
    "    z_scatter = np.full(y_x_gt.shape[0], x)\n",
    "    ax1.scatter(y_x_gt[:, 0], y_x_gt[:, 1], z_scatter, color='blue', marker='o', s=30, alpha=0.2)\n",
    "\n",
    "ax1.view_init(elev=-55, azim=154, roll=-83)\n",
    "\n",
    "ax2.set_title('Contour Lines')\n",
    "ax2.set_xlabel('Axis 0')\n",
    "ax2.set_ylabel('Axis 1')\n",
    "ax2.set_zlabel('x_ value')\n",
    "\n",
    "loop_start_value = 50\n",
    "for x_ in range(loop_start_value, 250, 10):\n",
    "\n",
    "    x = torch.tensor([x_ / 100], **device_and_dtype_specifications)[:, None]\n",
    "    x = x.repeat(repeats=(100, 1))\n",
    "\n",
    "    colors = ['red', 'purple', 'green', 'orange', 'blue']\n",
    "    radii = [0.1, 0.5, 1., 1.5, 2]\n",
    "    for contour_radius, color in zip(radii, colors):\n",
    "        pi_tensor = torch.linspace(-torch.pi, torch.pi, 100)\n",
    "        u_tensor = torch.stack([\n",
    "            contour_radius * torch.cos(pi_tensor),\n",
    "            contour_radius * torch.sin(pi_tensor),\n",
    "        ], dim=1)\n",
    "\n",
    "        u_tensor = u_tensor.to(**device_and_dtype_specifications)\n",
    "        u_tensor.requires_grad = True\n",
    "\n",
    "        # potential = phi_network(x, u_tensor)\n",
    "        # pushforward_of_u = torch.autograd.grad(potential.sum(), u_tensor)[0]\n",
    "\n",
    "        with torch.no_grad():\n",
    "            z = flow.reverse(u_tensor, context=x)\n",
    "            pushforward_of_u = z.cpu()\n",
    "\n",
    "        z_line = x.detach().cpu().numpy()\n",
    "        label = f'Radius {contour_radius}' if x_ == loop_start_value else \"\"\n",
    "        ax1.plot(pushforward_of_u[:, 0], pushforward_of_u[:, 1], z_line, color=color, linewidth=2.5, label=label)\n",
    "        ax2.plot(pushforward_of_u[:, 0], pushforward_of_u[:, 1], z_line, color=color, linewidth=2.5, label=label)\n",
    "\n",
    "ax2.view_init(elev=-55, azim=154, roll=-83)\n",
    "ax2.legend()\n",
    "\n",
    "plt.tight_layout(rect=[0, 0, 1, 0.96]) # Adjust layout to make room for suptitle\n",
    "plt.show()"
   ]
  },
  {
   "cell_type": "code",
   "execution_count": null,
   "id": "028425cf",
   "metadata": {},
   "outputs": [],
   "source": []
  },
  {
   "cell_type": "code",
   "execution_count": null,
   "id": "a3c26743",
   "metadata": {},
   "outputs": [
    {
     "name": "stderr",
     "output_type": "stream",
     "text": [
      "/home/nkotelevskii/github/conditional_quantile_function/vector_quantile_regression/notebooks/../third_party/cp-flow/lib/flows/cpflows.py:164: UserWarning: brute force\n",
      "  warnings.warn('brute force')\n"
     ]
    },
    {
     "data": {
      "image/png": "[encoded data removed]",
      "text/plain": [
       "<Figure size 600x600 with 1 Axes>"
      ]
     },
     "metadata": {},
     "output_type": "display_data"
    }
   ],
   "source": [
    "# Change to %matplotlib qt to have interactive plots\n",
    "%matplotlib inline\n",
    "import matplotlib.pyplot as plt\n",
    "\n",
    "fig, ax1 = plt.subplots(1, 1, figsize=(6, 6))\n",
    "\n",
    "ax1.set_title('Quantiles')\n",
    "ax1.set_xlabel('y_1')\n",
    "ax1.set_ylabel('y_2')\n",
    "x = torch.tensor([2.4], **device_and_dtype_specifications)[:, None]\n",
    "x = x.repeat(u_tensor.shape[0], 1)\n",
    "\n",
    "\n",
    "colors = ['red', 'pink', 'brown', 'cyan', 'purple', 'green', 'yellow', \"orange\"]\n",
    "radii = [0.1, 0.3, 0.6, 0.9, 1.2, 1.5, 1.8, 2.1, 2.4, 5]\n",
    "for contour_radius, color in zip(radii, colors):\n",
    "        pi_tensor = torch.linspace(-torch.pi, torch.pi, 100)\n",
    "        u_tensor = torch.stack([\n",
    "            contour_radius * torch.cos(pi_tensor),\n",
    "            contour_radius * torch.sin(pi_tensor),\n",
    "        ], dim=1)\n",
    "\n",
    "        u_tensor = u_tensor.to(**device_and_dtype_specifications)\n",
    "        u_tensor.requires_grad = True\n",
    "\n",
    "\n",
    "        # potential = phi_network(x, u_tensor)\n",
    "        # pushforward_of_u = torch.autograd.grad(potential.sum(), u_tensor)[0]\n",
    "        with torch.no_grad():\n",
    "            z = flow.reverse(u_tensor, context=x)\n",
    "            pushforward_of_u = z.cpu()\n",
    "\n",
    "        ax1.plot(pushforward_of_u[:, 0], pushforward_of_u[:, 1], color=color, linewidth=2.5)\n"
   ]
  }
 ],
 "metadata": {
  "kernelspec": {
   "display_name": ".venv",
   "language": "python",
   "name": "python3"
  },
  "language_info": {
   "codemirror_mode": {
    "name": "ipython",
    "version": 3
   },
   "file_extension": ".py",
   "mimetype": "text/x-python",
   "name": "python",
   "nbconvert_exporter": "python",
   "pygments_lexer": "ipython3",
   "version": "3.13.0rc2"
  }
 },
 "nbformat": 4,
 "nbformat_minor": 5
}
