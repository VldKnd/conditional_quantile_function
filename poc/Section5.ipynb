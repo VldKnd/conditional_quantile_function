{
 "cells": [
  {
   "cell_type": "code",
   "execution_count": 1,
   "id": "c02fc38a",
   "metadata": {},
   "outputs": [],
   "source": [
    "%load_ext autoreload\n",
    "%autoreload 2"
   ]
  },
  {
   "cell_type": "code",
   "execution_count": 2,
   "id": "2a226ade",
   "metadata": {},
   "outputs": [
    {
     "name": "stdout",
     "output_type": "stream",
     "text": [
      "Old working dir /Users/vladimir.kondratyev/conditional_quantile_function/poc\n",
      "New working dir /Users/vladimir.kondratyev/conditional_quantile_function\n"
     ]
    }
   ],
   "source": [
    "import os\n",
    "print(f\"Old working dir {os.getcwd()}\")\n",
    "os.chdir('../')\n",
    "print(f\"New working dir {os.getcwd()}\")"
   ]
  },
  {
   "cell_type": "code",
   "execution_count": 3,
   "id": "67d1cd8b",
   "metadata": {},
   "outputs": [],
   "source": [
    "import numpy as np\n",
    "import torch\n",
    "from torch.utils.data import TensorDataset, DataLoader\n",
    "\n",
    "import matplotlib.pyplot as plt\n",
    "import seaborn as sns\n",
    "\n",
    "%matplotlib inline\n"
   ]
  },
  {
   "cell_type": "code",
   "execution_count": 4,
   "id": "2fd7634c",
   "metadata": {},
   "outputs": [],
   "source": [
    "from scipy.stats import norm, multivariate_normal"
   ]
  },
  {
   "cell_type": "code",
   "execution_count": 5,
   "id": "2cbac04a",
   "metadata": {},
   "outputs": [],
   "source": [
    "def _make_xy_dataloader(X: np.ndarray, Y: np.ndarray, batch_size: int, dtype=torch.float64) -> DataLoader:\n",
    "    dataset = TensorDataset(torch.tensor(X, dtype=dtype), torch.tensor(Y, dtype=dtype))\n",
    "    dataloader = DataLoader(dataset, batch_size=batch_size)\n",
    "    return dataloader\n"
   ]
  },
  {
   "cell_type": "code",
   "execution_count": 6,
   "id": "cb83e751",
   "metadata": {},
   "outputs": [],
   "source": [
    "from infrastructure.classes import TrainParameters\n",
    "from pushforward_operators import NeuralQuantileRegression, AmortizedNeuralQuantileRegression\n",
    "\n",
    "\n",
    "class OurCVQRegressor:\n",
    "\n",
    "    def __init__(\n",
    "        self,\n",
    "        feature_dimension: int,\n",
    "        response_dimension: int,\n",
    "        hidden_dimension: int,\n",
    "        number_of_hidden_layers: int,\n",
    "        batch_size: int,\n",
    "        n_epochs: int,\n",
    "        learning_rate: float = 0.01,\n",
    "        dtype=torch.float64,\n",
    "    ):\n",
    "        self.feature_dimension: int = feature_dimension\n",
    "        self.response_dimension: int = response_dimension\n",
    "        self.hidden_dimension: int = hidden_dimension\n",
    "        self.number_of_hidden_layers: int = number_of_hidden_layers\n",
    "        self.batch_size: int = batch_size\n",
    "        self.n_epochs: int = n_epochs\n",
    "        self.learning_rate: float = learning_rate\n",
    "        self.dtype = dtype\n",
    "        self.model = NeuralQuantileRegression(\n",
    "            feature_dimension=self.feature_dimension,\n",
    "            response_dimension=self.response_dimension,\n",
    "            hidden_dimension=self.hidden_dimension,\n",
    "            number_of_hidden_layers=self.number_of_hidden_layers,\n",
    "            potential_to_estimate_with_neural_network=\"y\",\n",
    "        ).to(self.dtype)\n",
    "\n",
    "    def fit(self, X: np.ndarray, Y:np.ndarray):\n",
    "        dataloader = _make_xy_dataloader(X, Y, batch_size=self.batch_size, dtype=self.dtype)\n",
    "        train_parameters = TrainParameters(number_of_epochs_to_train=self.n_epochs, \n",
    "                                           optimizer_parameters=dict(lr=self.learning_rate),\n",
    "                                           scheduler_parameters={\"eta_min\": 0.},\n",
    "                                           verbose=True)\n",
    "        self.model.fit(dataloader, train_parameters=train_parameters,)\n",
    "\n",
    "    def predict_mean(self, X):\n",
    "        n = X.shape[0]\n",
    "        U = torch.zeros((n, self.response_dimension), dtype=self.dtype)\n",
    "        X_tensor = torch.tensor(X, dtype=self.dtype)\n",
    "        #dataset = TensorDataset(X_tensor, U)\n",
    "        #dataloader = DataLoader(dataset, batch_size=self.batch_size, shuffle=False)\n",
    "        Y = self.model.push_u_given_x(x=X_tensor, u=U)\n",
    "        return Y.numpy(force=True)\n",
    "    \n",
    "    def predict_quantile(self, X, Y):\n",
    "        return self.model.push_y_given_x(y=torch.tensor(Y), \n",
    "                                         x=torch.tensor(X)).numpy(force=True)\n"
   ]
  },
  {
   "cell_type": "code",
   "execution_count": 7,
   "id": "c53d8d55",
   "metadata": {},
   "outputs": [],
   "source": [
    "from conformal.real_datasets.reproducible_split import get_dataset_split, DatasetSplit\n",
    "from utils.network import get_total_number_of_parameters"
   ]
  },
  {
   "cell_type": "code",
   "execution_count": 8,
   "id": "4fcc10c0",
   "metadata": {},
   "outputs": [],
   "source": [
    "seed = 0\n",
    "dataset_name = \"scm1d\"\n",
    "dataset_name = \"rf1\"\n",
    "\n",
    "ds = get_dataset_split(name=dataset_name, seed=seed, n_train=5125)\n",
    "ds.Y_train = ds.Y_train[:, :4]\n",
    "ds.Y_test = ds.Y_test[:, :4]\n",
    "ds.Y_cal = ds.Y_cal[:, :4]\n",
    "\n",
    "ds.X_train = ds.X_train[:, :16] \n",
    "ds.X_test = ds.X_test[:, :16] \n",
    "ds.X_cal = ds.X_cal[:, :16] "
   ]
  },
  {
   "cell_type": "code",
   "execution_count": 9,
   "id": "ac52b51c",
   "metadata": {},
   "outputs": [],
   "source": [
    "from sklearn.linear_model import LinearRegression\n",
    "from sklearn.ensemble import RandomForestRegressor, VotingRegressor\n",
    "from sklearn.model_selection import KFold\n",
    "from sklearn.metrics import mean_squared_error\n",
    "\n",
    "from metrics.wsc import wsc_unbiased"
   ]
  },
  {
   "cell_type": "markdown",
   "id": "8fd3d1df",
   "metadata": {},
   "source": [
    "## Algorithms according to section 5"
   ]
  },
  {
   "cell_type": "code",
   "execution_count": 10,
   "id": "77db522a",
   "metadata": {},
   "outputs": [],
   "source": [
    "alpha = 0.3"
   ]
  },
  {
   "cell_type": "code",
   "execution_count": 11,
   "id": "2546f660",
   "metadata": {},
   "outputs": [],
   "source": [
    "from IPython.display import display, Markdown"
   ]
  },
  {
   "cell_type": "markdown",
   "id": "157bc3c2",
   "metadata": {},
   "source": [
    "### Part 1: Train base model $\\tilde{Q}_{Y|X}^{-1}(X, Y)$ on train set"
   ]
  },
  {
   "cell_type": "code",
   "execution_count": 14,
   "id": "09881362",
   "metadata": {},
   "outputs": [
    {
     "name": "stdout",
     "output_type": "stream",
     "text": [
      "Number of parameters: 1294, number of training samples: 5125.\n"
     ]
    }
   ],
   "source": [
    "reg = OurCVQRegressor(\n",
    "    feature_dimension=16,\n",
    "    response_dimension=4,\n",
    "    hidden_dimension=6,\n",
    "    number_of_hidden_layers=4,\n",
    "    batch_size=32,\n",
    "    n_epochs=100,\n",
    ")\n",
    "\n",
    "print(f\"Number of parameters: {get_total_number_of_parameters(reg.model)}, number of training samples: {ds.n_train}.\")"
   ]
  },
  {
   "cell_type": "code",
   "execution_count": 15,
   "id": "4f401dbc",
   "metadata": {},
   "outputs": [
    {
     "name": "stderr",
     "output_type": "stream",
     "text": [
      "Epoch: 100, Objective: 0.609, LR: 0.000000: 100%|██████████| 100/100 [09:02<00:00,  5.42s/it]\n"
     ]
    }
   ],
   "source": [
    "model_savepath = f\"neural_qr_v0.pth\"\n",
    "if not os.path.isfile(model_savepath):\n",
    "    reg.fit(ds.X_train, ds.Y_train)\n",
    "    reg.model.save(model_savepath)\n",
    "    reg.model.eval()\n",
    "else:\n",
    "    reg.model.load(model_savepath)\n",
    "    reg.model.eval()"
   ]
  },
  {
   "cell_type": "code",
   "execution_count": 16,
   "id": "615e2f58",
   "metadata": {},
   "outputs": [],
   "source": [
    "quantiles_cal = reg.predict_quantile(ds.X_cal, ds.Y_cal)\n",
    "quantiles_test = reg.predict_quantile(ds.X_test, ds.Y_test)"
   ]
  },
  {
   "cell_type": "markdown",
   "id": "93e761e6",
   "metadata": {},
   "source": [
    "Diagnstic plots for quantiles"
   ]
  },
  {
   "cell_type": "code",
   "execution_count": 17,
   "id": "371e053b",
   "metadata": {},
   "outputs": [
    {
     "data": {
      "image/png": "[encoded data removed]",
      "text/plain": [
       "<Figure size 1600x500 with 2 Axes>"
      ]
     },
     "metadata": {},
     "output_type": "display_data"
    }
   ],
   "source": [
    "from scipy.stats import expon\n",
    "\n",
    "t_min = min(quantiles_cal.min(), quantiles_test.min())\n",
    "t_max = max(quantiles_cal.max(), quantiles_test.max())\n",
    "t = np.linspace(t_min, t_max, 500)\n",
    "fig, ax = plt.subplots(nrows=1, ncols=2, figsize=(16, 5))\n",
    "p0 = ax[0].plot(t, norm.pdf(t), 'k--', label=\"N(0, 1)\")\n",
    "hp0 = sns.histplot(quantiles_cal, alpha=0.3, stat=\"density\", common_norm=False, kde=True, ax=ax[0])\n",
    "ax[0].set_title(\"Calibration\")\n",
    "ax[0].set_xlim(-5, 5)\n",
    "hp1 = sns.histplot(quantiles_test, alpha=0.3, stat=\"density\", common_norm=False, kde=True, ax=ax[1])\n",
    "p1 = ax[1].plot(t, norm.pdf(t), 'k--', label=\"N(0, 1)\")\n",
    "ax[1].set_title(\"Test\")\n",
    "ax[1].set_xlim(-5, 5)\n",
    "\n",
    "plt.show()"
   ]
  },
  {
   "cell_type": "code",
   "execution_count": 18,
   "id": "4b9f5193",
   "metadata": {},
   "outputs": [],
   "source": [
    "from scipy import stats\n",
    "\n",
    "\n",
    "def draw_qq_scores(scores, ax):\n",
    "    n, d = scores.shape\n",
    "    for j in range(d):\n",
    "        stats.probplot(\n",
    "            scores[:, j],\n",
    "            dist=\"norm\",\n",
    "            fit=False,\n",
    "            plot=ax,\n",
    "        )\n",
    "        ax.get_lines()[j].set_markerfacecolor(f'C{j}')\n",
    "        ax.get_lines()[j].set_markeredgecolor(f'C{j}')\n",
    "    ax.plot([-3, 3], [-3, 3], ls='--', c='k')\n"
   ]
  },
  {
   "cell_type": "code",
   "execution_count": 19,
   "id": "712be04c",
   "metadata": {},
   "outputs": [
    {
     "data": {
      "text/plain": [
       "Text(0.5, 1.0, 'Test')"
      ]
     },
     "execution_count": 19,
     "metadata": {},
     "output_type": "execute_result"
    },
    {
     "data": {
      "image/png": "[encoded data removed]",
      "text/plain": [
       "<Figure size 1600x500 with 2 Axes>"
      ]
     },
     "metadata": {},
     "output_type": "display_data"
    }
   ],
   "source": [
    "fig, ax = plt.subplots(1, 2, figsize=(16, 5))\n",
    "draw_qq_scores(quantiles_cal, ax[0])\n",
    "ax[0].set_title(\"Calibration\")\n",
    "draw_qq_scores(quantiles_test, ax[1])\n",
    "ax[1].set_title(\"Test\")"
   ]
  },
  {
   "cell_type": "markdown",
   "id": "384bab4a",
   "metadata": {},
   "source": [
    "### Part 2: Implement Method 5.1a (only marginal calibration)\n",
    "\n",
    "Scores $S_i = || \\tilde{Q}_{Y|X}^{-1}(X_i, Y_i) ||$, for $(X_i, Y_i) \\in \\mathcal{D}_{\\mathrm{cal}}$"
   ]
  },
  {
   "cell_type": "code",
   "execution_count": 20,
   "id": "f7f44340",
   "metadata": {},
   "outputs": [],
   "source": [
    "scores_cal_51a = np.linalg.norm(quantiles_cal, axis=1)\n",
    "scores_test_51a = np.linalg.norm(quantiles_test, axis=1)\n",
    "\n",
    "threshold_51a = np.quantile(scores_cal_51a, q=(ds.n_cal + 1) * (1 - alpha) / ds.n_cal)"
   ]
  },
  {
   "cell_type": "code",
   "execution_count": 21,
   "id": "14face63",
   "metadata": {},
   "outputs": [
    {
     "data": {
      "text/markdown": [
       "#### $\\mathcal{C}_{\\rho}^{\\mathrm{pb}}$ Marginal coverage: **0.70**, worst-slab conditional coverage: **0.52**"
      ],
      "text/plain": [
       "<IPython.core.display.Markdown object>"
      ]
     },
     "metadata": {},
     "output_type": "display_data"
    },
    {
     "data": {
      "text/markdown": [
       "#### $\\mathcal{C}_{\\rho}^{\\mathrm{pb}}$ Marginal coverage: **0.70**, worst-slab conditional coverage: **0.49**"
      ],
      "text/plain": [
       "<IPython.core.display.Markdown object>"
      ]
     },
     "metadata": {},
     "output_type": "display_data"
    },
    {
     "data": {
      "text/markdown": [
       "#### $\\mathcal{C}_{\\rho}^{\\mathrm{pb}}$ Marginal coverage: **0.70**, worst-slab conditional coverage: **0.42**"
      ],
      "text/plain": [
       "<IPython.core.display.Markdown object>"
      ]
     },
     "metadata": {},
     "output_type": "display_data"
    },
    {
     "data": {
      "text/markdown": [
       "#### $\\mathcal{C}_{\\rho}^{\\mathrm{pb}}$ Marginal coverage: **0.70**, worst-slab conditional coverage: **0.39**"
      ],
      "text/plain": [
       "<IPython.core.display.Markdown object>"
      ]
     },
     "metadata": {},
     "output_type": "display_data"
    },
    {
     "data": {
      "text/markdown": [
       "#### $\\mathcal{C}_{\\rho}^{\\mathrm{pb}}$ Marginal coverage: **0.70**, worst-slab conditional coverage: **0.49**"
      ],
      "text/plain": [
       "<IPython.core.display.Markdown object>"
      ]
     },
     "metadata": {},
     "output_type": "display_data"
    },
    {
     "data": {
      "text/markdown": [
       "#### $\\mathcal{C}_{\\rho}^{\\mathrm{pb}}$ Marginal coverage: **0.70**, worst-slab conditional coverage: **0.50**"
      ],
      "text/plain": [
       "<IPython.core.display.Markdown object>"
      ]
     },
     "metadata": {},
     "output_type": "display_data"
    },
    {
     "data": {
      "text/markdown": [
       "#### $\\mathcal{C}_{\\rho}^{\\mathrm{pb}}$ Marginal coverage: **0.70**, worst-slab conditional coverage: **0.48**"
      ],
      "text/plain": [
       "<IPython.core.display.Markdown object>"
      ]
     },
     "metadata": {},
     "output_type": "display_data"
    },
    {
     "data": {
      "text/markdown": [
       "#### $\\mathcal{C}_{\\rho}^{\\mathrm{pb}}$ Marginal coverage: **0.70**, worst-slab conditional coverage: **0.47**"
      ],
      "text/plain": [
       "<IPython.core.display.Markdown object>"
      ]
     },
     "metadata": {},
     "output_type": "display_data"
    },
    {
     "data": {
      "text/markdown": [
       "#### $\\mathcal{C}_{\\rho}^{\\mathrm{pb}}$ Marginal coverage: **0.70**, worst-slab conditional coverage: **0.44**"
      ],
      "text/plain": [
       "<IPython.core.display.Markdown object>"
      ]
     },
     "metadata": {},
     "output_type": "display_data"
    },
    {
     "data": {
      "text/markdown": [
       "#### $\\mathcal{C}_{\\rho}^{\\mathrm{pb}}$ Marginal coverage: **0.70**, worst-slab conditional coverage: **0.42**"
      ],
      "text/plain": [
       "<IPython.core.display.Markdown object>"
      ]
     },
     "metadata": {},
     "output_type": "display_data"
    }
   ],
   "source": [
    "is_covered_51a = scores_test_51a <= threshold_51a\n",
    "\n",
    "for rs in range(10):\n",
    "    cov_51a = is_covered_51a.mean()\n",
    "    wsc_51a = wsc_unbiased(ds.X_test, is_covered_51a, delta=0.1, M=10000, random_state=rs, n_cpus=8)\n",
    "    display(\n",
    "        Markdown(\n",
    "            r\"#### $\\mathcal{C}_{\\rho}^{\\mathrm{pb}}$ Marginal coverage: \" +\n",
    "            f\"**{cov_51a:.2f}**, \" +\n",
    "            f\"worst-slab conditional coverage: **{wsc_51a:.2f}**\"\n",
    "        )\n",
    "    )"
   ]
  },
  {
   "cell_type": "markdown",
   "id": "e4902c64",
   "metadata": {},
   "source": [
    "### Part 3: Implement Method 5.1b (re-calibration)\n",
    "\n",
    "Split calibration set in half and use static Monge-Cantorovich reranking."
   ]
  },
  {
   "cell_type": "code",
   "execution_count": 22,
   "id": "396bb0b1",
   "metadata": {},
   "outputs": [],
   "source": [
    "# From official implementation of OT-CP paper\n",
    "from conformal.otcp.functions_refactor import MultivQuantileTresholdRefactor, RankFuncRefactor\n",
    "\n",
    "\n",
    "def _get_coverage_otcp(scores, mu, psi, q_hat, verbose=False):\n",
    "    # Computing coverage on test set\n",
    "    ConditionalRank = RankFuncRefactor(scores, mu, psi)\n",
    "    rank_1d = np.linalg.norm(ConditionalRank, axis=1)\n",
    "    if verbose:\n",
    "        print(f\"{len(np.unique(rank_1d))=}\")\n",
    "    is_covered_otcp = rank_1d <= q_hat\n",
    "    return is_covered_otcp\n",
    "\n",
    "\n",
    "def otcp_predict_coverage(scores_cal1, scores_cal2, scores_test, q=0.9, verbose=False):\n",
    "    Quantile_Treshold, mu, psi, psi_star, data_calib = \\\n",
    "        MultivQuantileTresholdRefactor(scores_cal1, scores_cal2, alpha=q)\n",
    "\n",
    "    # Computing coverage on test set\n",
    "    is_covered_otcp = _get_coverage_otcp(scores_test, mu, psi, Quantile_Treshold, verbose=verbose)\n",
    "    return is_covered_otcp, mu, psi, Quantile_Treshold"
   ]
  },
  {
   "cell_type": "code",
   "execution_count": 23,
   "id": "50051e8a",
   "metadata": {},
   "outputs": [
    {
     "data": {
      "text/markdown": [
       "#### $\\mathcal{C}_{\\rho}^{\\mathrm{rpb}}$ Marginal coverage: **0.70**, worst-slab conditional coverage: **0.51**"
      ],
      "text/plain": [
       "<IPython.core.display.Markdown object>"
      ]
     },
     "metadata": {},
     "output_type": "display_data"
    },
    {
     "data": {
      "text/markdown": [
       "#### $\\mathcal{C}_{\\rho}^{\\mathrm{rpb}}$ Marginal coverage: **0.70**, worst-slab conditional coverage: **0.56**"
      ],
      "text/plain": [
       "<IPython.core.display.Markdown object>"
      ]
     },
     "metadata": {},
     "output_type": "display_data"
    },
    {
     "data": {
      "text/markdown": [
       "#### $\\mathcal{C}_{\\rho}^{\\mathrm{rpb}}$ Marginal coverage: **0.70**, worst-slab conditional coverage: **0.49**"
      ],
      "text/plain": [
       "<IPython.core.display.Markdown object>"
      ]
     },
     "metadata": {},
     "output_type": "display_data"
    },
    {
     "data": {
      "text/markdown": [
       "#### $\\mathcal{C}_{\\rho}^{\\mathrm{rpb}}$ Marginal coverage: **0.70**, worst-slab conditional coverage: **0.54**"
      ],
      "text/plain": [
       "<IPython.core.display.Markdown object>"
      ]
     },
     "metadata": {},
     "output_type": "display_data"
    },
    {
     "data": {
      "text/markdown": [
       "#### $\\mathcal{C}_{\\rho}^{\\mathrm{rpb}}$ Marginal coverage: **0.70**, worst-slab conditional coverage: **0.51**"
      ],
      "text/plain": [
       "<IPython.core.display.Markdown object>"
      ]
     },
     "metadata": {},
     "output_type": "display_data"
    },
    {
     "data": {
      "text/markdown": [
       "#### $\\mathcal{C}_{\\rho}^{\\mathrm{rpb}}$ Marginal coverage: **0.70**, worst-slab conditional coverage: **0.52**"
      ],
      "text/plain": [
       "<IPython.core.display.Markdown object>"
      ]
     },
     "metadata": {},
     "output_type": "display_data"
    },
    {
     "data": {
      "text/markdown": [
       "#### $\\mathcal{C}_{\\rho}^{\\mathrm{rpb}}$ Marginal coverage: **0.70**, worst-slab conditional coverage: **0.56**"
      ],
      "text/plain": [
       "<IPython.core.display.Markdown object>"
      ]
     },
     "metadata": {},
     "output_type": "display_data"
    },
    {
     "data": {
      "text/markdown": [
       "#### $\\mathcal{C}_{\\rho}^{\\mathrm{rpb}}$ Marginal coverage: **0.70**, worst-slab conditional coverage: **0.52**"
      ],
      "text/plain": [
       "<IPython.core.display.Markdown object>"
      ]
     },
     "metadata": {},
     "output_type": "display_data"
    },
    {
     "data": {
      "text/markdown": [
       "#### $\\mathcal{C}_{\\rho}^{\\mathrm{rpb}}$ Marginal coverage: **0.70**, worst-slab conditional coverage: **0.48**"
      ],
      "text/plain": [
       "<IPython.core.display.Markdown object>"
      ]
     },
     "metadata": {},
     "output_type": "display_data"
    },
    {
     "data": {
      "text/markdown": [
       "#### $\\mathcal{C}_{\\rho}^{\\mathrm{rpb}}$ Marginal coverage: **0.70**, worst-slab conditional coverage: **0.56**"
      ],
      "text/plain": [
       "<IPython.core.display.Markdown object>"
      ]
     },
     "metadata": {},
     "output_type": "display_data"
    }
   ],
   "source": [
    "for rs in range(10):\n",
    "    n1 = ds.n_cal // 2\n",
    "\n",
    "    is_covered_51b, mu, psi, threshold_51b = otcp_predict_coverage(\n",
    "        scores_cal1=quantiles_cal[:n1],\n",
    "        scores_cal2=quantiles_cal[n1:],\n",
    "        scores_test=quantiles_test,\n",
    "        q=1 - alpha\n",
    "    )\n",
    "\n",
    "    cov_51b = is_covered_51b.mean()\n",
    "    wsc_51b = wsc_unbiased(ds.X_test, is_covered_51b, delta=0.1, M=10000, random_state=rs, n_cpus=8, verbose=False)\n",
    "    display(\n",
    "        Markdown(\n",
    "            r\"#### $\\mathcal{C}_{\\rho}^{\\mathrm{rpb}}$ Marginal coverage: \" +\n",
    "            f\"**{cov_51b:.2f}**, \" +\n",
    "            f\"worst-slab conditional coverage: **{wsc_51b:.2f}**\"\n",
    "        )\n",
    "    )"
   ]
  },
  {
   "cell_type": "markdown",
   "id": "88343971",
   "metadata": {},
   "source": [
    "To get good conditional coverage, reranking map has to be fitted on a large sample."
   ]
  },
  {
   "cell_type": "markdown",
   "id": "f873b963",
   "metadata": {},
   "source": [
    "### Part 4: implement Method 5.2 HPD-based scores"
   ]
  },
  {
   "cell_type": "code",
   "execution_count": 24,
   "id": "2202df91",
   "metadata": {},
   "outputs": [],
   "source": [
    "from torch.func import hessian"
   ]
  },
  {
   "cell_type": "code",
   "execution_count": 25,
   "id": "d5e7a3ff",
   "metadata": {},
   "outputs": [],
   "source": [
    "compute_batch_hessian = torch.vmap(func=hessian(reg.model.potential_network, argnums=1), \n",
    "                                   in_dims=0, chunk_size=1024)\n",
    "\n",
    "hessians_cal = compute_batch_hessian(torch.tensor(ds.X_cal), torch.tensor(ds.Y_cal)).squeeze()\n",
    "hessians_test = compute_batch_hessian(torch.tensor(ds.X_test), torch.tensor(ds.Y_test)).squeeze()"
   ]
  },
  {
   "cell_type": "code",
   "execution_count": 26,
   "id": "0d2c95f5",
   "metadata": {},
   "outputs": [],
   "source": [
    "logdet_hessians_cal = torch.logdet(hessians_cal).numpy(force=True)\n",
    "logdet_hessians_test = torch.logdet(hessians_test).numpy(force=True)"
   ]
  },
  {
   "cell_type": "code",
   "execution_count": 27,
   "id": "a6ebaa3a",
   "metadata": {},
   "outputs": [],
   "source": [
    "log_f_u_cal = multivariate_normal.logpdf(quantiles_cal, mean=np.zeros(4))\n",
    "log_f_u_test = multivariate_normal.logpdf(quantiles_test, mean=np.zeros(4))"
   ]
  },
  {
   "cell_type": "code",
   "execution_count": 28,
   "id": "a37127f5",
   "metadata": {},
   "outputs": [],
   "source": [
    "scores_cal_52 = log_f_u_cal + logdet_hessians_cal\n",
    "scores_test_52 = log_f_u_test + logdet_hessians_test\n",
    "\n",
    "# scores_cal_52 = reg.model.flow.logp(torch.tensor(ds.Y_cal), torch.tensor(ds.X_cal)).numpy(force=True)\n",
    "# scores_test_52 = reg.model.flow.logp(torch.tensor(ds.Y_test), torch.tensor(ds.X_test)).numpy(force=True)"
   ]
  },
  {
   "cell_type": "code",
   "execution_count": 29,
   "id": "3df3b09b",
   "metadata": {},
   "outputs": [
    {
     "data": {
      "text/plain": [
       "(array([1.83e+03, 1.02e+02, 3.70e+01, 1.10e+01, 1.00e+01, 4.00e+00,\n",
       "        0.00e+00, 1.00e+00, 3.00e+00, 2.00e+00]),\n",
       " array([1.56240692e-64, 1.15404962e+03, 2.30809923e+03, 3.46214885e+03,\n",
       "        4.61619846e+03, 5.77024808e+03, 6.92429769e+03, 8.07834731e+03,\n",
       "        9.23239692e+03, 1.03864465e+04, 1.15404962e+04]),\n",
       " <BarContainer object of 10 artists>)"
      ]
     },
     "execution_count": 29,
     "metadata": {},
     "output_type": "execute_result"
    },
    {
     "data": {
      "image/png": "[encoded data removed]",
      "text/plain": [
       "<Figure size 640x480 with 1 Axes>"
      ]
     },
     "metadata": {},
     "output_type": "display_data"
    }
   ],
   "source": [
    "plt.hist(torch.exp(torch.tensor(scores_cal_52)))"
   ]
  },
  {
   "cell_type": "code",
   "execution_count": 30,
   "id": "e1967113",
   "metadata": {},
   "outputs": [
    {
     "data": {
      "text/markdown": [
       "#### $\\mathcal{C}_{\\rho}^{\\mathrm{HPD}}$ Marginal coverage: **0.70**, worst-slab conditional coverage: **0.34**"
      ],
      "text/plain": [
       "<IPython.core.display.Markdown object>"
      ]
     },
     "metadata": {},
     "output_type": "display_data"
    },
    {
     "data": {
      "text/markdown": [
       "#### $\\mathcal{C}_{\\rho}^{\\mathrm{HPD}}$ Marginal coverage: **0.70**, worst-slab conditional coverage: **0.41**"
      ],
      "text/plain": [
       "<IPython.core.display.Markdown object>"
      ]
     },
     "metadata": {},
     "output_type": "display_data"
    },
    {
     "data": {
      "text/markdown": [
       "#### $\\mathcal{C}_{\\rho}^{\\mathrm{HPD}}$ Marginal coverage: **0.70**, worst-slab conditional coverage: **0.34**"
      ],
      "text/plain": [
       "<IPython.core.display.Markdown object>"
      ]
     },
     "metadata": {},
     "output_type": "display_data"
    },
    {
     "data": {
      "text/markdown": [
       "#### $\\mathcal{C}_{\\rho}^{\\mathrm{HPD}}$ Marginal coverage: **0.70**, worst-slab conditional coverage: **0.36**"
      ],
      "text/plain": [
       "<IPython.core.display.Markdown object>"
      ]
     },
     "metadata": {},
     "output_type": "display_data"
    },
    {
     "data": {
      "text/markdown": [
       "#### $\\mathcal{C}_{\\rho}^{\\mathrm{HPD}}$ Marginal coverage: **0.70**, worst-slab conditional coverage: **0.36**"
      ],
      "text/plain": [
       "<IPython.core.display.Markdown object>"
      ]
     },
     "metadata": {},
     "output_type": "display_data"
    },
    {
     "data": {
      "text/markdown": [
       "#### $\\mathcal{C}_{\\rho}^{\\mathrm{HPD}}$ Marginal coverage: **0.70**, worst-slab conditional coverage: **0.42**"
      ],
      "text/plain": [
       "<IPython.core.display.Markdown object>"
      ]
     },
     "metadata": {},
     "output_type": "display_data"
    },
    {
     "data": {
      "text/markdown": [
       "#### $\\mathcal{C}_{\\rho}^{\\mathrm{HPD}}$ Marginal coverage: **0.70**, worst-slab conditional coverage: **0.38**"
      ],
      "text/plain": [
       "<IPython.core.display.Markdown object>"
      ]
     },
     "metadata": {},
     "output_type": "display_data"
    },
    {
     "data": {
      "text/markdown": [
       "#### $\\mathcal{C}_{\\rho}^{\\mathrm{HPD}}$ Marginal coverage: **0.70**, worst-slab conditional coverage: **0.36**"
      ],
      "text/plain": [
       "<IPython.core.display.Markdown object>"
      ]
     },
     "metadata": {},
     "output_type": "display_data"
    },
    {
     "data": {
      "text/markdown": [
       "#### $\\mathcal{C}_{\\rho}^{\\mathrm{HPD}}$ Marginal coverage: **0.70**, worst-slab conditional coverage: **0.40**"
      ],
      "text/plain": [
       "<IPython.core.display.Markdown object>"
      ]
     },
     "metadata": {},
     "output_type": "display_data"
    },
    {
     "data": {
      "text/markdown": [
       "#### $\\mathcal{C}_{\\rho}^{\\mathrm{HPD}}$ Marginal coverage: **0.70**, worst-slab conditional coverage: **0.41**"
      ],
      "text/plain": [
       "<IPython.core.display.Markdown object>"
      ]
     },
     "metadata": {},
     "output_type": "display_data"
    }
   ],
   "source": [
    "for rs in range(10):\n",
    "    threshold_52 = np.quantile(scores_cal_52, q=(ds.n_cal + 1) * (alpha) / ds.n_cal)\n",
    "\n",
    "    is_covered_52 = scores_test_52 >= threshold_52\n",
    "\n",
    "    cov_52 = is_covered_52.mean()\n",
    "    wsc_52 = wsc_unbiased(ds.X_test, is_covered_52, delta=0.1, M=10000, random_state=rs, n_cpus=8)\n",
    "\n",
    "    display(\n",
    "        Markdown(\n",
    "            r\"#### $\\mathcal{C}_{\\rho}^{\\mathrm{HPD}}$ Marginal coverage: \" +\n",
    "            f\"**{cov_52:.2f}**, \" +\n",
    "            f\"worst-slab conditional coverage: **{wsc_52:.2f}**\"\n",
    "        )\n",
    "    )"
   ]
  },
  {
   "cell_type": "markdown",
   "id": "04910594",
   "metadata": {},
   "source": [
    "## Part 5: estimate areas"
   ]
  },
  {
   "cell_type": "code",
   "execution_count": 64,
   "id": "deb4523c",
   "metadata": {},
   "outputs": [],
   "source": [
    "from tqdm.auto import tqdm\n",
    "\n",
    "\n",
    "ymin = ds.Y_train.min(axis=0)\n",
    "ymax = ds.Y_train.max(axis=0)\n",
    "\n",
    "scale = np.prod(ymax - ymin)\n",
    "n_samples = 10000\n"
   ]
  },
  {
   "cell_type": "code",
   "execution_count": 65,
   "id": "8d32ed9f",
   "metadata": {},
   "outputs": [
    {
     "data": {
      "text/plain": [
       "(array([-1.53404409, -4.73000483, -1.34816413, -1.008556  ]),\n",
       " array([3.01682506, 5.11761343, 2.89372416, 3.28451085]),\n",
       " np.float64(816.1170119657136))"
      ]
     },
     "execution_count": 65,
     "metadata": {},
     "output_type": "execute_result"
    }
   ],
   "source": [
    "ymin, ymax, scale"
   ]
  },
  {
   "cell_type": "code",
   "execution_count": 66,
   "id": "b4f9c4fc",
   "metadata": {},
   "outputs": [
    {
     "data": {
      "text/plain": [
       "((20000000, 16), (20000000, 4))"
      ]
     },
     "execution_count": 66,
     "metadata": {},
     "output_type": "execute_result"
    }
   ],
   "source": [
    "X_test_sampled = np.repeat(ds.X_test, repeats=n_samples, axis=0)\n",
    "Y_test_sampled = ymin + np.random.default_rng(31337).random((n_samples * ds.n_test, 4)\n",
    "                                         ) * (ymax - ymin)\n",
    "X_test_sampled.shape, Y_test_sampled.shape"
   ]
  },
  {
   "cell_type": "code",
   "execution_count": 67,
   "id": "07020fb6",
   "metadata": {},
   "outputs": [
    {
     "data": {
      "text/plain": [
       "(array([ 1.49933056, -0.64276521,  1.56425645, -0.12715819]),\n",
       " array([ 0.09479843,  3.64582355, -1.07693054,  2.00216175]))"
      ]
     },
     "execution_count": 67,
     "metadata": {},
     "output_type": "execute_result"
    }
   ],
   "source": [
    "ds.Y_test[0], Y_test_sampled[0]"
   ]
  },
  {
   "cell_type": "code",
   "execution_count": 68,
   "id": "d79b1623",
   "metadata": {},
   "outputs": [
    {
     "data": {
      "image/png": "[encoded data removed]",
      "text/plain": [
       "<Figure size 640x480 with 1 Axes>"
      ]
     },
     "metadata": {},
     "output_type": "display_data"
    }
   ],
   "source": [
    "plt.figure()\n",
    "plt.hist(ds.Y_test[:, 0], label='Test', alpha=0.3, density=True)\n",
    "plt.hist(ds.Y_test[:, 1], label='Test', alpha=0.3, density=True)\n",
    "plt.hist(ds.Y_test[:, 2], label='Test', alpha=0.3, density=True)\n",
    "plt.hist(ds.Y_test[:, 3], label='Test', alpha=0.3, density=True)\n",
    "# plt.hist(ds.Y_test[:, 3], label='Test', alpha=0.3, density=True)\n",
    "# plt.hist(ds.Y_test[:, 4], label='Test', alpha=0.3, density=True)\n",
    "# plt.hist(ds.Y_test[:, 5], label='Test', alpha=0.3, density=True)\n",
    "# plt.hist(ds.Y_test[:, 6], label='Test', alpha=0.3, density=True)\n",
    "# plt.hist(ds.Y_test[:, 7], label='Test', alpha=0.3, density=True)\n",
    "# plt.hist(Y_test_sampled[:, 1], label='Samples for areas', alpha=0.3, density=True)\n",
    "plt.show()\n"
   ]
  },
  {
   "cell_type": "code",
   "execution_count": 69,
   "id": "de86e8e8",
   "metadata": {},
   "outputs": [
    {
     "name": "stdout",
     "output_type": "stream",
     "text": [
      "(20000000,)\n"
     ]
    },
    {
     "data": {
      "application/vnd.jupyter.widget-view+json": {
       "model_id": "a853c29b6b894592b8065327209142c5",
       "version_major": 2,
       "version_minor": 0
      },
      "text/plain": [
       "  0%|          | 0/2000 [00:00<?, ?it/s]"
      ]
     },
     "metadata": {},
     "output_type": "display_data"
    },
    {
     "data": {
      "text/plain": [
       "((20000000,), (20000000,))"
      ]
     },
     "execution_count": 69,
     "metadata": {},
     "output_type": "execute_result"
    }
   ],
   "source": [
    "is_covered_sampled_51b = np.zeros(ds.n_test * n_samples)\n",
    "quantiles_test_sampled = np.zeros((ds.n_test * n_samples, 4))\n",
    "print(is_covered_sampled_51b.shape)\n",
    "for i in tqdm(range(ds.n_test)):\n",
    "    start = i * n_samples\n",
    "    stop = (i + 1) * n_samples\n",
    "    quantiles_test_sampled[start:stop] = \\\n",
    "        reg.predict_quantile(X_test_sampled[start:stop], Y_test_sampled[start:stop])\n",
    "    is_covered_sampled_51b[start:stop] = \\\n",
    "        _get_coverage_otcp(quantiles_test_sampled[start:stop], mu, psi, threshold_51b, verbose=False)\n",
    "\n",
    "\n",
    "is_covered_sampled_51a = np.linalg.norm(quantiles_test_sampled, axis=1) <= threshold_51a\n",
    "\n",
    "is_covered_sampled_51a.shape, is_covered_sampled_51b.shape"
   ]
  },
  {
   "cell_type": "code",
   "execution_count": 70,
   "id": "7ac1ae74",
   "metadata": {},
   "outputs": [
    {
     "data": {
      "text/plain": [
       "array([1349.92793945, 2503.44224426,  414.15608348, ...,  273.45274222,\n",
       "        193.61996584,  331.65930173], shape=(20000000,))"
      ]
     },
     "execution_count": 70,
     "metadata": {},
     "output_type": "execute_result"
    }
   ],
   "source": [
    "np.linalg.norm(quantiles_test_sampled, axis=1)**2"
   ]
  },
  {
   "cell_type": "code",
   "execution_count": 71,
   "id": "3796d851",
   "metadata": {},
   "outputs": [],
   "source": [
    "from scipy import stats\n",
    "\n",
    "\n",
    "def draw_qq_scores(scores, ax):\n",
    "    n, d = scores.shape\n",
    "    for j in range(d):\n",
    "        stats.probplot(\n",
    "            scores[:, j],\n",
    "            dist=\"norm\",\n",
    "            fit=False,\n",
    "            plot=ax,\n",
    "        )\n",
    "        ax.get_lines()[j].set_markerfacecolor(f'C{j}')\n",
    "        ax.get_lines()[j].set_markeredgecolor(f'C{j}')\n",
    "    ax.plot([-3, 3], [-3, 3], ls='--', c='k')\n"
   ]
  },
  {
   "cell_type": "code",
   "execution_count": 72,
   "id": "de86e8e8",
   "metadata": {},
   "outputs": [
    {
     "data": {
      "application/vnd.jupyter.widget-view+json": {
       "model_id": "44e79d36be41404eaf682fa444673d65",
       "version_major": 2,
       "version_minor": 0
      },
      "text/plain": [
       "  0%|          | 0/250 [00:00<?, ?it/s]"
      ]
     },
     "metadata": {},
     "output_type": "display_data"
    },
    {
     "name": "stdout",
     "output_type": "stream",
     "text": [
      "0 0 80000\n",
      "200 16000000 16080000\n"
     ]
    }
   ],
   "source": [
    "import gc\n",
    "\n",
    "reg.model.cpu()\n",
    "_compute_batch_hessian = torch.vmap(func=hessian(reg.model.potential_network, argnums=1), \n",
    "                                   in_dims=0, chunk_size=8192)\n",
    "\n",
    "log_det_hessians_test_samples = np.zeros(ds.n_test * n_samples)\n",
    "for i in tqdm(range(ds.n_test // 8)):\n",
    "    start = i * n_samples * 8\n",
    "    stop = (i + 1) * n_samples * 8\n",
    "    if i % 200 == 0:\n",
    "        print(i, start, stop)\n",
    "\n",
    "    _hessians = _compute_batch_hessian(\n",
    "        torch.tensor(X_test_sampled[start:stop]),\n",
    "        torch.tensor(Y_test_sampled[start:stop])\n",
    "    )[:, 0].detach()\n",
    "\n",
    "    log_det_hessians_test_samples[start:stop] = \\\n",
    "        torch.logdet(_hessians).squeeze().detach().numpy(force=True)\n",
    "\n",
    "    if i > 0 and i % 100 == 0:\n",
    "        gc.collect()\n",
    "_ = reg.model.cpu()"
   ]
  },
  {
   "cell_type": "code",
   "execution_count": 73,
   "id": "2181dee8",
   "metadata": {},
   "outputs": [
    {
     "name": "stdout",
     "output_type": "stream",
     "text": [
      "log_det_hessians_test_samples.shape=(20000000,)\n"
     ]
    }
   ],
   "source": [
    "print(f\"{log_det_hessians_test_samples.shape=}\")\n",
    "log_f_u_test_samples = multivariate_normal.logpdf(quantiles_test_sampled, mean=np.zeros(4))\n",
    "log_dets_test_sampled = log_det_hessians_test_samples\n",
    "scores_test_sampled_52 = log_f_u_test_samples + log_dets_test_sampled\n",
    "is_covered_sampled_52 = scores_test_sampled_52 >= threshold_52"
   ]
  },
  {
   "cell_type": "code",
   "execution_count": 74,
   "id": "177164ae",
   "metadata": {},
   "outputs": [
    {
     "data": {
      "text/plain": [
       "((20000000, 4),)"
      ]
     },
     "execution_count": 74,
     "metadata": {},
     "output_type": "execute_result"
    }
   ],
   "source": [
    "quantiles_test_sampled.shape, "
   ]
  },
  {
   "cell_type": "code",
   "execution_count": 75,
   "id": "1f7ad6e5",
   "metadata": {},
   "outputs": [],
   "source": [
    "X = ds.X_test[0:1]"
   ]
  },
  {
   "cell_type": "code",
   "execution_count": 76,
   "id": "976cf932",
   "metadata": {},
   "outputs": [],
   "source": [
    "Y_max_tensor, Y_min_tensor = torch.tensor(ymax), torch.tensor(ymin)\n",
    "X_tensor = torch.tensor(X).repeat((10_000, 1))\n",
    "Y_tensor = Y_min_tensor + torch.rand((10_000, 4)) * (Y_max_tensor - Y_min_tensor)\n",
    "U_tensor = torch.randn(10_000, 4).to(Y_tensor)"
   ]
  },
  {
   "cell_type": "code",
   "execution_count": null,
   "id": "f43032a9",
   "metadata": {},
   "outputs": [],
   "source": []
  },
  {
   "cell_type": "code",
   "execution_count": 77,
   "id": "5fd75275",
   "metadata": {},
   "outputs": [
    {
     "data": {
      "image/png": "[encoded data removed]",
      "text/plain": [
       "<Figure size 640x480 with 1 Axes>"
      ]
     },
     "metadata": {},
     "output_type": "display_data"
    }
   ],
   "source": [
    "plt.hist(Y_tensor[:, 0])\n",
    "plt.hist(reg.model.push_u_given_x(U_tensor, X_tensor)[:, 0])\n",
    "plt.show()"
   ]
  },
  {
   "cell_type": "code",
   "execution_count": 78,
   "id": "599f2062",
   "metadata": {},
   "outputs": [
    {
     "data": {
      "text/plain": [
       "(array([1.000e+00, 9.000e+00, 1.390e+02, 6.810e+02, 2.065e+03, 3.073e+03,\n",
       "        2.543e+03, 1.152e+03, 3.030e+02, 3.400e+01]),\n",
       " array([-4.50258255, -3.71246505, -2.92234755, -2.13223004, -1.34211254,\n",
       "        -0.55199504,  0.23812246,  1.0282402 ,  1.81835747,  2.60847473,\n",
       "         3.39859247]),\n",
       " <BarContainer object of 10 artists>)"
      ]
     },
     "execution_count": 78,
     "metadata": {},
     "output_type": "execute_result"
    },
    {
     "data": {
      "image/png": "[encoded data removed]",
      "text/plain": [
       "<Figure size 640x480 with 1 Axes>"
      ]
     },
     "metadata": {},
     "output_type": "display_data"
    }
   ],
   "source": [
    "plt.hist(reg.model.push_y_given_x(Y_tensor, X_tensor)[:, 0])\n",
    "plt.hist(torch.randn(10_000))"
   ]
  },
  {
   "cell_type": "code",
   "execution_count": 79,
   "id": "19fe32a2",
   "metadata": {},
   "outputs": [
    {
     "data": {
      "text/plain": [
       "(array([4.91650256, 4.96865414, 6.84131262, ..., 6.71111284, 6.10256249,\n",
       "        5.03675056], shape=(20000000,)),\n",
       " array([ -678.63972386, -1255.39687626,  -210.75379587, ...,\n",
       "         -140.40212524,  -100.48573705,  -169.505405  ], shape=(20000000,)))"
      ]
     },
     "execution_count": 79,
     "metadata": {},
     "output_type": "execute_result"
    }
   ],
   "source": [
    "log_det_hessians_test_samples, log_f_u_test_samples"
   ]
  },
  {
   "cell_type": "code",
   "execution_count": 80,
   "id": "558b855b",
   "metadata": {},
   "outputs": [
    {
     "data": {
      "text/plain": [
       "(20000000,)"
      ]
     },
     "execution_count": 80,
     "metadata": {},
     "output_type": "execute_result"
    }
   ],
   "source": [
    "is_covered_sampled_51a.shape"
   ]
  },
  {
   "cell_type": "code",
   "execution_count": 81,
   "id": "7608eb0b",
   "metadata": {},
   "outputs": [],
   "source": [
    "areas_51a, areas_51b, areas_52 = map(lambda t: t.reshape(ds.n_test, n_samples).mean(axis=-1) * scale, \n",
    "                                     (is_covered_sampled_51a, is_covered_sampled_51b, is_covered_sampled_52))"
   ]
  },
  {
   "cell_type": "code",
   "execution_count": 82,
   "id": "961a6471",
   "metadata": {},
   "outputs": [
    {
     "data": {
      "text/plain": [
       "np.float64(0.0)"
      ]
     },
     "execution_count": 82,
     "metadata": {},
     "output_type": "execute_result"
    }
   ],
   "source": [
    "areas_51a[0]"
   ]
  },
  {
   "cell_type": "code",
   "execution_count": 83,
   "id": "819291d5",
   "metadata": {},
   "outputs": [
    {
     "data": {
      "text/plain": [
       "(array([1892.,   47.,   28.,   10.,    8.,    3.,    3.,    2.,    4.,\n",
       "           3.]),\n",
       " array([0.        , 0.48967021, 0.97934041, 1.46901062, 1.95868083,\n",
       "        2.44835104, 2.93802124, 3.42769145, 3.91736166, 4.40703186,\n",
       "        4.89670207]),\n",
       " <BarContainer object of 10 artists>)"
      ]
     },
     "execution_count": 83,
     "metadata": {},
     "output_type": "execute_result"
    },
    {
     "data": {
      "image/png": "[encoded data removed]",
      "text/plain": [
       "<Figure size 640x480 with 1 Axes>"
      ]
     },
     "metadata": {},
     "output_type": "display_data"
    }
   ],
   "source": [
    "plt.hist(areas_51a)"
   ]
  },
  {
   "cell_type": "code",
   "execution_count": 84,
   "id": "807bb95a",
   "metadata": {},
   "outputs": [
    {
     "data": {
      "text/plain": [
       "np.float64(0.014690106215382847)"
      ]
     },
     "execution_count": 84,
     "metadata": {},
     "output_type": "execute_result"
    }
   ],
   "source": [
    "areas_52.mean()"
   ]
  },
  {
   "cell_type": "code",
   "execution_count": 85,
   "id": "cbd0b657",
   "metadata": {},
   "outputs": [
    {
     "data": {
      "text/markdown": [
       "#### Areas \\n ${\\mathrm{PB}}$:   **0.12**,  ${\\mathrm{RPB}}$:   **0.14**,  ${\\mathrm{HPD}}$:   **0.01**,  "
      ],
      "text/plain": [
       "<IPython.core.display.Markdown object>"
      ]
     },
     "metadata": {},
     "output_type": "display_data"
    },
    {
     "data": {
      "text/plain": [
       "3"
      ]
     },
     "execution_count": 85,
     "metadata": {},
     "output_type": "execute_result"
    }
   ],
   "source": [
    "display(\n",
    "    Markdown(\n",
    "        r\"#### Areas \\n ${\\mathrm{PB}}$:   \" +\n",
    "        f\"**{areas_51a.mean():.2f}**,  \" + \n",
    "        r\"${\\mathrm{RPB}}$:   \" +\n",
    "        f\"**{areas_51b.mean():.2f}**,  \" + \n",
    "        r\"${\\mathrm{HPD}}$:   \" +\n",
    "        f\"**{areas_52.mean():.2f}**,  \"\n",
    "    )\n",
    ")\n",
    "3"
   ]
  },
  {
   "cell_type": "code",
   "execution_count": 86,
   "id": "822b94cf",
   "metadata": {},
   "outputs": [
    {
     "data": {
      "text/plain": [
       "(np.float64(2.290341356761194),\n",
       " np.float64(0.6916916916916916),\n",
       " np.float64(2.3228225648323586))"
      ]
     },
     "execution_count": 86,
     "metadata": {},
     "output_type": "execute_result"
    }
   ],
   "source": [
    "(threshold_51a, threshold_51b, threshold_52)"
   ]
  },
  {
   "cell_type": "code",
   "execution_count": 87,
   "id": "b365c26f",
   "metadata": {},
   "outputs": [
    {
     "data": {
      "text/plain": [
       "(np.float64(1.8e-05), np.int64(360))"
      ]
     },
     "execution_count": 87,
     "metadata": {},
     "output_type": "execute_result"
    }
   ],
   "source": [
    "is_covered_sampled_52.mean(), is_covered_sampled_52.sum()"
   ]
  },
  {
   "cell_type": "code",
   "execution_count": 88,
   "id": "a1b68bf0",
   "metadata": {},
   "outputs": [
    {
     "data": {
      "text/plain": [
       "(np.float64(0.0001422), np.int64(2844))"
      ]
     },
     "execution_count": 88,
     "metadata": {},
     "output_type": "execute_result"
    }
   ],
   "source": [
    "is_covered_sampled_51a.mean(), is_covered_sampled_51a.sum()"
   ]
  },
  {
   "cell_type": "code",
   "execution_count": 89,
   "id": "d8ab760d",
   "metadata": {},
   "outputs": [
    {
     "data": {
      "text/plain": [
       "(np.float64(0.0001735), np.float64(3470.0))"
      ]
     },
     "execution_count": 89,
     "metadata": {},
     "output_type": "execute_result"
    }
   ],
   "source": [
    "is_covered_sampled_51b.mean(), is_covered_sampled_51b.sum()"
   ]
  },
  {
   "cell_type": "code",
   "execution_count": 90,
   "id": "1d2123b2",
   "metadata": {},
   "outputs": [
    {
     "data": {
      "text/plain": [
       "0.0006553600000000003"
      ]
     },
     "execution_count": 90,
     "metadata": {},
     "output_type": "execute_result"
    }
   ],
   "source": [
    "0.4 ** 8"
   ]
  },
  {
   "cell_type": "code",
   "execution_count": 91,
   "id": "44a95bc1",
   "metadata": {},
   "outputs": [
    {
     "data": {
      "text/plain": [
       "(array([ -678.63972386, -1255.39687626,  -210.75379587,  -637.18089152,\n",
       "        -1326.71034144,  -797.30617238,  -488.78149603,  -385.2672454 ,\n",
       "         -447.6891932 ,  -446.90636179]),\n",
       " array([ 4.91650256,  4.96865414,  6.84131262, -1.53886575,  3.20294564,\n",
       "         2.92461019,  3.60325096,  5.34653531,  7.91124724,  3.56430129]))"
      ]
     },
     "execution_count": 91,
     "metadata": {},
     "output_type": "execute_result"
    }
   ],
   "source": [
    "log_f_u_test_samples[:10], log_dets_test_sampled[:10]"
   ]
  },
  {
   "cell_type": "code",
   "execution_count": 92,
   "id": "aab6bf05",
   "metadata": {},
   "outputs": [
    {
     "data": {
      "image/png": "[encoded data removed]",
      "text/plain": [
       "<Figure size 640x480 with 1 Axes>"
      ]
     },
     "metadata": {},
     "output_type": "display_data"
    }
   ],
   "source": [
    "plt.figure()\n",
    "plt.hist(log_f_u_test_samples, bins=500, density=True, alpha=0.3, label=\"log U density\")\n",
    "plt.hist(log_dets_test_sampled, bins=500, density=True, alpha=0.3, label=\"log det Hessian\")\n",
    "plt.xlim(-500, 500)\n",
    "plt.legend()\n",
    "plt.show()"
   ]
  },
  {
   "cell_type": "code",
   "execution_count": 93,
   "id": "78bf572d",
   "metadata": {},
   "outputs": [
    {
     "data": {
      "text/plain": [
       "np.float64(816.1170119657136)"
      ]
     },
     "execution_count": 93,
     "metadata": {},
     "output_type": "execute_result"
    }
   ],
   "source": [
    "scale"
   ]
  },
  {
   "cell_type": "code",
   "execution_count": 94,
   "id": "c2133833",
   "metadata": {},
   "outputs": [
    {
     "data": {
      "text/plain": [
       "array([0.       , 0.0816117, 0.       , ..., 0.1632234, 0.       ,\n",
       "       0.       ], shape=(2000,))"
      ]
     },
     "execution_count": 94,
     "metadata": {},
     "output_type": "execute_result"
    }
   ],
   "source": [
    "areas_51b"
   ]
  },
  {
   "cell_type": "code",
   "execution_count": 95,
   "id": "02a8401f",
   "metadata": {},
   "outputs": [
    {
     "data": {
      "text/plain": [
       "(np.float64(0.0001422), np.float64(0.0001735), np.float64(1.8e-05))"
      ]
     },
     "execution_count": 95,
     "metadata": {},
     "output_type": "execute_result"
    }
   ],
   "source": [
    "is_covered_sampled_51a.mean(), is_covered_sampled_51b.mean(), is_covered_sampled_52.mean()"
   ]
  }
 ],
 "metadata": {
  "kernelspec": {
   "display_name": ".venv",
   "language": "python",
   "name": "python3"
  },
  "language_info": {
   "codemirror_mode": {
    "name": "ipython",
    "version": 3
   },
   "file_extension": ".py",
   "mimetype": "text/x-python",
   "name": "python",
   "nbconvert_exporter": "python",
   "pygments_lexer": "ipython3",
   "version": "3.13.6"
  }
 },
 "nbformat": 4,
 "nbformat_minor": 5
}
