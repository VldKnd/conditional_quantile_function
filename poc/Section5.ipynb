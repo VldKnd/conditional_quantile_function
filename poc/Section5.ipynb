{
 "cells": [
  {
   "cell_type": "code",
   "execution_count": 47,
   "id": "c02fc38a",
   "metadata": {},
   "outputs": [
    {
     "name": "stdout",
     "output_type": "stream",
     "text": [
      "The autoreload extension is already loaded. To reload it, use:\n",
      "  %reload_ext autoreload\n"
     ]
    }
   ],
   "source": [
    "%load_ext autoreload\n",
    "%autoreload 2"
   ]
  },
  {
   "cell_type": "code",
   "execution_count": 48,
   "id": "2a226ade",
   "metadata": {},
   "outputs": [
    {
     "name": "stdout",
     "output_type": "stream",
     "text": [
      "Old working dir /Users/vladimir.kondratyev/conditional_quantile_function\n",
      "New working dir /Users/vladimir.kondratyev\n"
     ]
    }
   ],
   "source": [
    "import os\n",
    "print(f\"Old working dir {os.getcwd()}\")\n",
    "os.chdir('../')\n",
    "print(f\"New working dir {os.getcwd()}\")"
   ]
  },
  {
   "cell_type": "code",
   "execution_count": 49,
   "id": "67d1cd8b",
   "metadata": {},
   "outputs": [],
   "source": [
    "import numpy as np\n",
    "import torch\n",
    "from torch.utils.data import TensorDataset, DataLoader\n",
    "\n",
    "import matplotlib.pyplot as plt\n",
    "import seaborn as sns\n",
    "\n",
    "%matplotlib inline\n"
   ]
  },
  {
   "cell_type": "code",
   "execution_count": 50,
   "id": "2fd7634c",
   "metadata": {},
   "outputs": [],
   "source": [
    "from scipy.stats import norm, multivariate_normal"
   ]
  },
  {
   "cell_type": "code",
   "execution_count": 51,
   "id": "2cbac04a",
   "metadata": {},
   "outputs": [],
   "source": [
    "def _make_xy_dataloader(X: np.ndarray, Y: np.ndarray, batch_size: int, dtype=torch.float64) -> DataLoader:\n",
    "    dataset = TensorDataset(torch.tensor(X, dtype=dtype), torch.tensor(Y, dtype=dtype))\n",
    "    dataloader = DataLoader(dataset, batch_size=batch_size)\n",
    "    return dataloader\n"
   ]
  },
  {
   "cell_type": "code",
   "execution_count": 61,
   "id": "cb83e751",
   "metadata": {},
   "outputs": [],
   "source": [
    "from infrastructure.classes import TrainParameters\n",
    "from pushforward_operators import NeuralQuantileRegression, AmortizedNeuralQuantileRegression\n",
    "\n",
    "\n",
    "class OurCVQRegressor:\n",
    "\n",
    "    def __init__(\n",
    "        self,\n",
    "        feature_dimension: int,\n",
    "        response_dimension: int,\n",
    "        hidden_dimension: int,\n",
    "        number_of_hidden_layers: int,\n",
    "        batch_size: int,\n",
    "        n_epochs: int,\n",
    "        learning_rate: float = 0.01,\n",
    "        dtype=torch.float64,\n",
    "    ):\n",
    "        self.feature_dimension: int = feature_dimension\n",
    "        self.response_dimension: int = response_dimension\n",
    "        self.hidden_dimension: int = hidden_dimension\n",
    "        self.number_of_hidden_layers: int = number_of_hidden_layers\n",
    "        self.batch_size: int = batch_size\n",
    "        self.n_epochs: int = n_epochs\n",
    "        self.learning_rate: float = learning_rate\n",
    "        self.dtype = dtype\n",
    "        self.model = NeuralQuantileRegression(\n",
    "            feature_dimension=self.feature_dimension,\n",
    "            response_dimension=self.response_dimension,\n",
    "            hidden_dimension=self.hidden_dimension,\n",
    "            number_of_hidden_layers=self.number_of_hidden_layers,\n",
    "            potential_to_estimate_with_neural_network=\"u\",\n",
    "        ).to(self.dtype)\n",
    "\n",
    "    def fit(self, X: np.ndarray, Y:np.ndarray):\n",
    "        dataloader = _make_xy_dataloader(X, Y, batch_size=self.batch_size, dtype=self.dtype)\n",
    "        train_parameters = TrainParameters(number_of_epochs_to_train=self.n_epochs, \n",
    "                                           optimizer_parameters=dict(lr=self.learning_rate),\n",
    "                                           scheduler_parameters={\"eta_min\": 0.},\n",
    "                                           verbose=True)\n",
    "        self.model.fit(dataloader, train_parameters=train_parameters,)\n",
    "\n",
    "    def predict_mean(self, X):\n",
    "        n = X.shape[0]\n",
    "        U = torch.zeros((n, self.response_dimension), dtype=self.dtype)\n",
    "        X_tensor = torch.tensor(X, dtype=self.dtype)\n",
    "        #dataset = TensorDataset(X_tensor, U)\n",
    "        #dataloader = DataLoader(dataset, batch_size=self.batch_size, shuffle=False)\n",
    "        Y = self.model.push_u_given_x(x=X_tensor, u=U)\n",
    "        return Y.numpy(force=True)\n",
    "    \n",
    "    def predict_quantile(self, X, Y):\n",
    "        return self.model.push_y_given_x(y=torch.tensor(Y), \n",
    "                                         x=torch.tensor(X)).numpy(force=True)\n"
   ]
  },
  {
   "cell_type": "code",
   "execution_count": 62,
   "id": "c53d8d55",
   "metadata": {},
   "outputs": [],
   "source": [
    "from conformal.real_datasets.reproducible_split import get_dataset_split, DatasetSplit\n",
    "from utils.network import get_total_number_of_parameters"
   ]
  },
  {
   "cell_type": "code",
   "execution_count": 63,
   "id": "4fcc10c0",
   "metadata": {},
   "outputs": [],
   "source": [
    "seed = 0\n",
    "dataset_name = \"scm1d\"\n",
    "dataset_name = \"rf1\"\n",
    "\n",
    "ds = get_dataset_split(name=dataset_name, seed=seed, n_train=5125)\n",
    "ds.Y_train = ds.Y_train[:, :4]\n",
    "ds.Y_test = ds.Y_test[:, :4]\n",
    "ds.Y_cal = ds.Y_cal[:, :4]\n",
    "\n",
    "ds.X_train = ds.X_train[:, :16] \n",
    "ds.X_test = ds.X_test[:, :16] \n",
    "ds.X_cal = ds.X_cal[:, :16] "
   ]
  },
  {
   "cell_type": "code",
   "execution_count": 64,
   "id": "ac52b51c",
   "metadata": {},
   "outputs": [],
   "source": [
    "from sklearn.linear_model import LinearRegression\n",
    "from sklearn.ensemble import RandomForestRegressor, VotingRegressor\n",
    "from sklearn.model_selection import KFold\n",
    "from sklearn.metrics import mean_squared_error\n",
    "\n",
    "from metrics.wsc import wsc_unbiased"
   ]
  },
  {
   "cell_type": "markdown",
   "id": "8fd3d1df",
   "metadata": {},
   "source": [
    "## Algorithms according to section 5"
   ]
  },
  {
   "cell_type": "code",
   "execution_count": 65,
   "id": "77db522a",
   "metadata": {},
   "outputs": [],
   "source": [
    "alpha = 0.3"
   ]
  },
  {
   "cell_type": "code",
   "execution_count": 66,
   "id": "2546f660",
   "metadata": {},
   "outputs": [],
   "source": [
    "from IPython.display import display, Markdown"
   ]
  },
  {
   "cell_type": "markdown",
   "id": "157bc3c2",
   "metadata": {},
   "source": [
    "### Part 1: Train base model $\\tilde{Q}_{Y|X}^{-1}(X, Y)$ on train set"
   ]
  },
  {
   "cell_type": "code",
   "execution_count": 67,
   "id": "09881362",
   "metadata": {},
   "outputs": [
    {
     "name": "stdout",
     "output_type": "stream",
     "text": [
      "Number of parameters: 1238, number of training samples: 5125.\n"
     ]
    }
   ],
   "source": [
    "reg = OurCVQRegressor(\n",
    "    feature_dimension=16,\n",
    "    response_dimension=4,\n",
    "    hidden_dimension=8,\n",
    "    number_of_hidden_layers=2,\n",
    "    batch_size=32,\n",
    "    n_epochs=50,\n",
    ")\n",
    "\n",
    "print(f\"Number of parameters: {get_total_number_of_parameters(reg.model.potential_network)}, number of training samples: {ds.n_train}.\")"
   ]
  },
  {
   "cell_type": "code",
   "execution_count": 68,
   "id": "4f401dbc",
   "metadata": {},
   "outputs": [
    {
     "name": "stderr",
     "output_type": "stream",
     "text": [
      "Epoch: 50, Objective: 0.444, LR: 0.000000: 100%|██████████| 50/50 [02:06<00:00,  2.54s/it]\n"
     ]
    }
   ],
   "source": [
    "model_savepath = f\"stable_picnn_v0.pth\"\n",
    "if not os.path.isfile(model_savepath):\n",
    "    reg.fit(ds.X_train, ds.Y_train)\n",
    "    reg.model.save(model_savepath)\n",
    "    reg.model.eval()\n",
    "else:\n",
    "    reg.model.load(model_savepath)\n",
    "    reg.model.eval()"
   ]
  },
  {
   "cell_type": "code",
   "execution_count": 69,
   "id": "615e2f58",
   "metadata": {},
   "outputs": [],
   "source": [
    "quantiles_cal = reg.predict_quantile(ds.X_cal, ds.Y_cal)\n",
    "quantiles_test = reg.predict_quantile(ds.X_test, ds.Y_test)"
   ]
  },
  {
   "cell_type": "markdown",
   "id": "93e761e6",
   "metadata": {},
   "source": [
    "Diagnstic plots for quantiles"
   ]
  },
  {
   "cell_type": "code",
   "execution_count": 70,
   "id": "371e053b",
   "metadata": {},
   "outputs": [
    {
     "data": {
      "image/png": "[encoded data removed]",
      "text/plain": [
       "<Figure size 1600x500 with 2 Axes>"
      ]
     },
     "metadata": {},
     "output_type": "display_data"
    }
   ],
   "source": [
    "from scipy.stats import expon\n",
    "\n",
    "t_min = min(quantiles_cal.min(), quantiles_test.min())\n",
    "t_max = max(quantiles_cal.max(), quantiles_test.max())\n",
    "t = np.linspace(t_min, t_max, 500)\n",
    "fig, ax = plt.subplots(nrows=1, ncols=2, figsize=(16, 5))\n",
    "p0 = ax[0].plot(t, norm.pdf(t), 'k--', label=\"N(0, 1)\")\n",
    "hp0 = sns.histplot(quantiles_cal, alpha=0.3, stat=\"density\", common_norm=False, kde=True, ax=ax[0])\n",
    "ax[0].set_title(\"Calibration\")\n",
    "ax[0].set_xlim(-5, 5)\n",
    "hp1 = sns.histplot(quantiles_test, alpha=0.3, stat=\"density\", common_norm=False, kde=True, ax=ax[1])\n",
    "p1 = ax[1].plot(t, norm.pdf(t), 'k--', label=\"N(0, 1)\")\n",
    "ax[1].set_title(\"Test\")\n",
    "ax[1].set_xlim(-5, 5)\n",
    "\n",
    "plt.show()"
   ]
  },
  {
   "cell_type": "code",
   "execution_count": 71,
   "id": "4b9f5193",
   "metadata": {},
   "outputs": [],
   "source": [
    "from scipy import stats\n",
    "\n",
    "\n",
    "def draw_qq_scores(scores, ax):\n",
    "    n, d = scores.shape\n",
    "    for j in range(d):\n",
    "        stats.probplot(\n",
    "            scores[:, j],\n",
    "            dist=\"norm\",\n",
    "            fit=False,\n",
    "            plot=ax,\n",
    "        )\n",
    "        ax.get_lines()[j].set_markerfacecolor(f'C{j}')\n",
    "        ax.get_lines()[j].set_markeredgecolor(f'C{j}')\n",
    "    ax.plot([-3, 3], [-3, 3], ls='--', c='k')\n"
   ]
  },
  {
   "cell_type": "code",
   "execution_count": 72,
   "id": "712be04c",
   "metadata": {},
   "outputs": [
    {
     "data": {
      "text/plain": [
       "Text(0.5, 1.0, 'Test')"
      ]
     },
     "execution_count": 72,
     "metadata": {},
     "output_type": "execute_result"
    },
    {
     "data": {
      "image/png": "[encoded data removed]",
      "text/plain": [
       "<Figure size 1600x500 with 2 Axes>"
      ]
     },
     "metadata": {},
     "output_type": "display_data"
    }
   ],
   "source": [
    "fig, ax = plt.subplots(1, 2, figsize=(16, 5))\n",
    "draw_qq_scores(quantiles_cal, ax[0])\n",
    "ax[0].set_title(\"Calibration\")\n",
    "draw_qq_scores(quantiles_test, ax[1])\n",
    "ax[1].set_title(\"Test\")"
   ]
  },
  {
   "cell_type": "markdown",
   "id": "384bab4a",
   "metadata": {},
   "source": [
    "### Part 2: Implement Method 5.1a (only marginal calibration)\n",
    "\n",
    "Scores $S_i = || \\tilde{Q}_{Y|X}^{-1}(X_i, Y_i) ||$, for $(X_i, Y_i) \\in \\mathcal{D}_{\\mathrm{cal}}$"
   ]
  },
  {
   "cell_type": "code",
   "execution_count": 73,
   "id": "f7f44340",
   "metadata": {},
   "outputs": [],
   "source": [
    "scores_cal_51a = np.linalg.norm(quantiles_cal, axis=1)\n",
    "scores_test_51a = np.linalg.norm(quantiles_test, axis=1)\n",
    "\n",
    "threshold_51a = np.quantile(scores_cal_51a, q=(ds.n_cal + 1) * (1 - alpha) / ds.n_cal)"
   ]
  },
  {
   "cell_type": "code",
   "execution_count": 74,
   "id": "14face63",
   "metadata": {},
   "outputs": [
    {
     "data": {
      "text/markdown": [
       "#### $\\mathcal{C}_{\\rho}^{\\mathrm{pb}}$ Marginal coverage: **0.70**, worst-slab conditional coverage: **0.57**"
      ],
      "text/plain": [
       "<IPython.core.display.Markdown object>"
      ]
     },
     "metadata": {},
     "output_type": "display_data"
    },
    {
     "data": {
      "text/markdown": [
       "#### $\\mathcal{C}_{\\rho}^{\\mathrm{pb}}$ Marginal coverage: **0.70**, worst-slab conditional coverage: **0.45**"
      ],
      "text/plain": [
       "<IPython.core.display.Markdown object>"
      ]
     },
     "metadata": {},
     "output_type": "display_data"
    },
    {
     "data": {
      "text/markdown": [
       "#### $\\mathcal{C}_{\\rho}^{\\mathrm{pb}}$ Marginal coverage: **0.70**, worst-slab conditional coverage: **0.54**"
      ],
      "text/plain": [
       "<IPython.core.display.Markdown object>"
      ]
     },
     "metadata": {},
     "output_type": "display_data"
    },
    {
     "data": {
      "text/markdown": [
       "#### $\\mathcal{C}_{\\rho}^{\\mathrm{pb}}$ Marginal coverage: **0.70**, worst-slab conditional coverage: **0.56**"
      ],
      "text/plain": [
       "<IPython.core.display.Markdown object>"
      ]
     },
     "metadata": {},
     "output_type": "display_data"
    },
    {
     "data": {
      "text/markdown": [
       "#### $\\mathcal{C}_{\\rho}^{\\mathrm{pb}}$ Marginal coverage: **0.70**, worst-slab conditional coverage: **0.57**"
      ],
      "text/plain": [
       "<IPython.core.display.Markdown object>"
      ]
     },
     "metadata": {},
     "output_type": "display_data"
    },
    {
     "data": {
      "text/markdown": [
       "#### $\\mathcal{C}_{\\rho}^{\\mathrm{pb}}$ Marginal coverage: **0.70**, worst-slab conditional coverage: **0.55**"
      ],
      "text/plain": [
       "<IPython.core.display.Markdown object>"
      ]
     },
     "metadata": {},
     "output_type": "display_data"
    },
    {
     "data": {
      "text/markdown": [
       "#### $\\mathcal{C}_{\\rho}^{\\mathrm{pb}}$ Marginal coverage: **0.70**, worst-slab conditional coverage: **0.59**"
      ],
      "text/plain": [
       "<IPython.core.display.Markdown object>"
      ]
     },
     "metadata": {},
     "output_type": "display_data"
    },
    {
     "data": {
      "text/markdown": [
       "#### $\\mathcal{C}_{\\rho}^{\\mathrm{pb}}$ Marginal coverage: **0.70**, worst-slab conditional coverage: **0.53**"
      ],
      "text/plain": [
       "<IPython.core.display.Markdown object>"
      ]
     },
     "metadata": {},
     "output_type": "display_data"
    },
    {
     "data": {
      "text/markdown": [
       "#### $\\mathcal{C}_{\\rho}^{\\mathrm{pb}}$ Marginal coverage: **0.70**, worst-slab conditional coverage: **0.54**"
      ],
      "text/plain": [
       "<IPython.core.display.Markdown object>"
      ]
     },
     "metadata": {},
     "output_type": "display_data"
    },
    {
     "data": {
      "text/markdown": [
       "#### $\\mathcal{C}_{\\rho}^{\\mathrm{pb}}$ Marginal coverage: **0.70**, worst-slab conditional coverage: **0.54**"
      ],
      "text/plain": [
       "<IPython.core.display.Markdown object>"
      ]
     },
     "metadata": {},
     "output_type": "display_data"
    }
   ],
   "source": [
    "is_covered_51a = scores_test_51a <= threshold_51a\n",
    "\n",
    "for rs in range(10):\n",
    "    cov_51a = is_covered_51a.mean()\n",
    "    wsc_51a = wsc_unbiased(ds.X_test, is_covered_51a, delta=0.1, M=10000, random_state=rs, n_cpus=8)\n",
    "    display(\n",
    "        Markdown(\n",
    "            r\"#### $\\mathcal{C}_{\\rho}^{\\mathrm{pb}}$ Marginal coverage: \" +\n",
    "            f\"**{cov_51a:.2f}**, \" +\n",
    "            f\"worst-slab conditional coverage: **{wsc_51a:.2f}**\"\n",
    "        )\n",
    "    )"
   ]
  },
  {
   "cell_type": "markdown",
   "id": "e4902c64",
   "metadata": {},
   "source": [
    "### Part 3: Implement Method 5.1b (re-calibration)\n",
    "\n",
    "Split calibration set in half and use static Monge-Cantorovich reranking."
   ]
  },
  {
   "cell_type": "code",
   "execution_count": 75,
   "id": "396bb0b1",
   "metadata": {},
   "outputs": [],
   "source": [
    "# From official implementation of OT-CP paper\n",
    "from conformal.otcp.functions_refactor import MultivQuantileTresholdRefactor, RankFuncRefactor\n",
    "\n",
    "\n",
    "def _get_coverage_otcp(scores, mu, psi, q_hat, verbose=False):\n",
    "    # Computing coverage on test set\n",
    "    ConditionalRank = RankFuncRefactor(scores, mu, psi)\n",
    "    rank_1d = np.linalg.norm(ConditionalRank, axis=1)\n",
    "    if verbose:\n",
    "        print(f\"{len(np.unique(rank_1d))=}\")\n",
    "    is_covered_otcp = rank_1d <= q_hat\n",
    "    return is_covered_otcp\n",
    "\n",
    "\n",
    "def otcp_predict_coverage(scores_cal1, scores_cal2, scores_test, q=0.9, verbose=False):\n",
    "    Quantile_Treshold, mu, psi, psi_star, data_calib = \\\n",
    "        MultivQuantileTresholdRefactor(scores_cal1, scores_cal2, alpha=q)\n",
    "\n",
    "    # Computing coverage on test set\n",
    "    is_covered_otcp = _get_coverage_otcp(scores_test, mu, psi, Quantile_Treshold, verbose=verbose)\n",
    "    return is_covered_otcp, mu, psi, Quantile_Treshold"
   ]
  },
  {
   "cell_type": "code",
   "execution_count": 76,
   "id": "50051e8a",
   "metadata": {},
   "outputs": [
    {
     "data": {
      "text/markdown": [
       "#### $\\mathcal{C}_{\\rho}^{\\mathrm{rpb}}$ Marginal coverage: **0.68**, worst-slab conditional coverage: **0.51**"
      ],
      "text/plain": [
       "<IPython.core.display.Markdown object>"
      ]
     },
     "metadata": {},
     "output_type": "display_data"
    },
    {
     "data": {
      "text/markdown": [
       "#### $\\mathcal{C}_{\\rho}^{\\mathrm{rpb}}$ Marginal coverage: **0.68**, worst-slab conditional coverage: **0.53**"
      ],
      "text/plain": [
       "<IPython.core.display.Markdown object>"
      ]
     },
     "metadata": {},
     "output_type": "display_data"
    },
    {
     "data": {
      "text/markdown": [
       "#### $\\mathcal{C}_{\\rho}^{\\mathrm{rpb}}$ Marginal coverage: **0.68**, worst-slab conditional coverage: **0.57**"
      ],
      "text/plain": [
       "<IPython.core.display.Markdown object>"
      ]
     },
     "metadata": {},
     "output_type": "display_data"
    },
    {
     "data": {
      "text/markdown": [
       "#### $\\mathcal{C}_{\\rho}^{\\mathrm{rpb}}$ Marginal coverage: **0.68**, worst-slab conditional coverage: **0.50**"
      ],
      "text/plain": [
       "<IPython.core.display.Markdown object>"
      ]
     },
     "metadata": {},
     "output_type": "display_data"
    },
    {
     "data": {
      "text/markdown": [
       "#### $\\mathcal{C}_{\\rho}^{\\mathrm{rpb}}$ Marginal coverage: **0.68**, worst-slab conditional coverage: **0.49**"
      ],
      "text/plain": [
       "<IPython.core.display.Markdown object>"
      ]
     },
     "metadata": {},
     "output_type": "display_data"
    },
    {
     "data": {
      "text/markdown": [
       "#### $\\mathcal{C}_{\\rho}^{\\mathrm{rpb}}$ Marginal coverage: **0.68**, worst-slab conditional coverage: **0.60**"
      ],
      "text/plain": [
       "<IPython.core.display.Markdown object>"
      ]
     },
     "metadata": {},
     "output_type": "display_data"
    },
    {
     "data": {
      "text/markdown": [
       "#### $\\mathcal{C}_{\\rho}^{\\mathrm{rpb}}$ Marginal coverage: **0.68**, worst-slab conditional coverage: **0.55**"
      ],
      "text/plain": [
       "<IPython.core.display.Markdown object>"
      ]
     },
     "metadata": {},
     "output_type": "display_data"
    },
    {
     "data": {
      "text/markdown": [
       "#### $\\mathcal{C}_{\\rho}^{\\mathrm{rpb}}$ Marginal coverage: **0.68**, worst-slab conditional coverage: **0.53**"
      ],
      "text/plain": [
       "<IPython.core.display.Markdown object>"
      ]
     },
     "metadata": {},
     "output_type": "display_data"
    },
    {
     "data": {
      "text/markdown": [
       "#### $\\mathcal{C}_{\\rho}^{\\mathrm{rpb}}$ Marginal coverage: **0.68**, worst-slab conditional coverage: **0.48**"
      ],
      "text/plain": [
       "<IPython.core.display.Markdown object>"
      ]
     },
     "metadata": {},
     "output_type": "display_data"
    },
    {
     "data": {
      "text/markdown": [
       "#### $\\mathcal{C}_{\\rho}^{\\mathrm{rpb}}$ Marginal coverage: **0.68**, worst-slab conditional coverage: **0.50**"
      ],
      "text/plain": [
       "<IPython.core.display.Markdown object>"
      ]
     },
     "metadata": {},
     "output_type": "display_data"
    }
   ],
   "source": [
    "for rs in range(10):\n",
    "    n1 = ds.n_cal // 2\n",
    "\n",
    "    is_covered_51b, mu, psi, threshold_51b = otcp_predict_coverage(\n",
    "        scores_cal1=quantiles_cal[:n1],\n",
    "        scores_cal2=quantiles_cal[n1:],\n",
    "        scores_test=quantiles_test,\n",
    "        q=1 - alpha\n",
    "    )\n",
    "\n",
    "    cov_51b = is_covered_51b.mean()\n",
    "    wsc_51b = wsc_unbiased(ds.X_test, is_covered_51b, delta=0.1, M=10000, random_state=rs, n_cpus=8, verbose=False)\n",
    "    display(\n",
    "        Markdown(\n",
    "            r\"#### $\\mathcal{C}_{\\rho}^{\\mathrm{rpb}}$ Marginal coverage: \" +\n",
    "            f\"**{cov_51b:.2f}**, \" +\n",
    "            f\"worst-slab conditional coverage: **{wsc_51b:.2f}**\"\n",
    "        )\n",
    "    )"
   ]
  },
  {
   "cell_type": "markdown",
   "id": "88343971",
   "metadata": {},
   "source": [
    "To get good conditional coverage, reranking map has to be fitted on a large sample."
   ]
  },
  {
   "cell_type": "markdown",
   "id": "f873b963",
   "metadata": {},
   "source": [
    "### Part 4: implement Method 5.2 HPD-based scores"
   ]
  },
  {
   "cell_type": "code",
   "execution_count": 77,
   "id": "2202df91",
   "metadata": {},
   "outputs": [],
   "source": [
    "from torch.func import hessian"
   ]
  },
  {
   "cell_type": "code",
   "execution_count": 78,
   "id": "d5e7a3ff",
   "metadata": {},
   "outputs": [],
   "source": [
    "compute_batch_hessian = torch.vmap(func=hessian(reg.model.potential_network, argnums=1), \n",
    "                                   in_dims=0, chunk_size=1024)\n",
    "\n",
    "hessians_cal = compute_batch_hessian(torch.tensor(ds.X_cal), torch.tensor(ds.Y_cal)).squeeze()\n",
    "hessians_test = compute_batch_hessian(torch.tensor(ds.X_test), torch.tensor(ds.Y_test)).squeeze()"
   ]
  },
  {
   "cell_type": "code",
   "execution_count": 79,
   "id": "0d2c95f5",
   "metadata": {},
   "outputs": [],
   "source": [
    "logdet_hessians_cal = torch.logdet(hessians_cal).numpy(force=True)\n",
    "logdet_hessians_test = torch.logdet(hessians_test).numpy(force=True)"
   ]
  },
  {
   "cell_type": "code",
   "execution_count": 80,
   "id": "a6ebaa3a",
   "metadata": {},
   "outputs": [],
   "source": [
    "log_f_u_cal = multivariate_normal.logpdf(quantiles_cal, mean=np.zeros(4))\n",
    "log_f_u_test = multivariate_normal.logpdf(quantiles_test, mean=np.zeros(4))"
   ]
  },
  {
   "cell_type": "code",
   "execution_count": 81,
   "id": "a37127f5",
   "metadata": {},
   "outputs": [],
   "source": [
    "scores_cal_52 = log_f_u_cal + logdet_hessians_cal\n",
    "scores_test_52 = log_f_u_test + logdet_hessians_test"
   ]
  },
  {
   "cell_type": "code",
   "execution_count": 82,
   "id": "e1967113",
   "metadata": {},
   "outputs": [
    {
     "data": {
      "text/markdown": [
       "#### $\\mathcal{C}_{\\rho}^{\\mathrm{HPD}}$ Marginal coverage: **0.69**, worst-slab conditional coverage: **0.51**"
      ],
      "text/plain": [
       "<IPython.core.display.Markdown object>"
      ]
     },
     "metadata": {},
     "output_type": "display_data"
    },
    {
     "data": {
      "text/markdown": [
       "#### $\\mathcal{C}_{\\rho}^{\\mathrm{HPD}}$ Marginal coverage: **0.69**, worst-slab conditional coverage: **0.44**"
      ],
      "text/plain": [
       "<IPython.core.display.Markdown object>"
      ]
     },
     "metadata": {},
     "output_type": "display_data"
    },
    {
     "data": {
      "text/markdown": [
       "#### $\\mathcal{C}_{\\rho}^{\\mathrm{HPD}}$ Marginal coverage: **0.69**, worst-slab conditional coverage: **0.45**"
      ],
      "text/plain": [
       "<IPython.core.display.Markdown object>"
      ]
     },
     "metadata": {},
     "output_type": "display_data"
    },
    {
     "data": {
      "text/markdown": [
       "#### $\\mathcal{C}_{\\rho}^{\\mathrm{HPD}}$ Marginal coverage: **0.69**, worst-slab conditional coverage: **0.43**"
      ],
      "text/plain": [
       "<IPython.core.display.Markdown object>"
      ]
     },
     "metadata": {},
     "output_type": "display_data"
    },
    {
     "data": {
      "text/markdown": [
       "#### $\\mathcal{C}_{\\rho}^{\\mathrm{HPD}}$ Marginal coverage: **0.69**, worst-slab conditional coverage: **0.45**"
      ],
      "text/plain": [
       "<IPython.core.display.Markdown object>"
      ]
     },
     "metadata": {},
     "output_type": "display_data"
    },
    {
     "data": {
      "text/markdown": [
       "#### $\\mathcal{C}_{\\rho}^{\\mathrm{HPD}}$ Marginal coverage: **0.69**, worst-slab conditional coverage: **0.50**"
      ],
      "text/plain": [
       "<IPython.core.display.Markdown object>"
      ]
     },
     "metadata": {},
     "output_type": "display_data"
    },
    {
     "data": {
      "text/markdown": [
       "#### $\\mathcal{C}_{\\rho}^{\\mathrm{HPD}}$ Marginal coverage: **0.69**, worst-slab conditional coverage: **0.60**"
      ],
      "text/plain": [
       "<IPython.core.display.Markdown object>"
      ]
     },
     "metadata": {},
     "output_type": "display_data"
    },
    {
     "data": {
      "text/markdown": [
       "#### $\\mathcal{C}_{\\rho}^{\\mathrm{HPD}}$ Marginal coverage: **0.69**, worst-slab conditional coverage: **0.44**"
      ],
      "text/plain": [
       "<IPython.core.display.Markdown object>"
      ]
     },
     "metadata": {},
     "output_type": "display_data"
    },
    {
     "data": {
      "text/markdown": [
       "#### $\\mathcal{C}_{\\rho}^{\\mathrm{HPD}}$ Marginal coverage: **0.69**, worst-slab conditional coverage: **0.55**"
      ],
      "text/plain": [
       "<IPython.core.display.Markdown object>"
      ]
     },
     "metadata": {},
     "output_type": "display_data"
    },
    {
     "data": {
      "text/markdown": [
       "#### $\\mathcal{C}_{\\rho}^{\\mathrm{HPD}}$ Marginal coverage: **0.69**, worst-slab conditional coverage: **0.53**"
      ],
      "text/plain": [
       "<IPython.core.display.Markdown object>"
      ]
     },
     "metadata": {},
     "output_type": "display_data"
    }
   ],
   "source": [
    "for rs in range(10):\n",
    "    threshold_52 = np.quantile(scores_cal_52, q=(ds.n_cal + 1) * (alpha) / ds.n_cal)\n",
    "\n",
    "    is_covered_52 = scores_test_52 >= threshold_52\n",
    "\n",
    "    cov_52 = is_covered_52.mean()\n",
    "    wsc_52 = wsc_unbiased(ds.X_test, is_covered_52, delta=0.1, M=10000, random_state=rs, n_cpus=8)\n",
    "\n",
    "    display(\n",
    "        Markdown(\n",
    "            r\"#### $\\mathcal{C}_{\\rho}^{\\mathrm{HPD}}$ Marginal coverage: \" +\n",
    "            f\"**{cov_52:.2f}**, \" +\n",
    "            f\"worst-slab conditional coverage: **{wsc_52:.2f}**\"\n",
    "        )\n",
    "    )"
   ]
  },
  {
   "cell_type": "markdown",
   "id": "04910594",
   "metadata": {},
   "source": [
    "## Part 5: estimate areas"
   ]
  },
  {
   "cell_type": "code",
   "execution_count": 43,
   "id": "deb4523c",
   "metadata": {},
   "outputs": [],
   "source": [
    "from tqdm.auto import tqdm\n",
    "\n",
    "\n",
    "ymin = ds.Y_train.min(axis=0)\n",
    "ymax = ds.Y_train.max(axis=0)\n",
    "\n",
    "scale = np.prod(ymax - ymin)\n",
    "n_samples = 10000\n"
   ]
  },
  {
   "cell_type": "code",
   "execution_count": 44,
   "id": "8d32ed9f",
   "metadata": {},
   "outputs": [
    {
     "data": {
      "text/plain": [
       "(array([-1.53404409, -4.73000483, -1.34816413, -1.008556  ]),\n",
       " array([3.01682506, 5.11761343, 2.89372416, 3.28451085]),\n",
       " np.float64(816.1170119657136))"
      ]
     },
     "execution_count": 44,
     "metadata": {},
     "output_type": "execute_result"
    }
   ],
   "source": [
    "ymin, ymax, scale"
   ]
  },
  {
   "cell_type": "code",
   "execution_count": 45,
   "id": "b4f9c4fc",
   "metadata": {},
   "outputs": [
    {
     "data": {
      "text/plain": [
       "((20000000, 16), (20000000, 4))"
      ]
     },
     "execution_count": 45,
     "metadata": {},
     "output_type": "execute_result"
    }
   ],
   "source": [
    "X_test_sampled = np.repeat(ds.X_test, repeats=n_samples, axis=0)\n",
    "Y_test_sampled = ymin + np.random.default_rng(31337).random((n_samples * ds.n_test, 4)\n",
    "                                         ) * (ymax - ymin)\n",
    "X_test_sampled.shape, Y_test_sampled.shape"
   ]
  },
  {
   "cell_type": "code",
   "execution_count": 46,
   "id": "07020fb6",
   "metadata": {},
   "outputs": [
    {
     "data": {
      "text/plain": [
       "(array([ 1.49933056, -0.64276521,  1.56425645, -0.12715819]),\n",
       " array([ 0.09479843,  3.64582355, -1.07693054,  2.00216175]))"
      ]
     },
     "execution_count": 46,
     "metadata": {},
     "output_type": "execute_result"
    }
   ],
   "source": [
    "ds.Y_test[0], Y_test_sampled[0]"
   ]
  },
  {
   "cell_type": "code",
   "execution_count": 47,
   "id": "d79b1623",
   "metadata": {},
   "outputs": [
    {
     "data": {
      "image/png": "[encoded data removed]",
      "text/plain": [
       "<Figure size 640x480 with 1 Axes>"
      ]
     },
     "metadata": {},
     "output_type": "display_data"
    }
   ],
   "source": [
    "plt.figure()\n",
    "plt.hist(ds.Y_test[:, 0], label='Test', alpha=0.3, density=True)\n",
    "plt.hist(ds.Y_test[:, 1], label='Test', alpha=0.3, density=True)\n",
    "plt.hist(ds.Y_test[:, 2], label='Test', alpha=0.3, density=True)\n",
    "plt.hist(ds.Y_test[:, 3], label='Test', alpha=0.3, density=True)\n",
    "# plt.hist(ds.Y_test[:, 3], label='Test', alpha=0.3, density=True)\n",
    "# plt.hist(ds.Y_test[:, 4], label='Test', alpha=0.3, density=True)\n",
    "# plt.hist(ds.Y_test[:, 5], label='Test', alpha=0.3, density=True)\n",
    "# plt.hist(ds.Y_test[:, 6], label='Test', alpha=0.3, density=True)\n",
    "# plt.hist(ds.Y_test[:, 7], label='Test', alpha=0.3, density=True)\n",
    "# plt.hist(Y_test_sampled[:, 1], label='Samples for areas', alpha=0.3, density=True)\n",
    "plt.show()\n"
   ]
  },
  {
   "cell_type": "code",
   "execution_count": 48,
   "id": "de86e8e8",
   "metadata": {},
   "outputs": [
    {
     "name": "stdout",
     "output_type": "stream",
     "text": [
      "(20000000,)\n"
     ]
    },
    {
     "data": {
      "application/vnd.jupyter.widget-view+json": {
       "model_id": "c1c3ef4732d447c0add0ee1e4a14e19b",
       "version_major": 2,
       "version_minor": 0
      },
      "text/plain": [
       "  0%|          | 0/2000 [00:00<?, ?it/s]"
      ]
     },
     "metadata": {},
     "output_type": "display_data"
    },
    {
     "data": {
      "text/plain": [
       "((20000000,), (20000000,))"
      ]
     },
     "execution_count": 48,
     "metadata": {},
     "output_type": "execute_result"
    }
   ],
   "source": [
    "is_covered_sampled_51b = np.zeros(ds.n_test * n_samples)\n",
    "quantiles_test_sampled = np.zeros((ds.n_test * n_samples, 4))\n",
    "print(is_covered_sampled_51b.shape)\n",
    "for i in tqdm(range(ds.n_test)):\n",
    "    start = i * n_samples\n",
    "    stop = (i + 1) * n_samples\n",
    "    quantiles_test_sampled[start:stop] = \\\n",
    "        reg.predict_quantile(X_test_sampled[start:stop], Y_test_sampled[start:stop])\n",
    "    is_covered_sampled_51b[start:stop] = \\\n",
    "        _get_coverage_otcp(quantiles_test_sampled[start:stop], mu, psi, threshold_51b, verbose=False)\n",
    "\n",
    "\n",
    "is_covered_sampled_51a = np.linalg.norm(quantiles_test_sampled, axis=1) <= threshold_51a\n",
    "\n",
    "is_covered_sampled_51a.shape, is_covered_sampled_51b.shape"
   ]
  },
  {
   "cell_type": "code",
   "execution_count": 47,
   "id": "7ac1ae74",
   "metadata": {},
   "outputs": [
    {
     "data": {
      "text/plain": [
       "array([3718.42548625,  947.53693344,  573.99161151, ..., 1127.49294393,\n",
       "        127.86631698,  117.35951847], shape=(20000000,))"
      ]
     },
     "execution_count": 47,
     "metadata": {},
     "output_type": "execute_result"
    }
   ],
   "source": [
    "np.linalg.norm(quantiles_test_sampled, axis=1)**2"
   ]
  },
  {
   "cell_type": "code",
   "execution_count": 48,
   "id": "3796d851",
   "metadata": {},
   "outputs": [],
   "source": [
    "from scipy import stats\n",
    "\n",
    "\n",
    "def draw_qq_scores(scores, ax):\n",
    "    n, d = scores.shape\n",
    "    for j in range(d):\n",
    "        stats.probplot(\n",
    "            scores[:, j],\n",
    "            dist=\"norm\",\n",
    "            fit=False,\n",
    "            plot=ax,\n",
    "        )\n",
    "        ax.get_lines()[j].set_markerfacecolor(f'C{j}')\n",
    "        ax.get_lines()[j].set_markeredgecolor(f'C{j}')\n",
    "    ax.plot([-3, 3], [-3, 3], ls='--', c='k')\n"
   ]
  },
  {
   "cell_type": "code",
   "execution_count": 49,
   "id": "de86e8e8",
   "metadata": {},
   "outputs": [
    {
     "data": {
      "application/vnd.jupyter.widget-view+json": {
       "model_id": "9b1f86e1148c44da92b332a9a838c850",
       "version_major": 2,
       "version_minor": 0
      },
      "text/plain": [
       "  0%|          | 0/250 [00:00<?, ?it/s]"
      ]
     },
     "metadata": {},
     "output_type": "display_data"
    },
    {
     "name": "stdout",
     "output_type": "stream",
     "text": [
      "0 0 80000\n",
      "200 16000000 16080000\n"
     ]
    }
   ],
   "source": [
    "import gc\n",
    "\n",
    "reg.model.cpu()\n",
    "_compute_batch_hessian = torch.vmap(func=hessian(reg.model.potential_network, argnums=1), \n",
    "                                   in_dims=0, chunk_size=8192)\n",
    "\n",
    "log_det_hessians_test_samples = np.zeros(ds.n_test * n_samples)\n",
    "for i in tqdm(range(ds.n_test // 8)):\n",
    "    start = i * n_samples * 8\n",
    "    stop = (i + 1) * n_samples * 8\n",
    "    if i % 200 == 0:\n",
    "        print(i, start, stop)\n",
    "\n",
    "    _hessians = _compute_batch_hessian(\n",
    "        torch.tensor(X_test_sampled[start:stop]),\n",
    "        torch.tensor(Y_test_sampled[start:stop])\n",
    "    )[:, 0].detach()\n",
    "\n",
    "    log_det_hessians_test_samples[start:stop] = \\\n",
    "        torch.logdet(_hessians).squeeze().detach().numpy(force=True)\n",
    "\n",
    "    if i > 0 and i % 100 == 0:\n",
    "        gc.collect()\n",
    "_ = reg.model.cpu()"
   ]
  },
  {
   "cell_type": "code",
   "execution_count": 51,
   "id": "2181dee8",
   "metadata": {},
   "outputs": [
    {
     "name": "stdout",
     "output_type": "stream",
     "text": [
      "log_det_hessians_test_samples.shape=(20000000,)\n"
     ]
    }
   ],
   "source": [
    "print(f\"{log_det_hessians_test_samples.shape=}\")\n",
    "log_f_u_test_samples = multivariate_normal.logpdf(quantiles_test_sampled, mean=np.zeros(4))\n",
    "log_dets_test_sampled = log_det_hessians_test_samples\n",
    "scores_test_sampled_52 = log_f_u_test_samples + log_dets_test_sampled\n",
    "is_covered_sampled_52 = scores_test_sampled_52 >= threshold_52"
   ]
  },
  {
   "cell_type": "code",
   "execution_count": 52,
   "id": "177164ae",
   "metadata": {},
   "outputs": [
    {
     "data": {
      "text/plain": [
       "((20000000, 4),)"
      ]
     },
     "execution_count": 52,
     "metadata": {},
     "output_type": "execute_result"
    }
   ],
   "source": [
    "quantiles_test_sampled.shape, "
   ]
  },
  {
   "cell_type": "code",
   "execution_count": 53,
   "id": "1f7ad6e5",
   "metadata": {},
   "outputs": [],
   "source": [
    "X = ds.X_test[0:1]"
   ]
  },
  {
   "cell_type": "code",
   "execution_count": 55,
   "id": "976cf932",
   "metadata": {},
   "outputs": [],
   "source": [
    "Y_max_tensor, Y_min_tensor = torch.tensor(ymax), torch.tensor(ymin)\n",
    "X_tensor = torch.tensor(X).repeat((10_000, 1))\n",
    "Y_tensor = Y_min_tensor + torch.rand((10_000, 4)) * (Y_max_tensor - Y_min_tensor)\n",
    "U_tensor = torch.randn(10_000, 4).to(Y_tensor)"
   ]
  },
  {
   "cell_type": "code",
   "execution_count": null,
   "id": "f43032a9",
   "metadata": {},
   "outputs": [],
   "source": []
  },
  {
   "cell_type": "code",
   "execution_count": 56,
   "id": "5fd75275",
   "metadata": {},
   "outputs": [
    {
     "data": {
      "image/png": "[encoded data removed]",
      "text/plain": [
       "<Figure size 640x480 with 1 Axes>"
      ]
     },
     "metadata": {},
     "output_type": "display_data"
    }
   ],
   "source": [
    "plt.hist(Y_tensor[:, 0])\n",
    "plt.hist(reg.model.push_u_given_x(U_tensor, X_tensor)[:, 0])\n",
    "plt.show()"
   ]
  },
  {
   "cell_type": "code",
   "execution_count": 57,
   "id": "599f2062",
   "metadata": {},
   "outputs": [
    {
     "data": {
      "text/plain": [
       "(array([2.000e+00, 3.700e+01, 2.310e+02, 1.111e+03, 2.414e+03, 3.147e+03,\n",
       "        2.107e+03, 7.440e+02, 1.810e+02, 2.600e+01]),\n",
       " array([-4.30331326, -3.50331759, -2.70332193, -1.90332651, -1.10333085,\n",
       "        -0.30333519,  0.49666023,  1.29665613,  2.09665155,  2.89664698,\n",
       "         3.69664264]),\n",
       " <BarContainer object of 10 artists>)"
      ]
     },
     "execution_count": 57,
     "metadata": {},
     "output_type": "execute_result"
    },
    {
     "data": {
      "image/png": "[encoded data removed]",
      "text/plain": [
       "<Figure size 640x480 with 1 Axes>"
      ]
     },
     "metadata": {},
     "output_type": "display_data"
    }
   ],
   "source": [
    "plt.hist(reg.model.push_y_given_x(Y_tensor, X_tensor)[:, 0])\n",
    "plt.hist(torch.randn(10_000))"
   ]
  },
  {
   "cell_type": "code",
   "execution_count": 58,
   "id": "19fe32a2",
   "metadata": {},
   "outputs": [
    {
     "data": {
      "text/plain": [
       "(array([-1.81278012,  1.79502358,  1.51841804, ...,  5.91516716,\n",
       "         8.54516374,  2.55462944], shape=(20000000,)),\n",
       " array([-1862.88849726,  -477.44422085,  -290.67155989, ...,\n",
       "         -567.4222261 ,   -67.60891262,   -62.35551337], shape=(20000000,)))"
      ]
     },
     "execution_count": 58,
     "metadata": {},
     "output_type": "execute_result"
    }
   ],
   "source": [
    "log_det_hessians_test_samples, log_f_u_test_samples"
   ]
  },
  {
   "cell_type": "code",
   "execution_count": 59,
   "id": "558b855b",
   "metadata": {},
   "outputs": [
    {
     "data": {
      "text/plain": [
       "(20000000,)"
      ]
     },
     "execution_count": 59,
     "metadata": {},
     "output_type": "execute_result"
    }
   ],
   "source": [
    "is_covered_sampled_51a.shape"
   ]
  },
  {
   "cell_type": "code",
   "execution_count": 60,
   "id": "7608eb0b",
   "metadata": {},
   "outputs": [],
   "source": [
    "areas_51a, areas_51b, areas_52 = map(lambda t: t.reshape(ds.n_test, n_samples).mean(axis=-1) * scale, \n",
    "                                     (is_covered_sampled_51a, is_covered_sampled_51b, is_covered_sampled_52))"
   ]
  },
  {
   "cell_type": "code",
   "execution_count": 61,
   "id": "961a6471",
   "metadata": {},
   "outputs": [
    {
     "data": {
      "text/plain": [
       "np.float64(0.08161170119657137)"
      ]
     },
     "execution_count": 61,
     "metadata": {},
     "output_type": "execute_result"
    }
   ],
   "source": [
    "areas_51a[0]"
   ]
  },
  {
   "cell_type": "code",
   "execution_count": 62,
   "id": "819291d5",
   "metadata": {},
   "outputs": [
    {
     "data": {
      "text/plain": [
       "(array([1928.,   21.,   13.,    2.,    6.,    7.,   10.,    7.,    4.,\n",
       "           2.]),\n",
       " array([ 0.        ,  2.15454891,  4.30909782,  6.46364673,  8.61819565,\n",
       "        10.77274456, 12.92729347, 15.08184238, 17.23639129, 19.3909402 ,\n",
       "        21.54548912]),\n",
       " <BarContainer object of 10 artists>)"
      ]
     },
     "execution_count": 62,
     "metadata": {},
     "output_type": "execute_result"
    },
    {
     "data": {
      "image/png": "[encoded data removed]",
      "text/plain": [
       "<Figure size 640x480 with 1 Axes>"
      ]
     },
     "metadata": {},
     "output_type": "display_data"
    }
   ],
   "source": [
    "plt.hist(areas_51a)"
   ]
  },
  {
   "cell_type": "code",
   "execution_count": 63,
   "id": "807bb95a",
   "metadata": {},
   "outputs": [
    {
     "data": {
      "text/plain": [
       "np.float64(0.051864236110421104)"
      ]
     },
     "execution_count": 63,
     "metadata": {},
     "output_type": "execute_result"
    }
   ],
   "source": [
    "areas_52.mean()"
   ]
  },
  {
   "cell_type": "code",
   "execution_count": 64,
   "id": "cbd0b657",
   "metadata": {},
   "outputs": [
    {
     "data": {
      "text/markdown": [
       "#### Areas \\n ${\\mathrm{PB}}$:   **0.42**,  ${\\mathrm{RPB}}$:   **108.74**,  ${\\mathrm{HPD}}$:   **0.05**,  "
      ],
      "text/plain": [
       "<IPython.core.display.Markdown object>"
      ]
     },
     "metadata": {},
     "output_type": "display_data"
    },
    {
     "data": {
      "text/plain": [
       "3"
      ]
     },
     "execution_count": 64,
     "metadata": {},
     "output_type": "execute_result"
    }
   ],
   "source": [
    "display(\n",
    "    Markdown(\n",
    "        r\"#### Areas \\n ${\\mathrm{PB}}$:   \" +\n",
    "        f\"**{areas_51a.mean():.2f}**,  \" + \n",
    "        r\"${\\mathrm{RPB}}$:   \" +\n",
    "        f\"**{areas_51b.mean():.2f}**,  \" + \n",
    "        r\"${\\mathrm{HPD}}$:   \" +\n",
    "        f\"**{areas_52.mean():.2f}**,  \"\n",
    "    )\n",
    ")\n",
    "3"
   ]
  },
  {
   "cell_type": "code",
   "execution_count": 65,
   "id": "822b94cf",
   "metadata": {},
   "outputs": [
    {
     "data": {
      "text/plain": [
       "(np.float64(3.6524920727012553),\n",
       " np.float64(0.9219219219219218),\n",
       " np.float64(-0.5411890352266489))"
      ]
     },
     "execution_count": 65,
     "metadata": {},
     "output_type": "execute_result"
    }
   ],
   "source": [
    "(threshold_51a, threshold_51b, threshold_52)"
   ]
  },
  {
   "cell_type": "code",
   "execution_count": 66,
   "id": "b365c26f",
   "metadata": {},
   "outputs": [
    {
     "data": {
      "text/plain": [
       "(np.float64(6.355e-05), np.int64(1271))"
      ]
     },
     "execution_count": 66,
     "metadata": {},
     "output_type": "execute_result"
    }
   ],
   "source": [
    "is_covered_sampled_52.mean(), is_covered_sampled_52.sum()"
   ]
  },
  {
   "cell_type": "code",
   "execution_count": 67,
   "id": "a1b68bf0",
   "metadata": {},
   "outputs": [
    {
     "data": {
      "text/plain": [
       "(np.float64(0.0005101), np.int64(10202))"
      ]
     },
     "execution_count": 67,
     "metadata": {},
     "output_type": "execute_result"
    }
   ],
   "source": [
    "is_covered_sampled_51a.mean(), is_covered_sampled_51a.sum()"
   ]
  },
  {
   "cell_type": "code",
   "execution_count": 68,
   "id": "d8ab760d",
   "metadata": {},
   "outputs": [
    {
     "data": {
      "text/plain": [
       "(np.float64(0.1332454), np.float64(2664908.0))"
      ]
     },
     "execution_count": 68,
     "metadata": {},
     "output_type": "execute_result"
    }
   ],
   "source": [
    "is_covered_sampled_51b.mean(), is_covered_sampled_51b.sum()"
   ]
  },
  {
   "cell_type": "code",
   "execution_count": 69,
   "id": "1d2123b2",
   "metadata": {},
   "outputs": [
    {
     "data": {
      "text/plain": [
       "0.0006553600000000003"
      ]
     },
     "execution_count": 69,
     "metadata": {},
     "output_type": "execute_result"
    }
   ],
   "source": [
    "0.4 ** 8"
   ]
  },
  {
   "cell_type": "code",
   "execution_count": 70,
   "id": "44a95bc1",
   "metadata": {},
   "outputs": [
    {
     "data": {
      "text/plain": [
       "(array([-1862.88849726,  -477.44422085,  -290.67155989, -2438.71428921,\n",
       "         -337.31749851,  -299.62082139,  -236.59244079,  -427.15180848,\n",
       "         -102.31473736, -1698.52038071]),\n",
       " array([-1.81278012,  1.79502358,  1.51841804, -3.96589333,  4.4425672 ,\n",
       "         5.19041389,  4.49743826,  4.5128614 ,  6.67971461, -0.30519533]))"
      ]
     },
     "execution_count": 70,
     "metadata": {},
     "output_type": "execute_result"
    }
   ],
   "source": [
    "log_f_u_test_samples[:10], log_dets_test_sampled[:10]"
   ]
  },
  {
   "cell_type": "code",
   "execution_count": 71,
   "id": "aab6bf05",
   "metadata": {},
   "outputs": [
    {
     "data": {
      "image/png": "[encoded data removed]",
      "text/plain": [
       "<Figure size 640x480 with 1 Axes>"
      ]
     },
     "metadata": {},
     "output_type": "display_data"
    }
   ],
   "source": [
    "plt.figure()\n",
    "plt.hist(log_f_u_test_samples, bins=500, density=True, alpha=0.3, label=\"log U density\")\n",
    "plt.hist(log_dets_test_sampled, bins=500, density=True, alpha=0.3, label=\"log det Hessian\")\n",
    "plt.xlim(-500, 500)\n",
    "plt.legend()\n",
    "plt.show()"
   ]
  },
  {
   "cell_type": "code",
   "execution_count": 72,
   "id": "78bf572d",
   "metadata": {},
   "outputs": [
    {
     "data": {
      "text/plain": [
       "np.float64(816.1170119657136)"
      ]
     },
     "execution_count": 72,
     "metadata": {},
     "output_type": "execute_result"
    }
   ],
   "source": [
    "scale"
   ]
  },
  {
   "cell_type": "code",
   "execution_count": 73,
   "id": "c2133833",
   "metadata": {},
   "outputs": [
    {
     "data": {
      "text/plain": [
       "array([ 62.18811631, 126.09007835, 148.20684937, ..., 112.29770085,\n",
       "       291.35377327,  96.79147762], shape=(2000,))"
      ]
     },
     "execution_count": 73,
     "metadata": {},
     "output_type": "execute_result"
    }
   ],
   "source": [
    "areas_51b"
   ]
  },
  {
   "cell_type": "code",
   "execution_count": 74,
   "id": "02a8401f",
   "metadata": {},
   "outputs": [
    {
     "data": {
      "text/plain": [
       "(np.float64(0.0005101), np.float64(0.1332454), np.float64(6.355e-05))"
      ]
     },
     "execution_count": 74,
     "metadata": {},
     "output_type": "execute_result"
    }
   ],
   "source": [
    "is_covered_sampled_51a.mean(), is_covered_sampled_51b.mean(), is_covered_sampled_52.mean()"
   ]
  }
 ],
 "metadata": {
  "kernelspec": {
   "display_name": ".venv",
   "language": "python",
   "name": "python3"
  },
  "language_info": {
   "codemirror_mode": {
    "name": "ipython",
    "version": 3
   },
   "file_extension": ".py",
   "mimetype": "text/x-python",
   "name": "python",
   "nbconvert_exporter": "python",
   "pygments_lexer": "ipython3",
   "version": "3.13.6"
  }
 },
 "nbformat": 4,
 "nbformat_minor": 5
}
