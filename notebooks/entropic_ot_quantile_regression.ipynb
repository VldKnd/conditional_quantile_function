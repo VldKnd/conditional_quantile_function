{
 "cells": [
  {
   "cell_type": "code",
   "execution_count": null,
   "id": "f7182ad6",
   "metadata": {},
   "outputs": [],
   "source": [
    "from infrastructure.classes import Experiment, TrainParameters\n",
    "from infrastructure.training import train\n",
    "import torch\n",
    "\n",
    "experiment = Experiment(\n",
    "    tensor_parameters=dict(dtype=torch.float64, device=torch.device(\"cpu\")),\n",
    "    dataset_name=\"star\",\n",
    "    dataset_number_of_points=5000,\n",
    "    dataset_parameters={\"n_lobes\": 4, \"seed\":1},\n",
    "    dataloader_parameters=dict(batch_size=256, shuffle=True),\n",
    "    pushforward_operator_name=\"entropic_optimal_transport_quantile_regression\",\n",
    "    pushforward_operator_parameters=dict(\n",
    "        feature_dimension=2,\n",
    "        response_dimension=2,\n",
    "        hidden_dimension=4,\n",
    "        number_of_hidden_layers=16,\n",
    "        epsilon=1e-5,\n",
    "        number_of_samples_for_entropy_dual_estimation=2048,\n",
    "        activation_function_name=\"Mish\"\n",
    "    ),\n",
    "    train_parameters=TrainParameters(\n",
    "        number_of_epochs_to_train=5,\n",
    "        verbose=True,\n",
    "        optimizer_parameters=dict(lr=0.01),\n",
    "        scheduler_parameters=dict(eta_min=0)\n",
    "    )\n",
    ")\n",
    "\n",
    "model = train(experiment)\n",
    "_ = model.eval()"
   ]
  },
  {
   "cell_type": "code",
   "execution_count": null,
   "id": "6def3489",
   "metadata": {},
   "outputs": [],
   "source": [
    "%matplotlib qt\n",
    "from utils.plot import plot_potentials_from_star_dataset\n",
    "\n",
    "plot_potentials_from_star_dataset(\n",
    "    model=model,\n",
    "    number_of_conditional_points=4,\n",
    "    number_of_points_to_sample=100,\n",
    "    dataset_parameters=experiment.dataset_parameters,\n",
    "    tensor_parameters=experiment.tensor_parameters\n",
    ")"
   ]
  },
  {
   "cell_type": "code",
   "execution_count": null,
   "id": "7d796ed7",
   "metadata": {},
   "outputs": [],
   "source": [
    "%matplotlib qt\n",
    "from utils.plot import plot_quantile_levels_from_star_dataset\n",
    "\n",
    "plot_quantile_levels_from_star_dataset(\n",
    "    model=model,\n",
    "    number_of_points_to_sample=1000,\n",
    "    tensor_parameters=experiment.tensor_parameters,\n",
    "    conditional_value=0.7,\n",
    "    dataset_parameters=experiment.dataset_parameters,\n",
    "    number_of_quantile_levels=4\n",
    ")"
   ]
  }
 ],
 "metadata": {
  "kernelspec": {
   "display_name": "vector_quantile_regression",
   "language": "python",
   "name": "vector_quantile_regression"
  },
  "language_info": {
   "codemirror_mode": {
    "name": "ipython",
    "version": 3
   },
   "file_extension": ".py",
   "mimetype": "text/x-python",
   "name": "python",
   "nbconvert_exporter": "python",
   "pygments_lexer": "ipython3",
   "version": "3.13.2"
  }
 },
 "nbformat": 4,
 "nbformat_minor": 5
}
