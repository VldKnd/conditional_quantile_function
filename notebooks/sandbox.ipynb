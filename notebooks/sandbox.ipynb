{
 "cells": [
  {
   "cell_type": "code",
   "execution_count": 1,
   "id": "07bbe6a1",
   "metadata": {},
   "outputs": [],
   "source": [
    "# import numpy as np\n",
    "# import torch\n",
    "\n",
    "# from utils.quantile import get_quantile_level_analytically\n",
    "\n",
    "# for _ in range(1):\n",
    "#     number_of_quantile_levels = 5\n",
    "#     quantile_levels = torch.linspace(0.05, 0.95, number_of_quantile_levels).to(**dataset.tensor_parameters)\n",
    "\n",
    "#     calibration_set_size = 1000\n",
    "#     X_calibration, Y_calibration = dataset.sample_joint(n_points=calibration_set_size)\n",
    "#     U_calibration = model.push_y_given_x(y=Y_calibration, x=X_calibration)\n",
    "#     U_calibration_radii = U_calibration.norm(dim=-1).flatten()\n",
    "\n",
    "#     radii_calibrated = torch.quantile(U_calibration_radii, quantile_levels, interpolation='nearest')\n",
    "#     radii_true = get_quantile_level_analytically(quantile_levels, distribution=\"gaussian\", dimension=Y_calibration.shape[1])\n",
    "\n",
    "#     X, Y = dataset.sample_joint(n_points=10000)\n",
    "#     U = model.push_y_given_x(y=Y, x=X)\n",
    "#     U_radii = U.norm(dim=-1)\n",
    "\n",
    "#     operator_coverage = torch.greater_equal(radii_true.unsqueeze(1), U_radii.unsqueeze(0)).float().mean(dim=-1)\n",
    "#     conformalized_operator_coverage = torch.greater_equal(radii_calibrated.unsqueeze(1), U_radii.unsqueeze(0)).float().mean(dim=-1)\n",
    "\n",
    "#     print(quantile_levels.shape, operator_coverage.shape)\n",
    "#     print(quantile_levels.tolist())\n",
    "#     print(operator_coverage.tolist())\n",
    "#     print(conformalized_operator_coverage.tolist())\n",
    "#     print(\"____\")"
   ]
  },
  {
   "cell_type": "code",
   "execution_count": 1,
   "id": "24718a75",
   "metadata": {},
   "outputs": [
    {
     "name": "stderr",
     "output_type": "stream",
     "text": [
      "/Users/vladimir.kondratyev/conditional_quantile_function/src/pushforward_operators/fast_non_linear_vector_quantile_regression/vqr/__init__.py:5: UserWarning: pkg_resources is deprecated as an API. See https://setuptools.pypa.io/en/latest/pkg_resources.html. The pkg_resources package is slated for removal as early as 2025-11-30. Refrain from using this package or pin to Setuptools<81.\n",
      "  from pkg_resources import DistributionNotFound, get_distribution\n",
      "/Users/vladimir.kondratyev/conditional_quantile_function/src/pushforward_operators/fast_non_linear_vector_quantile_regression/vqr/solvers/regularized_lse.py:192: UserWarning: To copy construct from a tensor, it is recommended to use sourceTensor.detach().clone() or sourceTensor.detach().clone().requires_grad_(True), rather than torch.tensor(sourceTensor).\n",
      "  Y_th = tensor(Y, **dtd)\n"
     ]
    }
   ],
   "source": [
    "from pushforward_operators import FastNonLinearVectorQuantileRegression\n",
    "from datasets import ConvexBananaDataset\n",
    "import torch\n",
    "\n",
    "model = FastNonLinearVectorQuantileRegression(1, 5, 100, 1)\n",
    "dataset = ConvexBananaDataset({})\n",
    "X_dataset, Y_dataset = dataset.sample_joint(n_points=1000)\n",
    "dataloader = torch.utils.data.DataLoader(\n",
    "    dataset=torch.utils.data.TensorDataset(X_dataset, Y_dataset),\n",
    "    **{}\n",
    ")\n",
    "\n",
    "_ = model.fit(dataloader)"
   ]
  },
  {
   "cell_type": "code",
   "execution_count": 6,
   "id": "5a63a993",
   "metadata": {},
   "outputs": [],
   "source": [
    "import numpy as np\n",
    "\n",
    "X_test = np.arange(0.5, 2.5, 0.1).reshape(-1, 1)\n",
    "vqfs = model.vector_quantile_regression.vector_quantiles(X_test, refine=True)\n",
    "# U = torch.rand(100, 2)\n",
    "\n",
    "# pushforwards = torch.cat([vqf.evaluate(u=U.detach().numpy(force=True)) for vqf in vqfs])"
   ]
  },
  {
   "cell_type": "code",
   "execution_count": null,
   "id": "11dc4b79",
   "metadata": {},
   "outputs": [
    {
     "ename": "ValueError",
     "evalue": "u must be of shape (d,), got shape (100, 2)",
     "output_type": "error",
     "traceback": [
      "\u001b[31m---------------------------------------------------------------------------\u001b[39m",
      "\u001b[31mValueError\u001b[39m                                Traceback (most recent call last)",
      "\u001b[36mCell\u001b[39m\u001b[36m \u001b[39m\u001b[32mIn[9]\u001b[39m\u001b[32m, line 3\u001b[39m\n\u001b[32m      1\u001b[39m U = torch.rand(\u001b[32m100\u001b[39m, \u001b[32m2\u001b[39m)\n\u001b[32m----> \u001b[39m\u001b[32m3\u001b[39m \u001b[43mvqfs\u001b[49m\u001b[43m[\u001b[49m\u001b[32;43m0\u001b[39;49m\u001b[43m]\u001b[49m\u001b[43m.\u001b[49m\u001b[43mevaluate\u001b[49m\u001b[43m(\u001b[49m\u001b[43mu\u001b[49m\u001b[43m=\u001b[49m\u001b[43mU\u001b[49m\u001b[43m.\u001b[49m\u001b[43mdetach\u001b[49m\u001b[43m(\u001b[49m\u001b[43m)\u001b[49m\u001b[43m.\u001b[49m\u001b[43mnumpy\u001b[49m\u001b[43m(\u001b[49m\u001b[43mforce\u001b[49m\u001b[43m=\u001b[49m\u001b[38;5;28;43;01mTrue\u001b[39;49;00m\u001b[43m)\u001b[49m\u001b[43m)\u001b[49m\n",
      "\u001b[36mFile \u001b[39m\u001b[32m~/conditional_quantile_function/src/pushforward_operators/fast_non_linear_vector_quantile_regression/vqr/cvqf.py:466\u001b[39m, in \u001b[36mDiscreteVQF.evaluate\u001b[39m\u001b[34m(self, u)\u001b[39m\n\u001b[32m    464\u001b[39m \u001b[38;5;28;01mdef\u001b[39;00m\u001b[38;5;250m \u001b[39m\u001b[34mevaluate\u001b[39m(\u001b[38;5;28mself\u001b[39m, u: Array) -> Array:\n\u001b[32m    465\u001b[39m     \u001b[38;5;28;01mif\u001b[39;00m \u001b[38;5;129;01mnot\u001b[39;00m np.ndim(u) == \u001b[32m1\u001b[39m \u001b[38;5;129;01mor\u001b[39;00m \u001b[38;5;129;01mnot\u001b[39;00m \u001b[38;5;28mlen\u001b[39m(u) == \u001b[38;5;28mself\u001b[39m._d:\n\u001b[32m--> \u001b[39m\u001b[32m466\u001b[39m         \u001b[38;5;28;01mraise\u001b[39;00m \u001b[38;5;167;01mValueError\u001b[39;00m(\u001b[33mf\u001b[39m\u001b[33m\"\u001b[39m\u001b[33mu must be of shape (d,), got shape \u001b[39m\u001b[38;5;132;01m{\u001b[39;00mu.shape\u001b[38;5;132;01m}\u001b[39;00m\u001b[33m\"\u001b[39m)\n\u001b[32m    468\u001b[39m     \u001b[38;5;28;01mif\u001b[39;00m \u001b[38;5;129;01mnot\u001b[39;00m np.all((u >= \u001b[32m0\u001b[39m) & (u <= \u001b[32m1\u001b[39m)):\n\u001b[32m    469\u001b[39m         \u001b[38;5;28;01mraise\u001b[39;00m \u001b[38;5;167;01mValueError\u001b[39;00m(\n\u001b[32m    470\u001b[39m             \u001b[33mf\u001b[39m\u001b[33m\"\u001b[39m\u001b[33mu must contain indices of quantile levels, each in [0, 1]\u001b[39m\u001b[33m\"\u001b[39m\n\u001b[32m    471\u001b[39m         )\n",
      "\u001b[31mValueError\u001b[39m: u must be of shape (d,), got shape (100, 2)"
     ]
    }
   ],
   "source": [
    "U = torch.rand(100, 2)\n",
    "vqfs[0].evaluate(u=U.detach().numpy(force=True))"
   ]
  },
  {
   "cell_type": "code",
   "execution_count": null,
   "id": "e77d426e",
   "metadata": {},
   "outputs": [],
   "source": []
  }
 ],
 "metadata": {
  "kernelspec": {
   "display_name": "vector-quantile-regression",
   "language": "python",
   "name": "python3"
  },
  "language_info": {
   "codemirror_mode": {
    "name": "ipython",
    "version": 3
   },
   "file_extension": ".py",
   "mimetype": "text/x-python",
   "name": "python",
   "nbconvert_exporter": "python",
   "pygments_lexer": "ipython3",
   "version": "3.13.6"
  }
 },
 "nbformat": 4,
 "nbformat_minor": 5
}
