{
 "cells": [
  {
   "cell_type": "code",
   "execution_count": 1,
   "id": "1f4c0ee0",
   "metadata": {},
   "outputs": [
    {
     "name": "stderr",
     "output_type": "stream",
     "text": [
      "Index: 19999, objective: 1.666, lr: 0.00000: 100%|██████████| 20000/20000 [00:38<00:00, 519.36it/s]"
     ]
    },
    {
     "name": "stdout",
     "output_type": "stream",
     "text": [
      "Objective: 1.364\n"
     ]
    },
    {
     "name": "stderr",
     "output_type": "stream",
     "text": [
      "\n"
     ]
    }
   ],
   "source": [
    "import torch\n",
    "from tqdm import trange\n",
    "from datasets import FNLVQR_Star\n",
    "from datasets.synthetic.utils import ConvexQuadraticPotential\n",
    "\n",
    "tensor_parameters = {}\n",
    "dataset = FNLVQR_Star(tensor_parameters, amplitude=1.)\n",
    "\n",
    "training_trace = []\n",
    "quadratic_potential = ConvexQuadraticPotential(\n",
    "    number_of_functions=16,\n",
    "    response_size=2,\n",
    "    covariate_size=1,\n",
    "    epsilon=1e-3,\n",
    ")\n",
    "n_iterations = 2 * 10**4\n",
    "quadratic_potential_optimizer = torch.optim.Adam(params=quadratic_potential.parameters(), lr=1e-2)\n",
    "quadratic_potential_scheduler = torch.optim.lr_scheduler.CosineAnnealingLR(\n",
    "    optimizer=quadratic_potential_optimizer,\n",
    "    T_max=n_iterations,\n",
    "    eta_min=0.,\n",
    ")\n",
    "progress_bar = trange(n_iterations)\n",
    "\n",
    "for index in progress_bar:\n",
    "    quadratic_potential_optimizer.zero_grad()\n",
    "    U_batch = torch.randn(512, 2).requires_grad_(True)\n",
    "    X_batch = torch.rand(512, 1) * 2 * torch.pi / 5.\n",
    "    Y_batch = dataset.push_u_given_x(u=U_batch, x=X_batch)\n",
    "    \n",
    "    with torch.enable_grad():\n",
    "        u_potential = quadratic_potential(X_batch, U_batch)\n",
    "\n",
    "    Y_approximated = torch.autograd.grad(u_potential.sum(), U_batch, retain_graph=True, create_graph=True)[0]\n",
    "\n",
    "    objective = torch.norm(\n",
    "        Y_batch - Y_approximated,\n",
    "        dim=-1\n",
    "    )**2\n",
    "    \n",
    "    objective = objective.mean()\n",
    "    objective.backward()\n",
    "    quadratic_potential_optimizer.step()\n",
    "    quadratic_potential_scheduler.step()\n",
    "    objective_item = objective.item()\n",
    "    training_trace.append(objective_item)\n",
    "    progress_bar.set_description(f\"Index: {index}, objective: {objective_item:.3f}, lr: {quadratic_potential_optimizer.param_groups[0]['lr']:.5f}\")\n",
    "print(f\"Objective: {torch.tensor(training_trace[-1000:]).mean():.3f}\")"
   ]
  },
  {
   "cell_type": "code",
   "execution_count": null,
   "id": "489e99e2",
   "metadata": {},
   "outputs": [
    {
     "ename": "",
     "evalue": "",
     "output_type": "error",
     "traceback": [
      "\u001b[1;31mThe Kernel crashed while executing code in the current cell or a previous cell. \n",
      "\u001b[1;31mPlease review the code in the cell(s) to identify a possible cause of the failure. \n",
      "\u001b[1;31mClick <a href='https://aka.ms/vscodeJupyterKernelCrash'>here</a> for more info. \n",
      "\u001b[1;31mView Jupyter <a href='command:jupyter.viewOutput'>log</a> for further details."
     ]
    }
   ],
   "source": [
    "%matplotlib inline\n",
    "\n",
    "import matplotlib\n",
    "import matplotlib.pyplot as plt\n",
    "from utils.quantile import get_quantile_level_analytically\n",
    "\n",
    "number_of_conditions = 100\n",
    "dataset_size = 100\n",
    "x = torch.rand(1, number_of_conditions, 1) * 2 * torch.pi / 3.\n",
    "x = x.repeat(dataset_size, 1, 1)\n",
    "u = torch.randn(dataset_size, number_of_conditions, 2).requires_grad_(True)\n",
    "\n",
    "fig, (ax1, ax2) = plt.subplots(1, 2, figsize=(20, 10), subplot_kw={'projection': '3d'})\n",
    "fig.suptitle('Separated 3D Plots', fontsize=16)\n",
    "\n",
    "u_potential = quadratic_potential(x=x, u=u)\n",
    "y_ground_truth = torch.autograd.grad(u_potential.sum(), u)[0]\n",
    "y_ground_truth_0 = y_ground_truth[:, :, 0].flatten()\n",
    "y_ground_truth_1 = y_ground_truth[:, :, 1].flatten()\n",
    "z = x.flatten()\n",
    "ax1.scatter(y_ground_truth_0, y_ground_truth_1, z, color='blue', marker='o', s=30, alpha=0.2)\n",
    "\n",
    "color_map = matplotlib.colormaps['viridis']\n",
    "number_of_quantile_levels = 10\n",
    "quantile_levels = torch.linspace(0.05, 0.95, number_of_quantile_levels)\n",
    "radii = get_quantile_level_analytically(quantile_levels, distribution=\"gaussian\", dimension=2)\n",
    "colors = [color_map(i / len(radii)) for i in range(len(radii))]\n",
    "\n",
    "for condition in torch.linspace(0., 2 * torch.pi / 3., 20):\n",
    "    for i, contour_radius in enumerate(radii):\n",
    "        color = colors[i]\n",
    "        pi = torch.linspace(-torch.pi, torch.pi, 1000)\n",
    "\n",
    "        u_quantile = torch.stack([\n",
    "            contour_radius * torch.cos(pi),\n",
    "            contour_radius * torch.sin(pi),\n",
    "        ]).T\n",
    "        u_quantile = u_quantile.to(**{}).requires_grad_(True)\n",
    "        x_quantile = torch.ones(u_quantile.shape[0], 1) * condition\n",
    "\n",
    "        u_quantile_potential = quadratic_potential(x=x_quantile, u=u_quantile)\n",
    "        y_quantile = torch.autograd.grad(u_quantile_potential.sum(), u_quantile)[0]\n",
    "        z_line = x_quantile.flatten()\n",
    "\n",
    "        label = f'Quantile level {quantile_levels[i]:.2f}'\n",
    "        ax2.plot(y_quantile[:, 0], y_quantile[:, 1], z_line, color=color, linewidth=2.5, label=label)\n",
    "\n",
    "plt.show()"
   ]
  }
 ],
 "metadata": {
  "kernelspec": {
   "display_name": ".venv",
   "language": "python",
   "name": "python3"
  },
  "language_info": {
   "codemirror_mode": {
    "name": "ipython",
    "version": 3
   },
   "file_extension": ".py",
   "mimetype": "text/x-python",
   "name": "python",
   "nbconvert_exporter": "python",
   "pygments_lexer": "ipython3",
   "version": "3.13.6"
  }
 },
 "nbformat": 4,
 "nbformat_minor": 5
}
