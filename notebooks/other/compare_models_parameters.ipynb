{
 "cells": [
  {
   "cell_type": "code",
   "execution_count": 2,
   "id": "fbb57a01",
   "metadata": {},
   "outputs": [
    {
     "name": "stdout",
     "output_type": "stream",
     "text": [
      "Total number of parameters\n",
      "\tCPFlow: 10324\n",
      "\tEOTQR ICNN: 10684\n",
      "\tEOTQR: 10257\n",
      "\tUOTQR PICNN == UAOTQR: 138254\n",
      "\tUOTQR == UAOTQR: 10257\n"
     ]
    }
   ],
   "source": [
    "from pushforward_operators import (\n",
    "    EntropicNeuralQuantileRegression,\n",
    "    NeuralQuantileRegression,\n",
    "    CPFlow,\n",
    "\n",
    ")\n",
    "from utils.network import get_total_number_of_parameters\n",
    "\n",
    "cpflow = CPFlow(\n",
    "    feature_dimension=1,\n",
    "    response_dimension=2,\n",
    "    hidden_dimension=14,\n",
    "    number_of_hidden_layers=4,\n",
    "    n_blocks=4\n",
    ")\n",
    "eotqr_icnn = EntropicNeuralQuantileRegression(\n",
    "    feature_dimension=1,\n",
    "    response_dimension=2,\n",
    "    hidden_dimension=17,\n",
    "    number_of_hidden_layers=8,\n",
    "    epsilon=1e-5,\n",
    "    activation_function_name=\"Softplus\",\n",
    "    network_type=\"PICNN\",\n",
    "    potential_to_estimate_with_neural_network=\"y\",\n",
    ")\n",
    "eotqr = EntropicNeuralQuantileRegression(\n",
    "    feature_dimension=1,\n",
    "    response_dimension=2,\n",
    "    hidden_dimension=35,\n",
    "    number_of_hidden_layers=8,\n",
    "    epsilon=1e-5,\n",
    "    activation_function_name=\"Softplus\",\n",
    "    network_type = \"SCFFNN\",\n",
    "    potential_to_estimate_with_neural_network=\"y\"\n",
    ")\n",
    "uotqr_picnn = NeuralQuantileRegression(\n",
    "    feature_dimension=1,\n",
    "    response_dimension=1,\n",
    "    hidden_dimension=64,\n",
    "    number_of_hidden_layers=8,\n",
    "    activation_function_name=\"Softplus\",\n",
    "    network_type = \"PISCNN\",\n",
    "    potential_to_estimate_with_neural_network=\"u\"\n",
    ")\n",
    "uotqr = NeuralQuantileRegression(\n",
    "    feature_dimension=1,\n",
    "    response_dimension=2,\n",
    "    hidden_dimension=35,\n",
    "    number_of_hidden_layers=8,\n",
    "    activation_function_name=\"Softplus\",\n",
    "    network_type = \"SCFFNN\",\n",
    "    potential_to_estimate_with_neural_network=\"y\"\n",
    ")\n",
    "\n",
    "print(\"Total number of parameters\")\n",
    "print(f\"\\tCPFlow: {get_total_number_of_parameters(cpflow)}\")\n",
    "print(f\"\\tEOTQR ICNN: {get_total_number_of_parameters(eotqr_icnn)}\")\n",
    "print(f\"\\tEOTQR: {get_total_number_of_parameters(eotqr)}\")\n",
    "print(f\"\\tUOTQR PICNN == UAOTQR: {get_total_number_of_parameters(uotqr_picnn)}\")\n",
    "print(f\"\\tUOTQR == UAOTQR: {get_total_number_of_parameters(uotqr)}\")"
   ]
  },
  {
   "cell_type": "code",
   "execution_count": null,
   "id": "35baac06",
   "metadata": {},
   "outputs": [],
   "source": []
  }
 ],
 "metadata": {
  "kernelspec": {
   "display_name": ".venv",
   "language": "python",
   "name": "python3"
  },
  "language_info": {
   "codemirror_mode": {
    "name": "ipython",
    "version": 3
   },
   "file_extension": ".py",
   "mimetype": "text/x-python",
   "name": "python",
   "nbconvert_exporter": "python",
   "pygments_lexer": "ipython3",
   "version": "3.13.6"
  }
 },
 "nbformat": 4,
 "nbformat_minor": 5
}
