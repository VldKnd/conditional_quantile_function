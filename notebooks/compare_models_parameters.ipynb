{
 "cells": [
  {
   "cell_type": "code",
   "execution_count": 14,
   "id": "fbb57a01",
   "metadata": {},
   "outputs": [
    {
     "name": "stdout",
     "output_type": "stream",
     "text": [
      "Total number of parameters\n",
      "\tCPFlow: 308\n",
      "\tEOTQR ICNN: 347\n",
      "\tEOTQR: 330\n",
      "\tUOTQR PICNN == UAOTQR: 348\n",
      "\tUOTQR == UAOTQR: 330\n"
     ]
    }
   ],
   "source": [
    "from pushforward_operators import (\n",
    "    EntropicOTQuantileRegression,\n",
    "    CPFlow,\n",
    "    UnconstrainedOTQuantileRegression\n",
    ")\n",
    "from utils.network import get_total_number_of_parameters\n",
    "\n",
    "cpflow = CPFlow(\n",
    "    response_dimension=2,\n",
    "    feature_dimension=1,\n",
    "    hidden_dimension=2,\n",
    "    number_of_hidden_layers=2,\n",
    "    n_blocks=4\n",
    ")\n",
    "eotqr_icnn = EntropicOTQuantileRegression(\n",
    "    feature_dimension=1,\n",
    "    response_dimension=2,\n",
    "    hidden_dimension=4,\n",
    "    number_of_hidden_layers=3,\n",
    "    epsilon=1e-5,\n",
    "    activation_function_name=\"Softplus\",\n",
    "    network_type=\"PICNN\",\n",
    "    potential_to_estimate_with_neural_network=\"y\",\n",
    ")\n",
    "eotqr = EntropicOTQuantileRegression(\n",
    "    feature_dimension=1,\n",
    "    response_dimension=2,\n",
    "    hidden_dimension=8,\n",
    "    number_of_hidden_layers=4,\n",
    "    epsilon=1e-5,\n",
    "    activation_function_name=\"Softplus\",\n",
    "    network_type=\"FFNN\",\n",
    "    potential_to_estimate_with_neural_network=\"y\",\n",
    ")\n",
    "uotqr_picnn = UnconstrainedOTQuantileRegression(\n",
    "    feature_dimension=1,\n",
    "    response_dimension=2,\n",
    "    hidden_dimension=4,\n",
    "    number_of_hidden_layers=3,\n",
    "    activation_function_name=\"Softplus\",\n",
    "    network_type = \"PISCNN\",\n",
    "    potential_to_estimate_with_neural_network=\"y\"\n",
    ")\n",
    "uotqr = UnconstrainedOTQuantileRegression(\n",
    "    feature_dimension=1,\n",
    "    response_dimension=2,\n",
    "    hidden_dimension=8,\n",
    "    number_of_hidden_layers=4,\n",
    "    activation_function_name=\"Softplus\",\n",
    "    network_type = \"SCFFNN\",\n",
    "    potential_to_estimate_with_neural_network=\"y\"\n",
    ")\n",
    "\n",
    "print(\"Total number of parameters\")\n",
    "print(f\"\\tCPFlow: {get_total_number_of_parameters(cpflow)}\")\n",
    "print(f\"\\tEOTQR ICNN: {get_total_number_of_parameters(eotqr_icnn)}\")\n",
    "print(f\"\\tEOTQR: {get_total_number_of_parameters(eotqr)}\")\n",
    "print(f\"\\tUOTQR PICNN == UAOTQR: {get_total_number_of_parameters(uotqr_picnn)}\")\n",
    "print(f\"\\tUOTQR == UAOTQR: {get_total_number_of_parameters(uotqr)}\")"
   ]
  },
  {
   "cell_type": "code",
   "execution_count": null,
   "id": "45fb6491",
   "metadata": {},
   "outputs": [],
   "source": []
  }
 ],
 "metadata": {
  "kernelspec": {
   "display_name": "vector-quantile-regression",
   "language": "python",
   "name": "python3"
  },
  "language_info": {
   "codemirror_mode": {
    "name": "ipython",
    "version": 3
   },
   "file_extension": ".py",
   "mimetype": "text/x-python",
   "name": "python",
   "nbconvert_exporter": "python",
   "pygments_lexer": "ipython3",
   "version": "3.13.6"
  }
 },
 "nbformat": 4,
 "nbformat_minor": 5
}
