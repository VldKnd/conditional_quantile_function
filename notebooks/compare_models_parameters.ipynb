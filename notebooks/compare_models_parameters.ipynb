{
 "cells": [
  {
   "cell_type": "code",
   "execution_count": 35,
   "id": "fbb57a01",
   "metadata": {},
   "outputs": [
    {
     "name": "stdout",
     "output_type": "stream",
     "text": [
      "Total number of parameters\n",
      "\tEOTQR: 367\n",
      "\tCPFlow: 324\n",
      "\tUOTQR: 348\n",
      "\tPICNNEOTQR: 347\n",
      "\tUAOTQR: 358\n"
     ]
    }
   ],
   "source": [
    "from pushforward_operators import (\n",
    "    EntropicOTQuantileRegression,\n",
    "    CPFlow,\n",
    "    UnconstrainedOTQuantileRegression,\n",
    "    UnconstrainedAmortizedOTQuantileRegression,\n",
    "    PICNNEntropicOTQuantileRegression\n",
    ")\n",
    "from utils.network import get_total_number_of_parameters\n",
    "\n",
    "cpflow_config = dict(\n",
    "    feature_dimension=1,\n",
    "    response_dimension=2,\n",
    "    hidden_dimension=4,\n",
    "    number_of_hidden_layers=1,\n",
    "    n_blocks=4\n",
    ")\n",
    "cpflow = CPFlow(**cpflow_config)\n",
    "\n",
    "eotqr_config = dict(\n",
    "    feature_dimension=1,\n",
    "    response_dimension=2,\n",
    "    hidden_dimension=6,\n",
    "    number_of_hidden_layers=8,\n",
    "    epsilon=1e-7\n",
    ")\n",
    "eotqr = EntropicOTQuantileRegression(**eotqr_config)\n",
    "\n",
    "picnn_eotqr_config = dict(\n",
    "    x_dimension=1,\n",
    "    y_dimension=2,\n",
    "    u_dimension=4,\n",
    "    z_dimension=4,\n",
    "    number_of_hidden_layers=3,\n",
    "    epsilon=1e-7\n",
    ")\n",
    "picnn_eotqr = PICNNEntropicOTQuantileRegression(**picnn_eotqr_config)\n",
    "\n",
    "uotqr_config = dict(\n",
    "    x_dimension=1,\n",
    "    y_dimension=2,\n",
    "    u_dimension=4,\n",
    "    z_dimension=4,\n",
    "    number_of_hidden_layers=3,\n",
    ")\n",
    "uotqr = UnconstrainedOTQuantileRegression(**uotqr_config)\n",
    "\n",
    "uaotqr_config = dict(\n",
    "    feature_dimension=1,\n",
    "    response_dimension=2,\n",
    "    hidden_dimension=6,\n",
    "    number_of_hidden_layers=7,\n",
    "    activation_function_name=\"ELU\"\n",
    ")\n",
    "uaotqr = UnconstrainedAmortizedOTQuantileRegression(**uaotqr_config)\n",
    "\n",
    "\n",
    "print(\"Total number of parameters\")\n",
    "print(f\"\\tEOTQR: {get_total_number_of_parameters(eotqr)}\")\n",
    "print(f\"\\tCPFlow: {get_total_number_of_parameters(cpflow)}\")\n",
    "print(f\"\\tUOTQR: {get_total_number_of_parameters(uotqr)}\")\n",
    "print(f\"\\tPICNNEOTQR: {get_total_number_of_parameters(picnn_eotqr)}\")\n",
    "print(f\"\\tUAOTQR: {get_total_number_of_parameters(uaotqr) // 2}\")"
   ]
  },
  {
   "cell_type": "code",
   "execution_count": null,
   "id": "b05a5a0a",
   "metadata": {},
   "outputs": [],
   "source": []
  }
 ],
 "metadata": {
  "kernelspec": {
   "display_name": "vector-quantile-regression",
   "language": "python",
   "name": "python3"
  },
  "language_info": {
   "codemirror_mode": {
    "name": "ipython",
    "version": 3
   },
   "file_extension": ".py",
   "mimetype": "text/x-python",
   "name": "python",
   "nbconvert_exporter": "python",
   "pygments_lexer": "ipython3",
   "version": "3.13.6"
  }
 },
 "nbformat": 4,
 "nbformat_minor": 5
}
