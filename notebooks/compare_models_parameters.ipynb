{
 "cells": [
  {
   "cell_type": "code",
   "execution_count": 1,
   "id": "fbb57a01",
   "metadata": {},
   "outputs": [
    {
     "name": "stdout",
     "output_type": "stream",
     "text": [
      "Total number of parameters\n",
      "\tEOTQR: 329\n",
      "\tCPFlow: 316\n",
      "\tUOTQR: 360\n"
     ]
    }
   ],
   "source": [
    "from pushforward_operators import EntropicOTQuantileRegression, CPFlow, UnconstrainedOTQuantileRegression\n",
    "from utils.network import get_total_number_of_parameters\n",
    "\n",
    "eotqr_config = dict(\n",
    "    feature_dimension=1,\n",
    "    response_dimension=2,\n",
    "    hidden_dimension=8,\n",
    "    number_of_hidden_layers=4,\n",
    "    epsilon=1e-7\n",
    ")\n",
    "eotqr = EntropicOTQuantileRegression(**eotqr_config)\n",
    "\n",
    "cpflow_config = dict(\n",
    "    feature_dimension=2,\n",
    "    response_dimension=2,\n",
    "    hidden_dimension=2,\n",
    "    number_of_hidden_layers=2,\n",
    "    n_blocks=4\n",
    ")\n",
    "cpflow = CPFlow(**cpflow_config)\n",
    "\n",
    "uotqr_config = dict(\n",
    "    alpha=0.5,\n",
    "    x_dimension=1,\n",
    "    y_dimension=2,\n",
    "    u_dimension=3,\n",
    "    z_dimension=4,\n",
    "    number_of_hidden_layers=4\n",
    ")\n",
    "uotqr = UnconstrainedOTQuantileRegression(**uotqr_config)\n",
    "\n",
    "print(\"Total number of parameters\")\n",
    "print(f\"\\tEOTQR: {get_total_number_of_parameters(eotqr)}\")\n",
    "print(f\"\\tCPFlow: {get_total_number_of_parameters(cpflow)}\")\n",
    "print(f\"\\tUOTQR: {get_total_number_of_parameters(uotqr)}\")"
   ]
  }
 ],
 "metadata": {
  "kernelspec": {
   "display_name": "vector_quantile_regression",
   "language": "python",
   "name": "vector_quantile_regression"
  },
  "language_info": {
   "codemirror_mode": {
    "name": "ipython",
    "version": 3
   },
   "file_extension": ".py",
   "mimetype": "text/x-python",
   "name": "python",
   "nbconvert_exporter": "python",
   "pygments_lexer": "ipython3",
   "version": "3.13.2"
  }
 },
 "nbformat": 4,
 "nbformat_minor": 5
}
