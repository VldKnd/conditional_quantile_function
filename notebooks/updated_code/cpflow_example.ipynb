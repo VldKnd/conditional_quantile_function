{
 "cells": [
  {
   "cell_type": "code",
   "execution_count": 10,
   "id": "2c0768f1",
   "metadata": {},
   "outputs": [
    {
     "data": {
      "application/vnd.jupyter.widget-view+json": {
       "model_id": "7536b8c8ace640c7ab15c8ec8d1a832a",
       "version_major": 2,
       "version_minor": 0
      },
      "text/plain": [
       "  0%|          | 0/20 [00:00<?, ?it/s]"
      ]
     },
     "metadata": {},
     "output_type": "display_data"
    },
    {
     "name": "stdout",
     "output_type": "stream",
     "text": [
      "init loss: -1.6236190795898438\n",
      "10 -1.8265803456306458\n",
      "20 -3.7979353427886964\n",
      "30 -5.829952442646027\n",
      "40 -7.832402086257934\n",
      "50 -9.858985638618469\n",
      "60 -11.847374188899995\n",
      "70 -13.820538806915284\n",
      "80 -15.822805047035217\n"
     ]
    }
   ],
   "source": [
    "from cpflow.core_flow import CPFlow\n",
    "from datasets.synthetic.banana import BananaDataset\n",
    "import torch\n",
    "from utils import TrainParams\n",
    "\n",
    "dataset = BananaDataset()\n",
    "X_dataset, Y_dataset = dataset.sample_joint(n_points=1000)\n",
    "\n",
    "device_and_dtype_specifications = dict(dtype=torch.float32, device=torch.device(\"cpu\"))\n",
    "\n",
    "X_dataset = X_dataset.to(**device_and_dtype_specifications)\n",
    "Y_dataset = Y_dataset.to(**device_and_dtype_specifications)\n",
    "dataloader = torch.utils.data.DataLoader(\n",
    "    torch.utils.data.TensorDataset(X_dataset, Y_dataset), batch_size=256, shuffle=True\n",
    ")\n",
    "\n",
    "cpflow = CPFlow(\n",
    "    feature_dimension=X_dataset.shape[1],\n",
    "    response_dimension=Y_dataset.shape[1],\n",
    "    hidden_dimension=2,\n",
    "    number_of_hidden_layers=2,\n",
    "    n_blocks=4\n",
    ")\n",
    "# cpflow.to(**device_and_dtype_specifications)\n",
    "\n",
    "train_params = TrainParams(num_epochs=20, learning_rate=0.01, verbose=True)\n",
    "_ = cpflow.fit(train_loader=dataloader, train_params=train_params)\n",
    "\n",
    "# # to save the model:\n",
    "# cpflow.save(\"cpflow.pth\")\n",
    "\n",
    "# to load the model:\n",
    "# cpflow = cpflow.load(\"cpflow.pth\")\n",
    "# cpflow.to(**device_and_dtype_specifications)"
   ]
  },
  {
   "cell_type": "code",
   "execution_count": null,
   "id": "b6d6b0d2",
   "metadata": {},
   "outputs": [],
   "source": [
    "%matplotlib inline\n",
    "from utils import plot_potentials_from_banana_dataset\n",
    "\n",
    "plot_potentials_from_banana_dataset(\n",
    "    model=cpflow, device_and_dtype_specifications=device_and_dtype_specifications\n",
    ")"
   ]
  }
 ],
 "metadata": {
  "kernelspec": {
   "display_name": "vector_quantile_regression",
   "language": "python",
   "name": "vector_quantile_regression"
  },
  "language_info": {
   "codemirror_mode": {
    "name": "ipython",
    "version": 3
   },
   "file_extension": ".py",
   "mimetype": "text/x-python",
   "name": "python",
   "nbconvert_exporter": "python",
   "pygments_lexer": "ipython3",
   "version": "3.13.2"
  }
 },
 "nbformat": 4,
 "nbformat_minor": 5
}
