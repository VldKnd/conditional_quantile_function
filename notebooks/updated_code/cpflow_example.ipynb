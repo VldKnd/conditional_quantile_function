{
 "cells": [
  {
   "cell_type": "code",
   "execution_count": 4,
   "id": "2c0768f1",
   "metadata": {},
   "outputs": [
    {
     "data": {
      "application/vnd.jupyter.widget-view+json": {
       "model_id": "de8c09babbbb4aff99690318db14dc83",
       "version_major": 2,
       "version_minor": 0
      },
      "text/plain": [
       "  0%|          | 0/20 [00:00<?, ?it/s]"
      ]
     },
     "metadata": {},
     "output_type": "display_data"
    },
    {
     "name": "stdout",
     "output_type": "stream",
     "text": [
      "init loss: 3.054022789001465\n",
      "10 3.185630679130554\n",
      "20 6.126962280273437\n",
      "30 9.046402931213379\n",
      "40 11.891076016426087\n",
      "50 14.728806829452514\n",
      "60 17.530740761756896\n",
      "70 20.44695100784302\n",
      "80 23.476261377334595\n",
      "90 26.57830367088318\n",
      "100 29.764947533607483\n",
      "110 32.86534218788147\n",
      "120 35.99923675060272\n",
      "130 39.273923778533934\n",
      "140 42.42712600231171\n",
      "150 45.72756814956665\n",
      "160 48.90705099105835\n",
      "170 52.17778346538544\n",
      "180 55.429868483543395\n",
      "190 58.66155035495758\n",
      "200 61.934737372398374\n",
      "210 65.15743992328643\n",
      "220 68.40668489933014\n",
      "230 71.68049404621124\n",
      "240 74.95433347225189\n",
      "250 78.24238171577454\n",
      "260 81.51716945171356\n",
      "270 84.77377524375916\n",
      "280 88.00615389347077\n",
      "290 91.30153639316559\n",
      "300 94.52443990707397\n",
      "310 97.87239034175873\n",
      "320 101.08295078277588\n"
     ]
    }
   ],
   "source": [
    "from cpflow.core_flow import CPFlow\n",
    "from datasets.synthetic.banana import BananaDataset\n",
    "import torch\n",
    "from utils import TrainParams\n",
    "\n",
    "dataset = BananaDataset()\n",
    "X_dataset, Y_dataset = dataset.sample_joint(n_points=1000)\n",
    "\n",
    "device_and_dtype_specifications = dict(dtype=torch.float32, device=torch.device(\"cpu\"))\n",
    "\n",
    "X_dataset = X_dataset.to(**device_and_dtype_specifications)\n",
    "Y_dataset = Y_dataset.to(**device_and_dtype_specifications)\n",
    "dataloader = torch.utils.data.DataLoader(\n",
    "    torch.utils.data.TensorDataset(X_dataset, Y_dataset), batch_size=64, shuffle=True\n",
    ")\n",
    "\n",
    "cpflow = CPFlow(\n",
    "    feature_dimension=X_dataset.shape[1],\n",
    "    response_dimension=Y_dataset.shape[1],\n",
    "    hidden_dimension=20,\n",
    "    number_of_hidden_layers=2,\n",
    "    n_blocks=1\n",
    ")\n",
    "# cpflow.to(**device_and_dtype_specifications)\n",
    "\n",
    "train_params = TrainParams(num_epochs=20, learning_rate=0.001, verbose=True)\n",
    "_ = cpflow.fit(train_loader=dataloader, train_params=train_params)\n",
    "\n",
    "# # to save the model:\n",
    "# cpflow.save(\"cpflow.pth\")\n",
    "\n",
    "# to load the model:\n",
    "# cpflow = cpflow.load(\"cpflow.pth\")\n",
    "# cpflow.to(**device_and_dtype_specifications)"
   ]
  },
  {
   "cell_type": "code",
   "execution_count": 5,
   "id": "b6d6b0d2",
   "metadata": {},
   "outputs": [
    {
     "name": "stderr",
     "output_type": "stream",
     "text": [
      "/Users/vladimirkondratev/conditional_quantile_function/src/cpflow/cpflows.py:219: UserWarning: brute force\n",
      "  warnings.warn(\"brute force\")\n"
     ]
    }
   ],
   "source": [
    "%matplotlib qt\n",
    "from utils import plot_potentials_from_banana_dataset\n",
    "\n",
    "plot_potentials_from_banana_dataset(\n",
    "    model=cpflow, device_and_dtype_specifications=device_and_dtype_specifications\n",
    ")"
   ]
  }
 ],
 "metadata": {
  "kernelspec": {
   "display_name": "vector_quantile_regression",
   "language": "python",
   "name": "vector_quantile_regression"
  },
  "language_info": {
   "codemirror_mode": {
    "name": "ipython",
    "version": 3
   },
   "file_extension": ".py",
   "mimetype": "text/x-python",
   "name": "python",
   "nbconvert_exporter": "python",
   "pygments_lexer": "ipython3",
   "version": "3.13.2"
  }
 },
 "nbformat": 4,
 "nbformat_minor": 5
}
