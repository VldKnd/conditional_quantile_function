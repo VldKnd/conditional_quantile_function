{
 "cells": [
  {
   "cell_type": "code",
   "execution_count": null,
   "id": "f7182ad6",
   "metadata": {},
   "outputs": [
    {
     "name": "stderr",
     "output_type": "stream",
     "text": [
      "Epoch: 1, objective: 4.038: 100%|██████████| 1/1 [00:00<00:00,  1.02it/s]\n"
     ]
    }
   ],
   "source": [
    "from quantile_regression.entropic_optimal_transport import EntropicOTQuantileRegression\n",
    "from old_source_code.data import create_joint_x_y\n",
    "import torch\n",
    "from utils import TrainParams\n",
    "import torch.nn as nn\n",
    "\n",
    "X, Y = create_joint_x_y(1000)\n",
    "X_dataset = torch.from_numpy(X)\n",
    "Y_dataset = torch.from_numpy(Y)\n",
    "device_and_dtype_specifications = dict(\n",
    "    dtype=torch.float64,\n",
    "    device=torch.device(\"cpu\")\n",
    ")\n",
    "\n",
    "X_dataset = X_dataset.to(**device_and_dtype_specifications)\n",
    "Y_dataset = Y_dataset.to(**device_and_dtype_specifications)\n",
    "\n",
    "dataloader = torch.utils.data.DataLoader(torch.utils.data.TensorDataset(X_dataset, Y_dataset), batch_size=256, shuffle=True)\n",
    "train_params = TrainParams(num_epochs=1, learning_rate=1e-2, verbose=True)\n",
    "\n",
    "eotqr = EntropicOTQuantileRegression(feature_dimension=X_dataset.shape[1], response_dimension=Y_dataset.shape[1], hidden_dimension=20, number_of_hidden_layers=1, epsilon=1e-7)\n",
    "eotqr.to(**device_and_dtype_specifications)\n",
    "_ = eotqr.fit(dataloader, train_params=train_params)\n",
    "\n",
    "# to save the model:\n",
    "eotqr.save(\"eotqr.pth\")\n",
    "\n",
    "# to load the model:\n",
    "# _ = eotqr.load(\"eotqr.pth\")"
   ]
  },
  {
   "cell_type": "code",
   "execution_count": null,
   "id": "6def3489",
   "metadata": {},
   "outputs": [],
   "source": [
    "%matplotlib inline\n",
    "from utils import plot_potentials_from_banana_dataset\n",
    "\n",
    "eotqr.eval()\n",
    "plot_potentials_from_banana_dataset(model=eotqr, device_and_dtype_specifications=device_and_dtype_specifications)"
   ]
  }
 ],
 "metadata": {
  "kernelspec": {
   "display_name": "vector_quantile_regression",
   "language": "python",
   "name": "vector_quantile_regression"
  },
  "language_info": {
   "codemirror_mode": {
    "name": "ipython",
    "version": 3
   },
   "file_extension": ".py",
   "mimetype": "text/x-python",
   "name": "python",
   "nbconvert_exporter": "python",
   "pygments_lexer": "ipython3",
   "version": "3.13.2"
  }
 },
 "nbformat": 4,
 "nbformat_minor": 5
}
