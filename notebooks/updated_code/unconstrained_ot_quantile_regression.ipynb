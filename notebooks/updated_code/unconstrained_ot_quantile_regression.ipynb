{
 "cells": [
  {
   "cell_type": "code",
   "execution_count": 1,
   "id": "f7182ad6",
   "metadata": {},
   "outputs": [
    {
     "name": "stderr",
     "output_type": "stream",
     "text": [
      "Epoch: 1000, objective: 2.821: 100%|██████████| 1000/1000 [04:24<00:00,  3.78it/s]\n"
     ]
    }
   ],
   "source": [
    "from quantile_regression.unconstrained_optimal_transport import UnconstrainedOTQuantileRegression\n",
    "from old_source_code.data import create_joint_x_y\n",
    "from utils import TrainParams\n",
    "import torch\n",
    "\n",
    "X, Y = create_joint_x_y(1000)\n",
    "X_batch = torch.from_numpy(X)\n",
    "Y_batch = torch.from_numpy(Y)\n",
    "dataloader = torch.utils.data.DataLoader(torch.utils.data.TensorDataset(X_batch, Y_batch), batch_size=128, shuffle=True)\n",
    "train_params = TrainParams(num_epochs=1000, learning_rate=1e-3, verbose=True)\n",
    "\n",
    "uotqr = UnconstrainedOTQuantileRegression(\n",
    "    alpha=0.01,\n",
    "    x_dimension=X.shape[1],\n",
    "    y_dimension=Y.shape[1],\n",
    "    u_dimension=10,\n",
    "    z_dimension=10,\n",
    "    number_of_hidden_layers=1\n",
    ")\n",
    "_ = uotqr.fit(dataloader, train_params=train_params)"
   ]
  },
  {
   "cell_type": "code",
   "execution_count": 4,
   "id": "6def3489",
   "metadata": {},
   "outputs": [],
   "source": [
    "%matplotlib qt\n",
    "import matplotlib.pyplot as plt\n",
    "from old_source_code.data import create_conditional_x\n",
    "import matplotlib\n",
    "fig, (ax1, ax2) = plt.subplots(1, 2, figsize=(20, 10), subplot_kw={'projection': '3d'})\n",
    "fig.suptitle('Separated 3D Plots', fontsize=16)\n",
    "\n",
    "ax1.set_title('Conditional Scatter Data (y_x_gt)')\n",
    "ax1.set_xlabel('Axis 0')\n",
    "ax1.set_ylabel('Axis 1')\n",
    "ax1.set_zlabel('x_ value')\n",
    "\n",
    "for x_ in range(50, 250, 10):\n",
    "    x = torch.tensor([x_ / 100, 1])\n",
    "\n",
    "    # This section is now active for the first plot\n",
    "    _, y_x_gt = create_conditional_x(n_points=100, x_value=x[0].item())\n",
    "    z_scatter = torch.full((_.shape[0],),  x_)\n",
    "    ax1.scatter(y_x_gt[:, 0], y_x_gt[:, 1], z_scatter, color='blue', marker='o', s=30, alpha=0.2)\n",
    "\n",
    "ax1.view_init(elev=-55, azim=154, roll=-83)\n",
    "\n",
    "ax2.set_title('Contour Lines')\n",
    "ax2.set_xlabel('Axis 0')\n",
    "ax2.set_ylabel('Axis 1')\n",
    "ax2.set_zlabel('x_ value')\n",
    "color_map = matplotlib.colormaps['viridis']\n",
    "\n",
    "loop_start_value = 50\n",
    "for x_ in range(loop_start_value, 250, 10):\n",
    "    X_batch = torch.tensor([[x_ / 100]]).repeat(100, 1)\n",
    "\n",
    "    radii = torch.linspace(0.01, 2, 10)\n",
    "    colors = [color_map(i / len(radii)) for i in range(len(radii))]\n",
    "    for contour_radius, color in zip(radii, colors):\n",
    "        pi = torch.linspace(-torch.pi, torch.pi, 100) # Use linspace for a perfectly smooth circle\n",
    "\n",
    "        u = torch.stack([\n",
    "            contour_radius * torch.cos(pi),\n",
    "            contour_radius * torch.sin(pi),\n",
    "        ]).T\n",
    "\n",
    "        pushforward_of_u = uotqr.push_forward_u_given_x(u, X=X_batch).detach().cpu()\n",
    "        z_line = torch.full((pushforward_of_u.shape[0], ), x_)\n",
    "\n",
    "        label = f'Radius {contour_radius:.2f}' if x_ == loop_start_value else \"\"\n",
    "        ax2.plot(pushforward_of_u[:, 0], pushforward_of_u[:, 1], z_line, color=color, linewidth=2.5, label=label)\n",
    "        ax1.plot(pushforward_of_u[:, 0], pushforward_of_u[:, 1], z_line, color=color, linewidth=2.5, label=label)\n",
    "\n",
    "ax2.view_init(elev=-55, azim=154, roll=-83)\n",
    "ax2.legend()\n",
    "\n",
    "plt.tight_layout(rect=[0, 0, 1, 0.96])\n",
    "plt.show()"
   ]
  }
 ],
 "metadata": {
  "kernelspec": {
   "display_name": "vector_quantile_regression",
   "language": "python",
   "name": "vector_quantile_regression"
  },
  "language_info": {
   "codemirror_mode": {
    "name": "ipython",
    "version": 3
   },
   "file_extension": ".py",
   "mimetype": "text/x-python",
   "name": "python",
   "nbconvert_exporter": "python",
   "pygments_lexer": "ipython3",
   "version": "3.13.2"
  }
 },
 "nbformat": 4,
 "nbformat_minor": 5
}
