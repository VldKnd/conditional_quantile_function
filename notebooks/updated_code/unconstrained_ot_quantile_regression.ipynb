{
 "cells": [
  {
   "cell_type": "code",
   "execution_count": 1,
   "id": "f7182ad6",
   "metadata": {},
   "outputs": [],
   "source": [
    "from quantile_regression.unconstrained_optimal_transport import UnconstrainedOTQuantileRegression\n",
    "from old_source_code.data import create_joint_x_y\n",
    "from utils import TrainParams\n",
    "import torch\n",
    "\n",
    "X, Y = create_joint_x_y(1000)\n",
    "X_dataset = torch.from_numpy(X)\n",
    "Y_dataset = torch.from_numpy(Y)\n",
    "device_and_dtype_specifications = dict(\n",
    "    dtype=torch.float64,\n",
    "    device=torch.device(\"cpu\")\n",
    ")\n",
    "\n",
    "X_dataset = X_dataset.to(**device_and_dtype_specifications)\n",
    "Y_dataset = Y_dataset.to(**device_and_dtype_specifications)\n",
    "\n",
    "dataloader = torch.utils.data.DataLoader(torch.utils.data.TensorDataset(X_dataset, Y_dataset), batch_size=256, shuffle=True)\n",
    "train_params = TrainParams(num_epochs=500, learning_rate=1e-1, verbose=True)\n",
    "\n",
    "uotqr = UnconstrainedOTQuantileRegression(\n",
    "    alpha=0.01,\n",
    "    x_dimension=X.shape[1],\n",
    "    y_dimension=Y.shape[1],\n",
    "    u_dimension=10,\n",
    "    z_dimension=10,\n",
    "    number_of_hidden_layers=2\n",
    ")\n",
    "uotqr.to(**device_and_dtype_specifications)\n",
    "# _ = uotqr.fit(dataloader, train_params=train_params)\n",
    "\n",
    "# to save the model:\n",
    "# uotqr.save(\"uotqr.pth\")\n",
    "\n",
    "# to load the model:\n",
    "_ = uotqr.load(\"uotqr.pth\")"
   ]
  },
  {
   "cell_type": "code",
   "execution_count": 3,
   "id": "6def3489",
   "metadata": {},
   "outputs": [],
   "source": [
    "%matplotlib qt\n",
    "from utils import plot_potentials_from_banana_dataset\n",
    "\n",
    "uotqr.eval()\n",
    "plot_potentials_from_banana_dataset(model=uotqr, device_and_dtype_specifications=device_and_dtype_specifications)"
   ]
  }
 ],
 "metadata": {
  "kernelspec": {
   "display_name": "vector_quantile_regression",
   "language": "python",
   "name": "vector_quantile_regression"
  },
  "language_info": {
   "codemirror_mode": {
    "name": "ipython",
    "version": 3
   },
   "file_extension": ".py",
   "mimetype": "text/x-python",
   "name": "python",
   "nbconvert_exporter": "python",
   "pygments_lexer": "ipython3",
   "version": "3.13.2"
  }
 },
 "nbformat": 4,
 "nbformat_minor": 5
}
