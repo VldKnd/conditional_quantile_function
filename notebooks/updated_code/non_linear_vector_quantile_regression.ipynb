{
 "cells": [
  {
   "cell_type": "code",
   "execution_count": 2,
   "id": "a189e14e",
   "metadata": {},
   "outputs": [
    {
     "name": "stderr",
     "output_type": "stream",
     "text": [
      "100%|██████████| 2000/2000 [00:20<00:00, 96.84it/s] \n"
     ]
    }
   ],
   "source": [
    "from quantile_regression.fast_non_linear_vector_quantile_regression import FastNonLinearVectorQuantileRegression\n",
    "from old_source_code.data import create_joint_x_y\n",
    "import torch\n",
    "from utils import TrainParams\n",
    "\n",
    "X, Y = create_joint_x_y(1000)\n",
    "device_type_and_specification = {\n",
    "    \"device\": \"cpu\",\n",
    "    \"dtype\": torch.float64\n",
    "}\n",
    "\n",
    "X_batch = torch.from_numpy(X).to(**device_type_and_specification)\n",
    "Y_batch = torch.from_numpy(Y).to(**device_type_and_specification)\n",
    "dataloader = torch.utils.data.DataLoader(torch.utils.data.TensorDataset(X_batch, Y_batch), batch_size=10, shuffle=True)\n",
    "\n",
    "nlvqr = FastNonLinearVectorQuantileRegression(input_dimension=1, embedding_dimension=5, hidden_dimension=100, number_of_hidden_layers=1)\n",
    "_ = nlvqr.fit(dataloader, train_params=TrainParams(num_epochs=2000, learning_rate=0.1, verbose=True))\n",
    "\n",
    "# to save the model:\n",
    "# nlvqr.save(\"nlvqr.pth\")\n",
    "\n",
    "# to load the model:\n",
    "# _ = nlvqr.load(\"nlvqr.pth\")"
   ]
  },
  {
   "cell_type": "code",
   "execution_count": 5,
   "id": "1e3a6431",
   "metadata": {},
   "outputs": [
    {
     "name": "stderr",
     "output_type": "stream",
     "text": [
      "/Users/vladimirkondratev/conditional_quantile_function/src/quantile_regression/fast_non_linear_vector_quantile_regression.py:142: UserWarning: To copy construct from a tensor, it is recommended to use sourceTensor.detach().clone() or sourceTensor.detach().clone().requires_grad_(True), rather than torch.tensor(sourceTensor).\n",
      "  point = torch.tensor(point)\n"
     ]
    }
   ],
   "source": [
    "%matplotlib qt\n",
    "from utils import plot_potentials_from_banana_dataset\n",
    "\n",
    "plot_potentials_from_banana_dataset(model=nlvqr, device_and_dtype_specifications=device_type_and_specification)"
   ]
  }
 ],
 "metadata": {
  "kernelspec": {
   "display_name": "vector_quantile_regression",
   "language": "python",
   "name": "vector_quantile_regression"
  },
  "language_info": {
   "codemirror_mode": {
    "name": "ipython",
    "version": 3
   },
   "file_extension": ".py",
   "mimetype": "text/x-python",
   "name": "python",
   "nbconvert_exporter": "python",
   "pygments_lexer": "ipython3",
   "version": "3.13.2"
  }
 },
 "nbformat": 4,
 "nbformat_minor": 5
}
